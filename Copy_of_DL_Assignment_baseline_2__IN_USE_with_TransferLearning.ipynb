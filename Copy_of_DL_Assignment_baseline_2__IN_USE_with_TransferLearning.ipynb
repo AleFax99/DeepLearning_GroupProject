{
  "cells": [
    {
      "cell_type": "markdown",
      "metadata": {
        "id": "view-in-github",
        "colab_type": "text"
      },
      "source": [
        "<a href=\"https://colab.research.google.com/github/AleFax99/DeepLearning_GroupProject/blob/main/Copy_of_DL_Assignment_baseline_2__IN_USE_with_TransferLearning.ipynb\" target=\"_parent\"><img src=\"https://colab.research.google.com/assets/colab-badge.svg\" alt=\"Open In Colab\"/></a>"
      ]
    },
    {
      "cell_type": "markdown",
      "metadata": {
        "id": "xveQIshNWYdc"
      },
      "source": [
        "# Loading Dataset\n",
        "\n",
        "You can download the dataset from {https://darwin.v7labs.com/v7-labs/covid-19-chest-x-ray-dataset?sort=priority\\%3Adesc}.\n",
        "The data entitled as '`darwin dataset pull v7-labs/covid-19-chest-x-ray-dataset:all-images`' will be used in this assignment. All dataset consist of 6504 images from 702 classes. We will extract the images of 4 classes (Bacterial Pneumonia, Viral Pneumonia, No Pneumonia (healthy), Covid-19) and save them as .npy file with the following code:"
      ]
    },
    {
      "cell_type": "code",
      "source": [
        "from google.colab import drive\n",
        "drive.mount('/content/drive')"
      ],
      "metadata": {
        "colab": {
          "base_uri": "https://localhost:8080/"
        },
        "id": "DlgH4Tr-h0ra",
        "outputId": "f69b8117-3b68-421b-b59b-47b9f2fd1c7d"
      },
      "execution_count": 1,
      "outputs": [
        {
          "output_type": "stream",
          "name": "stdout",
          "text": [
            "Drive already mounted at /content/drive; to attempt to forcibly remount, call drive.mount(\"/content/drive\", force_remount=True).\n"
          ]
        }
      ]
    },
    {
      "cell_type": "code",
      "source": [
        "# %cd /content/drive/MyDrive/Deep Learning - Group Project \n",
        "#### Andreea Gdrive path"
      ],
      "metadata": {
        "id": "xj-QTC3Vx0YP"
      },
      "execution_count": null,
      "outputs": []
    },
    {
      "cell_type": "code",
      "source": [
        "%cd /content/drive/MyDrive/Deep Learning - Group Project\n",
        "!pwd"
      ],
      "metadata": {
        "id": "5BzFl_xzjC3f",
        "colab": {
          "base_uri": "https://localhost:8080/"
        },
        "outputId": "e1759750-9615-400d-de79-079588384980"
      },
      "execution_count": 2,
      "outputs": [
        {
          "output_type": "stream",
          "name": "stdout",
          "text": [
            "/content/drive/.shortcut-targets-by-id/1qsBT4V5PUBeJK1UavH8V46pQAoKjtkPa/Deep Learning - Group Project\n",
            "/content/drive/.shortcut-targets-by-id/1qsBT4V5PUBeJK1UavH8V46pQAoKjtkPa/Deep Learning - Group Project\n"
          ]
        }
      ]
    },
    {
      "cell_type": "code",
      "source": [
        "import numpy as np\n",
        "import pandas as pd\n",
        "\n",
        "y_train = np.load('./y_train.npy')\n",
        "y_test = np.load('./y_test.npy')\n",
        "y_val = np.load('./y_val.npy')\n",
        "X_train = np.load('./X_train.npy')\n",
        "X_test = np.load('./X_test.npy')\n",
        "X_val = np.load('./X_val.npy')"
      ],
      "metadata": {
        "id": "eG19eSeRY3yM"
      },
      "execution_count": 3,
      "outputs": []
    },
    {
      "cell_type": "code",
      "source": [
        "print(X_train.shape, X_val.shape, X_test.shape)"
      ],
      "metadata": {
        "id": "XtvwJYBKitCN",
        "colab": {
          "base_uri": "https://localhost:8080/"
        },
        "outputId": "69fef694-a8bf-41d4-9ea2-ccd121d00a92"
      },
      "execution_count": 4,
      "outputs": [
        {
          "output_type": "stream",
          "name": "stdout",
          "text": [
            "(3840, 156, 156, 3) (1280, 156, 156, 3) (1281, 156, 156, 3)\n"
          ]
        }
      ]
    },
    {
      "cell_type": "code",
      "source": [
        "# import json\n",
        "# import numpy as np\n",
        "# import glob\n",
        "# import pandas as pd\n",
        "\n",
        "# # importing modules\n",
        "# import urllib.request\n",
        "# from PIL import Image\n",
        "# from keras import layers, models\n"
      ],
      "metadata": {
        "id": "_dF2YNr03Czt"
      },
      "execution_count": null,
      "outputs": []
    },
    {
      "cell_type": "code",
      "source": [
        "# import json\n",
        "# import numpy as np\n",
        "# import glob\n",
        "# import pandas as pd\n",
        "\n",
        "# # importing modules\n",
        "# import urllib.request\n",
        "# from PIL import Image\n",
        "# from keras import layers, models\n",
        "# import tensorflow as tf\n",
        "\n",
        "# # all-images file should be uploaded to the same file\n",
        "# imageNames = glob.glob(\"./all-images/*\")\n",
        "# print(type(imageNames))\n",
        "# print(len(imageNames))\n",
        "# print(imageNames)"
      ],
      "metadata": {
        "id": "BF_rmtOElt08"
      },
      "execution_count": null,
      "outputs": []
    },
    {
      "cell_type": "code",
      "execution_count": null,
      "metadata": {
        "id": "I6bqTVRSs-sw"
      },
      "outputs": [],
      "source": [
        "\n",
        "# import json\n",
        "# import numpy as np\n",
        "# import glob\n",
        "# import pandas as pd\n",
        "\n",
        "# # importing modules\n",
        "# import urllib.request\n",
        "# from PIL import Image\n",
        "# from keras import layers, models\n",
        "# import tensorflow as tf\n",
        "\n",
        "# # all-images file should be uploaded to the same file\n",
        "# imageNames = glob.glob(\"./all-images/*\")\n",
        "\n",
        "# dataset = []\n",
        "# labels = []\n",
        "\n",
        "# for i, imName in enumerate(imageNames):\n",
        "\n",
        "#     # Opening JSON file\n",
        "#     f = open(imName)\n",
        "#     data = json.load(f)\n",
        "#     for j in range(len(data['annotations'])):\n",
        "\n",
        "#         if 'COVID-19' in (data['annotations'][j]['name']):\n",
        "#           #load images from url    \n",
        "#             urllib.request.urlretrieve(data['image']['url'],\"img.png\")    \n",
        "#             img = Image.open(\"img.png\")\n",
        "#             #convert images to grayscale\n",
        "#             imgGray = img.convert('L')\n",
        "#             #resize the image (156x156)\n",
        "#             im = imgGray.resize((156,156), Image.LANCZOS)           \n",
        "#             label = data['annotations'][j]['name']\n",
        "#             dataset.append(np.array(im))\n",
        "#             labels.append(label)\n",
        "#             print(label)\n",
        "#             break\n",
        "\n",
        "#         if 'Viral Pneumonia' in (data['annotations'][j]['name']) \\\n",
        "#             or 'Bacterial Pneumonia' in (data['annotations'][j]['name']) \\\n",
        "#             or 'No Pneumonia (healthy)' in (data['annotations'][j]['name']):\n",
        "#             #load images from url    \n",
        "#             urllib.request.urlretrieve(data['image']['url'],\"img.png\")    \n",
        "#             img = Image.open(\"img.png\")\n",
        "#             #convert images to grayscale\n",
        "#             imgGray = img.convert('L')\n",
        "#             #resize the image (156x156)\n",
        "#             im = imgGray.resize((156,156), Image.LANCZOS)           \n",
        "#             label = data['annotations'][j]['name']\n",
        "#             dataset.append(np.array(im))\n",
        "#             labels.append(label)\n",
        "#             break\n",
        "\n",
        "# #Convert data shape of (n_of_samples, width, height, 1)\n",
        "# dataset = np.dstack(dataset)    \n",
        "# dataset = np.rollaxis(dataset,-1)\n",
        "# labels = np.array(labels)\n",
        "\n",
        "# #convert images gray scale to rgb\n",
        "# data = np.array(layers.Lambda(tf.image.grayscale_to_rgb)(tf.expand_dims(dataset, -1)))\n",
        "\n",
        "# # save data and labels into a folder\n",
        "# np.save(\"./data.npy\", data)\n",
        "# np.save(\"./labels.npy\", labels)"
      ]
    },
    {
      "cell_type": "markdown",
      "metadata": {
        "id": "Dn3sH7yJWboe"
      },
      "source": [
        "Once you save your data, you can load it from your directory."
      ]
    },
    {
      "cell_type": "code",
      "execution_count": 8,
      "metadata": {
        "id": "b6ZPDhVLWbyq"
      },
      "outputs": [],
      "source": [
        "import numpy as np\n",
        "\n",
        "data = np.load('./data.npy')\n",
        "labels = np.load('./labels.npy')"
      ]
    },
    {
      "cell_type": "markdown",
      "metadata": {
        "id": "B1b7dP-VbJpC"
      },
      "source": [
        "# Preprocessing Steps\n",
        "\n"
      ]
    },
    {
      "cell_type": "markdown",
      "metadata": {
        "id": "xC_YmdQMbn1K"
      },
      "source": [
        "## Splitting Data"
      ]
    },
    {
      "cell_type": "code",
      "execution_count": 9,
      "metadata": {
        "id": "xStbdJAHblFv",
        "outputId": "030c8b26-2a34-42f2-8a2c-21e8a9fadfcb",
        "colab": {
          "base_uri": "https://localhost:8080/"
        }
      },
      "outputs": [
        {
          "output_type": "stream",
          "name": "stdout",
          "text": [
            "(3840, 156, 156, 3) (1280, 156, 156, 3) (1281, 156, 156, 3)\n"
          ]
        }
      ],
      "source": [
        "from sklearn.model_selection import train_test_split\n",
        "X_train_val, X_test, y_train_val, y_test = train_test_split(data, labels, test_size= 0.2, stratify= labels, random_state=42)\n",
        "\n",
        "X_train, X_val, y_train, y_val = train_test_split(X_train_val, y_train_val, test_size= 0.25, stratify= y_train_val , random_state=42)\n",
        "\n",
        "print(X_train.shape, X_val.shape, X_test.shape)\n"
      ]
    },
    {
      "cell_type": "markdown",
      "metadata": {
        "id": "R-r4ta3MbKLJ"
      },
      "source": [
        "## Normalize Data"
      ]
    },
    {
      "cell_type": "code",
      "execution_count": 10,
      "metadata": {
        "id": "LeplL77mbKS4"
      },
      "outputs": [],
      "source": [
        "# normalize to range 0-1\n",
        "# Note: minimum = 0, maximum = 255.0\n",
        "# Formula: (value - minimum) / (maximum - minimum)\n",
        "X_train = X_train / 255.0\n",
        "X_val = X_val / 255.0\n",
        "X_test = X_test / 255.0"
      ]
    },
    {
      "cell_type": "code",
      "source": [
        "print(X_train.shape)\n",
        "print(X_val.shape)\n",
        "print(X_test.shape)"
      ],
      "metadata": {
        "id": "XiANGqHfAqLD",
        "outputId": "7b7c565e-73f0-49a0-e72e-98f04d7e78c7",
        "colab": {
          "base_uri": "https://localhost:8080/"
        }
      },
      "execution_count": 11,
      "outputs": [
        {
          "output_type": "stream",
          "name": "stdout",
          "text": [
            "(3840, 156, 156, 3)\n",
            "(1280, 156, 156, 3)\n",
            "(1281, 156, 156, 3)\n"
          ]
        }
      ]
    },
    {
      "cell_type": "code",
      "source": [
        "np.unique(y_train, return_counts=True) # we are dealing with an imbalanced dataset (miro-avg)\n"
      ],
      "metadata": {
        "id": "rAvVVzuLEJP-",
        "outputId": "cd546e71-aea2-4cb8-b6bb-0f7872dd241e",
        "colab": {
          "base_uri": "https://localhost:8080/"
        }
      },
      "execution_count": 13,
      "outputs": [
        {
          "output_type": "execute_result",
          "data": {
            "text/plain": [
              "(array(['Bacterial Pneumonia', 'COVID-19', 'No Pneumonia (healthy)',\n",
              "        'Viral Pneumonia'], dtype='<U22'), array([565,  26, 321, 369]))"
            ]
          },
          "metadata": {},
          "execution_count": 13
        }
      ]
    },
    {
      "cell_type": "code",
      "source": [
        "np.unique(labels, return_counts=True)"
      ],
      "metadata": {
        "colab": {
          "base_uri": "https://localhost:8080/"
        },
        "id": "zIHdPTqu9yNN",
        "outputId": "9b18130c-fcf5-4733-91d1-8b7801a7fd3d"
      },
      "execution_count": 14,
      "outputs": [
        {
          "output_type": "execute_result",
          "data": {
            "text/plain": [
              "(array(['Bacterial Pneumonia', 'COVID-19', 'No Pneumonia (healthy)',\n",
              "        'Viral Pneumonia'], dtype='<U22'), array([2825,  127, 1606, 1843]))"
            ]
          },
          "metadata": {},
          "execution_count": 14
        }
      ]
    },
    {
      "cell_type": "code",
      "source": [
        "from sklearn import preprocessing\n",
        "le = preprocessing.LabelEncoder()\n",
        "y_train = le.fit_transform(y_train)\n",
        "y_val = le.transform(y_val)\n",
        "y_test = le.transform(y_test)\n"
      ],
      "metadata": {
        "id": "-dhwVeTFC7my"
      },
      "execution_count": null,
      "outputs": []
    },
    {
      "cell_type": "code",
      "source": [
        "le.classes_"
      ],
      "metadata": {
        "id": "WAj3IuYpJzeR"
      },
      "execution_count": null,
      "outputs": []
    },
    {
      "cell_type": "code",
      "source": [
        "from tensorflow.keras.utils import to_categorical\n",
        "y_train = to_categorical(y_train)\n",
        "y_val = to_categorical(y_val)\n",
        "y_test = to_categorical(y_test)"
      ],
      "metadata": {
        "id": "d5OJ21JsJmwQ"
      },
      "execution_count": null,
      "outputs": []
    },
    {
      "cell_type": "code",
      "source": [
        "\"\"\"\n",
        "np.save(\"./y_train.npy\", y_train)\n",
        "np.save(\"./y_test.npy\", y_test)\n",
        "np.save(\"./y_val.npy\", y_val)\n",
        "np.save(\"./X_train.npy\", X_train)\n",
        "np.save(\"./X_test.npy\", X_test)\n",
        "np.save(\"./X_val.npy\", X_val)\n",
        "\"\"\""
      ],
      "metadata": {
        "id": "28xlnAeDYOiF"
      },
      "execution_count": null,
      "outputs": []
    },
    {
      "cell_type": "markdown",
      "metadata": {
        "id": "YONVgtOAbKca"
      },
      "source": [
        "# Create Baseline Model"
      ]
    },
    {
      "cell_type": "code",
      "execution_count": 28,
      "metadata": {
        "id": "LhUlV9UNbKiH"
      },
      "outputs": [],
      "source": [
        "from tensorflow.keras import models\n",
        "from tensorflow.keras import layers\n",
        "\n",
        "def build_model(optimizer='adam'): # which inputs should we have?\n",
        "  model = models.Sequential()\n",
        "  model.add(layers.Conv2D(64, (3,3), activation='relu', input_shape = (156,156,3), padding=\"same\"))\n",
        "  model.add(layers.Conv2D(32, (3,3), activation='relu', padding=\"same\"))\n",
        "  model.add(layers.MaxPooling2D(pool_size=(2, 2), padding=\"same\"))\n",
        "  model.add(layers.Conv2D(64, (3,3), activation='relu', padding=\"same\"))\n",
        "  model.add(layers.Conv2D(32, (3,3), activation='relu', padding=\"same\"))\n",
        "  model.add(layers.MaxPooling2D(pool_size=(2, 2), padding=\"same\"))\n",
        "  model.add(layers.Flatten())\n",
        "  model.add(layers.Dense(32, activation=\"relu\"))\n",
        "  model.add(layers.Dense(32, activation=\"relu\"))\n",
        "  model.add(layers.Dense(4, activation=\"softmax\"))\n",
        "\n",
        "  model.compile(optimizer= optimizer, \n",
        "                         loss=\"categorical_crossentropy\",\n",
        "                         metrics=['accuracy']\n",
        "                         )\n",
        "  return model\n"
      ]
    },
    {
      "cell_type": "code",
      "source": [
        "# model.build()\n",
        "model = build_model()\n",
        "model.summary()"
      ],
      "metadata": {
        "id": "ZPJQjyPO1bQR",
        "outputId": "620c8c50-0f32-48de-fe05-da11260b1783",
        "colab": {
          "base_uri": "https://localhost:8080/"
        }
      },
      "execution_count": 29,
      "outputs": [
        {
          "output_type": "stream",
          "name": "stdout",
          "text": [
            "Model: \"sequential\"\n",
            "_________________________________________________________________\n",
            " Layer (type)                Output Shape              Param #   \n",
            "=================================================================\n",
            " conv2d (Conv2D)             (None, 156, 156, 64)      1792      \n",
            "                                                                 \n",
            " conv2d_1 (Conv2D)           (None, 156, 156, 32)      18464     \n",
            "                                                                 \n",
            " max_pooling2d (MaxPooling2D  (None, 78, 78, 32)       0         \n",
            " )                                                               \n",
            "                                                                 \n",
            " conv2d_2 (Conv2D)           (None, 78, 78, 64)        18496     \n",
            "                                                                 \n",
            " conv2d_3 (Conv2D)           (None, 78, 78, 32)        18464     \n",
            "                                                                 \n",
            " max_pooling2d_1 (MaxPooling  (None, 39, 39, 32)       0         \n",
            " 2D)                                                             \n",
            "                                                                 \n",
            " flatten (Flatten)           (None, 48672)             0         \n",
            "                                                                 \n",
            " dense (Dense)               (None, 32)                1557536   \n",
            "                                                                 \n",
            " dense_1 (Dense)             (None, 32)                1056      \n",
            "                                                                 \n",
            " dense_2 (Dense)             (None, 4)                 132       \n",
            "                                                                 \n",
            "=================================================================\n",
            "Total params: 1,615,940\n",
            "Trainable params: 1,615,940\n",
            "Non-trainable params: 0\n",
            "_________________________________________________________________\n"
          ]
        }
      ]
    },
    {
      "cell_type": "code",
      "source": [
        "# model.compile(\n",
        "#     optimizer='adam',\n",
        "#     loss=tf.keras.losses.CategoricalCrossentropy(),\n",
        "#     metrics=['accuracy']\n",
        "# )\n",
        "from tensorflow.keras.utils import set_random_seed\n",
        "set_random_seed(42)\n",
        "original_hist = model.fit(\n",
        "    X_train,\n",
        "    y_train,\n",
        "    batch_size=32,\n",
        "    epochs=10,\n",
        "    validation_data=(X_val, y_val), \n",
        "    verbose=0\n",
        ")\n",
        "history_dict = original_hist.history\n",
        "history_dict.keys()"
      ],
      "metadata": {
        "id": "V61CywCy1fXv",
        "outputId": "7ddde382-9f6f-4399-b4e5-7efe95e36e8a",
        "colab": {
          "base_uri": "https://localhost:8080/"
        }
      },
      "execution_count": 30,
      "outputs": [
        {
          "output_type": "execute_result",
          "data": {
            "text/plain": [
              "dict_keys(['loss', 'accuracy', 'val_loss', 'val_accuracy'])"
            ]
          },
          "metadata": {},
          "execution_count": 30
        }
      ]
    },
    {
      "cell_type": "code",
      "source": [
        "model.save(\"./Results and Models/baseline_model\")\n",
        "\n",
        "# https://www.tensorflow.org/guide/keras/save_and_serialize"
      ],
      "metadata": {
        "id": "_uq_7KZORFkW"
      },
      "execution_count": null,
      "outputs": []
    },
    {
      "cell_type": "code",
      "source": [
        "from keras.models import load_model\n",
        "baseline_model = load_model(\"./talos_models/baseline_model\")"
      ],
      "metadata": {
        "id": "Tux0damDT13K"
      },
      "execution_count": null,
      "outputs": []
    },
    {
      "cell_type": "code",
      "source": [
        "from sklearn.metrics import f1_score, precision_score, recall_score, confusion_matrix, auc\n",
        "y_pred1 = baseline_model.predict(X_test)\n",
        "y_pred = np.argmax(y_pred1, axis=1)\n",
        "y_test1= np.argmax(y_test,axis=1)\n",
        "\n"
      ],
      "metadata": {
        "id": "IvlbBl59UWDE"
      },
      "execution_count": null,
      "outputs": []
    },
    {
      "cell_type": "code",
      "source": [
        "# Print f1, precision, and recall scores\n",
        "precision_score(y_test1, y_pred , average=\"macro\")\n"
      ],
      "metadata": {
        "id": "tz0HWXFdOIJZ"
      },
      "execution_count": null,
      "outputs": []
    },
    {
      "cell_type": "code",
      "source": [
        "recall_score(y_test1, y_pred , average=\"macro\")\n"
      ],
      "metadata": {
        "id": "stG5MUAROjZr"
      },
      "execution_count": null,
      "outputs": []
    },
    {
      "cell_type": "code",
      "source": [
        "f1_score(y_test1, y_pred , average=\"macro\")"
      ],
      "metadata": {
        "id": "zkcXEfQLOl6j"
      },
      "execution_count": null,
      "outputs": []
    },
    {
      "cell_type": "code",
      "source": [
        "np.save(\"./Results and Models/baseline_hist.npy\", history_dict) #saving\n",
        "history_baseline=np.load('./Results and Models/baseline_hist.npy',allow_pickle='TRUE').item() #loading"
      ],
      "metadata": {
        "id": "1DBvKBRFRyT9"
      },
      "execution_count": null,
      "outputs": []
    },
    {
      "cell_type": "code",
      "source": [
        "history_baseline.keys()"
      ],
      "metadata": {
        "id": "J9GESttASqBz"
      },
      "execution_count": null,
      "outputs": []
    },
    {
      "cell_type": "markdown",
      "metadata": {
        "id": "zOFuKRShbvTU"
      },
      "source": [
        "# Analyze the performance of the baseline model"
      ]
    },
    {
      "cell_type": "code",
      "execution_count": null,
      "metadata": {
        "id": "58gf79ODcFPD"
      },
      "outputs": [],
      "source": [
        "test_loss, test_acc = model.evaluate(X_test, y_test) # 0.7377"
      ]
    },
    {
      "cell_type": "markdown",
      "source": [
        "# Plots"
      ],
      "metadata": {
        "id": "Y0WF9lVqPnRW"
      }
    },
    {
      "cell_type": "markdown",
      "source": [
        "## Training and validation losses and accuracies on the training and validation set"
      ],
      "metadata": {
        "id": "KPPmma50QMfH"
      }
    },
    {
      "cell_type": "code",
      "source": [
        "#plot\n",
        "import matplotlib.pyplot as plt\n",
        "\n",
        "def plot_history(data_list, label_list, title, ylabel):\n",
        "    ''' Plots a list of vectors.\n",
        "    Parameters:\n",
        "        data_list  : list of vectors containing the values to plot\n",
        "        label_list : list of labels describing the data, one per vector\n",
        "        title      : title of the plot\n",
        "        ylabel     : label for the y axis\n",
        "    '''\n",
        "    epochs = range(1, len(data_list[0]) + 1)\n",
        "    for data, label in zip(data_list, label_list):\n",
        "        plt.plot(epochs, data, label=label)\n",
        "    plt.title(title)\n",
        "    plt.xlabel('Epochs')\n",
        "    plt.ylabel(ylabel)\n",
        "    plt.legend()\n",
        "    plt.show()"
      ],
      "metadata": {
        "id": "F3z0OVaKP5TD"
      },
      "execution_count": null,
      "outputs": []
    },
    {
      "cell_type": "code",
      "source": [
        "%matplotlib inline\n",
        "\n",
        "acc = history_dict['accuracy']\n",
        "val_acc = history_dict['val_accuracy']\n",
        "loss = history_dict['loss']\n",
        "val_loss = history_dict['val_loss']\n",
        "\n",
        "plot_history(data_list=[loss, val_loss],\n",
        "             label_list=['Training loss', 'Validation loss'],\n",
        "             title='Training and validation loss',\n",
        "             ylabel='Loss')\n",
        "plot_history(data_list=[acc, val_acc],\n",
        "             label_list=['Training acc.', 'Validation acc.'],\n",
        "             title='Training and validation accuracy',\n",
        "             ylabel='Accuracy')"
      ],
      "metadata": {
        "id": "OX67Jn8-SchT"
      },
      "execution_count": null,
      "outputs": []
    },
    {
      "cell_type": "markdown",
      "source": [
        "## Receiver Operator Characteristic (ROC) curve with the Area under the Curve (AUC) score"
      ],
      "metadata": {
        "id": "XG10vX5BQkf1"
      }
    },
    {
      "cell_type": "markdown",
      "source": [
        "Preprocessing:"
      ],
      "metadata": {
        "id": "8FXgi6UtEs78"
      }
    },
    {
      "cell_type": "code",
      "source": [
        "classes = np.array(['Bacterial Pneumonia', 'COVID-19', 'No Pneumonia (healthy)','Viral Pneumonia'])\n",
        "class_of_interest = \"COVID-19\"\n",
        "class_id = np.flatnonzero(classes == class_of_interest)[0]\n",
        "print(class_id)"
      ],
      "metadata": {
        "id": "jWkiVvlqSrRa",
        "colab": {
          "base_uri": "https://localhost:8080/"
        },
        "outputId": "c6f1c008-e6e5-4b1a-af75-a67efba2a4bc"
      },
      "execution_count": 15,
      "outputs": [
        {
          "output_type": "stream",
          "name": "stdout",
          "text": [
            "1\n"
          ]
        }
      ]
    },
    {
      "cell_type": "code",
      "source": [
        "from keras.models import load_model\n",
        "baseline_model = load_model(\"./talos_models/baseline_model\") #load the model"
      ],
      "metadata": {
        "id": "CMyTe1LYqyiq"
      },
      "execution_count": 18,
      "outputs": []
    },
    {
      "cell_type": "code",
      "source": [
        "y_pred = baseline_model.predict(X_test)"
      ],
      "metadata": {
        "id": "Fnbs17AuUoqT",
        "colab": {
          "base_uri": "https://localhost:8080/"
        },
        "outputId": "6df79b7e-8e45-49d2-9e67-e55cc84feab6"
      },
      "execution_count": 19,
      "outputs": [
        {
          "output_type": "stream",
          "name": "stdout",
          "text": [
            "41/41 [==============================] - 10s 18ms/step\n"
          ]
        }
      ]
    },
    {
      "cell_type": "code",
      "source": [
        "from sklearn.metrics import roc_curve, auc\n",
        "\n",
        "# store the fpr, tpr, and roc_auc for all averaging strategies\n",
        "fpr, tpr, roc_auc = dict(), dict(), dict()\n",
        "# Compute micro-average ROC curve and ROC area\n",
        "fpr[\"micro\"], tpr[\"micro\"], _ = roc_curve(y_test.ravel(), y_pred.ravel())\n",
        "roc_auc[\"micro\"] = auc(fpr[\"micro\"], tpr[\"micro\"])\n",
        "\n",
        "print(f\"Micro-averaged One-vs-Rest ROC AUC score:\\n{roc_auc['micro']:.2f}\")"
      ],
      "metadata": {
        "id": "_TEfaqLWahIk",
        "colab": {
          "base_uri": "https://localhost:8080/"
        },
        "outputId": "d329ebe4-f896-497f-81be-a892072c0db6"
      },
      "execution_count": 23,
      "outputs": [
        {
          "output_type": "stream",
          "name": "stdout",
          "text": [
            "Micro-averaged One-vs-Rest ROC AUC score:\n",
            "0.92\n"
          ]
        }
      ]
    },
    {
      "cell_type": "code",
      "source": [
        "for i in range(len(classes)):\n",
        "    fpr[i], tpr[i], _ = roc_curve(y_test[:, i], y_pred[:, i])\n",
        "    roc_auc[i] = auc(fpr[i], tpr[i])\n",
        "\n",
        "fpr_grid = np.linspace(0.0, 1.0, 1000)\n",
        "\n",
        "# Interpolate all ROC curves at these points\n",
        "mean_tpr = np.zeros_like(fpr_grid)\n",
        "\n",
        "for i in range(len(classes)):\n",
        "    mean_tpr += np.interp(fpr_grid, fpr[i], tpr[i])  # linear interpolation\n",
        "\n",
        "# Average it and compute AUC\n",
        "mean_tpr /= len(classes)\n",
        "\n",
        "fpr[\"macro\"] = fpr_grid\n",
        "tpr[\"macro\"] = mean_tpr\n",
        "roc_auc[\"macro\"] = auc(fpr[\"macro\"], tpr[\"macro\"])\n",
        "\n",
        "print(f\"Macro-averaged One-vs-Rest ROC AUC score:\\n{roc_auc['macro']:.2f}\")"
      ],
      "metadata": {
        "id": "zHORRIlQboty",
        "colab": {
          "base_uri": "https://localhost:8080/"
        },
        "outputId": "ca1b273a-9a8a-4f14-bff0-567e5f354c8e"
      },
      "execution_count": 24,
      "outputs": [
        {
          "output_type": "stream",
          "name": "stdout",
          "text": [
            "Macro-averaged One-vs-Rest ROC AUC score:\n",
            "0.90\n"
          ]
        }
      ]
    },
    {
      "cell_type": "code",
      "source": [
        "from itertools import cycle\n",
        "from sklearn.metrics import RocCurveDisplay\n",
        "import matplotlib.pyplot as plt\n",
        "\n",
        "fig, ax = plt.subplots(figsize=(6, 6))\n",
        "\n",
        "plt.plot(\n",
        "    fpr[\"micro\"],\n",
        "    tpr[\"micro\"],\n",
        "    label=f\"micro-average ROC curve (AUC = {roc_auc['micro']:.2f})\",\n",
        "    color=\"deeppink\",\n",
        "    linestyle=\":\",\n",
        "    linewidth=4,\n",
        ")\n",
        "\n",
        "plt.plot(\n",
        "    fpr[\"macro\"],\n",
        "    tpr[\"macro\"],\n",
        "    label=f\"macro-average ROC curve (AUC = {roc_auc['macro']:.2f})\",\n",
        "    color=\"navy\",\n",
        "    linestyle=\":\",\n",
        "    linewidth=4,\n",
        ")\n",
        "\n",
        "colors = cycle([\"aqua\", \"darkorange\", \"cornflowerblue\"])\n",
        "for class_id, color in zip(range(len(classes)), colors):\n",
        "    RocCurveDisplay.from_predictions(\n",
        "        y_test[:, class_id],\n",
        "        y_pred[:, class_id],\n",
        "        name=f\"ROC curve for {classes[class_id]}\",\n",
        "        color=color,\n",
        "        ax=ax,\n",
        "    )\n",
        "\n",
        "plt.plot([0, 1], [0, 1], \"k--\", label=\"ROC curve for chance level (AUC = 0.5)\")\n",
        "plt.axis(\"square\")\n",
        "plt.xlabel(\"False Positive Rate\")\n",
        "plt.ylabel(\"True Positive Rate\")\n",
        "plt.title(\"Extension of Receiver Operating Characteristic\\nto One-vs-Rest multiclass\")\n",
        "plt.legend()\n",
        "plt.show()"
      ],
      "metadata": {
        "id": "C7GO9jYIdSYx",
        "colab": {
          "base_uri": "https://localhost:8080/",
          "height": 384
        },
        "outputId": "e00b8d32-0d46-41b2-c224-1bb4e59bd86c"
      },
      "execution_count": 27,
      "outputs": [
        {
          "output_type": "error",
          "ename": "ModuleNotFoundError",
          "evalue": "ignored",
          "traceback": [
            "\u001b[0;31m---------------------------------------------------------------------------\u001b[0m",
            "\u001b[0;31mModuleNotFoundError\u001b[0m                       Traceback (most recent call last)",
            "\u001b[0;32m<ipython-input-27-a4e8fee404fe>\u001b[0m in \u001b[0;36m<module>\u001b[0;34m\u001b[0m\n\u001b[1;32m      1\u001b[0m \u001b[0;32mfrom\u001b[0m \u001b[0mitertools\u001b[0m \u001b[0;32mimport\u001b[0m \u001b[0mcycle\u001b[0m\u001b[0;34m\u001b[0m\u001b[0;34m\u001b[0m\u001b[0m\n\u001b[1;32m      2\u001b[0m \u001b[0;32mfrom\u001b[0m \u001b[0msklearn\u001b[0m\u001b[0;34m.\u001b[0m\u001b[0mmetrics\u001b[0m \u001b[0;32mimport\u001b[0m \u001b[0mRocCurveDisplay\u001b[0m\u001b[0;34m\u001b[0m\u001b[0;34m\u001b[0m\u001b[0m\n\u001b[0;32m----> 3\u001b[0;31m \u001b[0;32mimport\u001b[0m \u001b[0mplt\u001b[0m\u001b[0;34m\u001b[0m\u001b[0;34m\u001b[0m\u001b[0m\n\u001b[0m\u001b[1;32m      4\u001b[0m \u001b[0;34m\u001b[0m\u001b[0m\n\u001b[1;32m      5\u001b[0m \u001b[0mfig\u001b[0m\u001b[0;34m,\u001b[0m \u001b[0max\u001b[0m \u001b[0;34m=\u001b[0m \u001b[0mplt\u001b[0m\u001b[0;34m.\u001b[0m\u001b[0msubplots\u001b[0m\u001b[0;34m(\u001b[0m\u001b[0mfigsize\u001b[0m\u001b[0;34m=\u001b[0m\u001b[0;34m(\u001b[0m\u001b[0;36m6\u001b[0m\u001b[0;34m,\u001b[0m \u001b[0;36m6\u001b[0m\u001b[0;34m)\u001b[0m\u001b[0;34m)\u001b[0m\u001b[0;34m\u001b[0m\u001b[0;34m\u001b[0m\u001b[0m\n",
            "\u001b[0;31mModuleNotFoundError\u001b[0m: No module named 'plt'",
            "",
            "\u001b[0;31m---------------------------------------------------------------------------\u001b[0;32m\nNOTE: If your import is failing due to a missing package, you can\nmanually install dependencies using either !pip or !apt.\n\nTo view examples of installing some common dependencies, click the\n\"Open Examples\" button below.\n\u001b[0;31m---------------------------------------------------------------------------\u001b[0m\n"
          ],
          "errorDetails": {
            "actions": [
              {
                "action": "open_url",
                "actionText": "Open Examples",
                "url": "/notebooks/snippets/importing_libraries.ipynb"
              }
            ]
          }
        }
      ]
    },
    {
      "cell_type": "markdown",
      "source": [
        "## Confusion matrix for the validation and test set"
      ],
      "metadata": {
        "id": "83Y4kcU9Q8Tr"
      }
    },
    {
      "cell_type": "code",
      "source": [
        "baseline_model = load_model(\"./talos_models/baseline_model\")"
      ],
      "metadata": {
        "id": "wrt_zijdhdt8"
      },
      "execution_count": null,
      "outputs": []
    },
    {
      "cell_type": "code",
      "source": [
        "y_val_pred = baseline_model.predict(X_val)"
      ],
      "metadata": {
        "id": "4nW4rZwn_2Vn"
      },
      "execution_count": null,
      "outputs": []
    },
    {
      "cell_type": "code",
      "source": [
        "y_test_pred = baseline_model.predict(X_test)"
      ],
      "metadata": {
        "id": "lsnQc15bBFAg"
      },
      "execution_count": null,
      "outputs": []
    },
    {
      "cell_type": "code",
      "source": [
        "from sklearn.metrics import confusion_matrix, accuracy_score\n",
        "from sklearn.metrics import ConfusionMatrixDisplay\n",
        "\n",
        "y_val_pred = baseline_model.predict(X_val, verbose=0)\n",
        "y_test_pred = baseline_model.predict(X_test, verbose=0)\n",
        "\n",
        "labels = classes\n",
        "cm = confusion_matrix(y_test.argmax(axis=1), y_test_pred.argmax(axis=1))\n",
        "disp = ConfusionMatrixDisplay(confusion_matrix=cm, display_labels=labels)\n",
        "disp.plot(cmap=plt.cm.Reds)\n",
        "plt.show()\n",
        "\n",
        "labels = classes \n",
        "cm = confusion_matrix(y_val.argmax(axis=1), y_val_pred.argmax(axis=1))\n",
        "disp = ConfusionMatrixDisplay(confusion_matrix=cm, display_labels=labels)\n",
        "disp.plot(cmap=plt.cm.Reds)\n",
        "plt.show()"
      ],
      "metadata": {
        "id": "Q8430c3r_U-c"
      },
      "execution_count": null,
      "outputs": []
    },
    {
      "cell_type": "markdown",
      "metadata": {
        "id": "gnxtO6BIb3_P"
      },
      "source": [
        "# Adapting/fine-tuning the network"
      ]
    },
    {
      "cell_type": "code",
      "source": [
        "%cd /content/drive/MyDrive/Deep Learning - Group Project "
      ],
      "metadata": {
        "id": "Yj3PRFZUqC_A"
      },
      "execution_count": null,
      "outputs": []
    },
    {
      "cell_type": "code",
      "source": [
        "import numpy as np\n",
        "import pandas as pd\n",
        "\n",
        "y_train = np.load('./y_train.npy')\n",
        "y_test = np.load('./y_test.npy')\n",
        "y_val = np.load('./y_val.npy')\n",
        "X_train = np.load('./X_train.npy')\n",
        "X_test = np.load('./X_test.npy')\n",
        "X_val = np.load('./X_val.npy')"
      ],
      "metadata": {
        "id": "g0Q7HnOGqBSq"
      },
      "execution_count": 22,
      "outputs": []
    },
    {
      "cell_type": "code",
      "source": [
        "#plot\n"
      ],
      "metadata": {
        "id": "cBYsLIf3qLtj"
      },
      "execution_count": null,
      "outputs": []
    },
    {
      "cell_type": "code",
      "source": [
        "from tensorflow.keras import models\n",
        "from tensorflow.keras import layers\n",
        "from tensorflow.keras.optimizers import Adam\n",
        "\n",
        "\n",
        "def build_tuned_model(optimizer='adam', units1 = 64, units2 = 32): # which inputs should we have?\n",
        "  model = models.Sequential()\n",
        "  model.add(layers.Conv2D(units1, (3,3), activation='relu', input_shape = (156,156,3), padding=\"same\"))\n",
        "  model.add(layers.Conv2D(units2, (3,3), activation='relu', padding=\"same\"))\n",
        "  model.add(layers.MaxPooling2D(pool_size=(2, 2), padding=\"same\"))\n",
        "\n",
        "  # model.add(layers.Conv2D(units1,  kernel_size=(3,3), activation='relu', padding=\"same\"))\n",
        "  # model.add(layers.Conv2D(units2,  kernel_size = (3,3), activation='relu', padding=\"same\"))\n",
        "  # model.add(layers.MaxPooling2D(pool_size=(2, 2), padding=\"same\"))\n",
        "\n",
        "  # model.add(layers.Conv2D(units1,  kernel_size=(3,3), activation='relu', padding=\"same\"))\n",
        "  # model.add(layers.Conv2D(units2,  kernel_size = (3,3), activation='relu', padding=\"same\"))\n",
        "  # model.add(layers.MaxPooling2D(pool_size=(2, 2), padding=\"same\"))\n",
        "\n",
        "  model.add(layers.Conv2D(units1, (3,3), activation='relu', padding=\"same\"))\n",
        "  model.add(layers.Conv2D(units2, (3,3), activation='relu', padding=\"same\"))\n",
        "  model.add(layers.MaxPooling2D(pool_size=(2, 2), padding=\"same\"))\n",
        "\n",
        "  model.add(layers.Flatten())\n",
        "\n",
        "  model.add(layers.Dense(units2, activation=\"relu\"))\n",
        "  model.add(layers.Dense(units2, activation=\"relu\"))\n",
        "\n",
        "  model.add(layers.Dense(4, activation=\"softmax\"))\n",
        "\n",
        "  model.compile(optimizer= optimizer, \n",
        "                         loss=\"categorical_crossentropy\",\n",
        "                         metrics=['accuracy']\n",
        "                         )\n",
        "  return model\n"
      ],
      "metadata": {
        "id": "oweM4p5VMytM"
      },
      "execution_count": null,
      "outputs": []
    },
    {
      "cell_type": "code",
      "source": [
        "from tensorflow.keras.optimizers import Adam\n",
        "# tuned_model = build_tuned_model(optimizer = Adam(learning_rate=0.0001)  )\n",
        "tuned_model = build_tuned_model(optimizer = Adam(learning_rate=0.00001),units1 = 16, units2 = 160 )"
      ],
      "metadata": {
        "id": "naielyhBmgft"
      },
      "execution_count": null,
      "outputs": []
    },
    {
      "cell_type": "code",
      "source": [
        "from tensorflow.keras.utils import set_random_seed\n",
        "set_random_seed(42)\n",
        "tuned_hist = tuned_model.fit(\n",
        "    X_train,\n",
        "    y_train,\n",
        "    batch_size=32,\n",
        "    epochs=10,\n",
        "    validation_data=(X_val, y_val), \n",
        "    verbose=1\n",
        ")\n",
        "history_dict_tuned = tuned_hist.history\n",
        "history_dict_tuned.keys()\n",
        "\n"
      ],
      "metadata": {
        "id": "miT5QrP7GkPu"
      },
      "execution_count": null,
      "outputs": []
    },
    {
      "cell_type": "code",
      "source": [
        "tuned_model.save(\"./Results and Models/t_model_best\")\n",
        "np.save(\"./Results and Models/t_model_best.npy\", history_dict_tuned) #saving hist"
      ],
      "metadata": {
        "id": "ryeBJ-WCYcrj"
      },
      "execution_count": null,
      "outputs": []
    },
    {
      "cell_type": "code",
      "source": [
        "test_loss, test_acc = tuned_model.evaluate(X_test, y_test) # 0.7377\n",
        "val_loss, val_acc = tuned_model.evaluate(X_val, y_val)\n",
        "print( test_loss , test_acc)\n",
        "print( val_loss , val_acc) "
      ],
      "metadata": {
        "id": "PS5CrLlHW14q"
      },
      "execution_count": null,
      "outputs": []
    },
    {
      "cell_type": "code",
      "source": [
        "from keras.models import load_model\n",
        "# t_baseline_model = load_model(\"./Results and Models/t_baseline_model\") #load the model\n",
        "history_t_baseline_model=np.load('./Results and Models/t_baseline_model.npy',allow_pickle='TRUE').item() #load teh hist dict\n",
        "\n",
        "# t_model_lr_lower = load_model(\"./Results and Models/t_model_lr_lower\") #load the model\n",
        "history_t_model_lr_lower=np.load('./Results and Models/t_model_lr_lower.npy',allow_pickle='TRUE').item() #load teh hist dict\n",
        "\n",
        "# t_model_lr_lower_2 = load_model(\"./Results and Models/t_model_lr_lower_2\") #load the model\n",
        "history_t_model_lr_lower_2=np.load('./Results and Models/t_model_lr_lower_2.npy',allow_pickle='TRUE').item() #load teh hist dict\n",
        "\n",
        "# t_model_lr_lower3 = load_model(\"./Results and Models/t_model_lr_lower3\") #load the model\n",
        "history_t_model_lr_lower3=np.load('./Results and Models/t_model_lr_lower3.npy',allow_pickle='TRUE').item() #load teh hist dict\n",
        "\n",
        "# t_model_64units = load_model(\"./Results and Models/t_model_64units\") #load the model\n",
        "history_t_model_64units=np.load('./Results and Models/t_model_64units.npy',allow_pickle='TRUE').item() #loading\n",
        "\n",
        "# t_model_more_layers = load_model(\"./Results and Models/t_model_more_layers\") #load the model\n",
        "history_t_model_more_layers=np.load('./Results and Models/t_model_more_layers.npy',allow_pickle='TRUE').item() #loading\n",
        "\n",
        "# t_model_2more_layers = load_model(\"./Results and Models/t_model_2more_layers\") #load the model\n",
        "history_t_model_2more_layers=np.load('./Results and Models/t_model_2more_layers.npy',allow_pickle='TRUE').item() #loading"
      ],
      "metadata": {
        "id": "7nbhKow4WHnJ"
      },
      "execution_count": null,
      "outputs": []
    },
    {
      "cell_type": "code",
      "source": [
        "tuned_model_1.optimizer.get_config()"
      ],
      "metadata": {
        "id": "x-Sc82freZP-"
      },
      "execution_count": null,
      "outputs": []
    },
    {
      "cell_type": "code",
      "source": [
        "tuned_model_2.optimizer.get_config()"
      ],
      "metadata": {
        "id": "iUmyBV_GeGrj"
      },
      "execution_count": null,
      "outputs": []
    },
    {
      "cell_type": "code",
      "source": [
        "baseline_val_loss = history_t_baseline_model['val_loss']\n",
        "tuned_model_val_loss = history_t_model_lr_lower['val_loss']\n",
        "tuned_1_model_val_loss = history_t_model_lr_lower_2['val_loss']\n",
        "tuned_2_model_val_loss = history_t_model_lr_lower3['val_loss']\n",
        "tuned_3_model_val_loss = history_t_model_64units['val_loss']\n",
        "tuned_4_model_val_loss = history_t_model_more_layers['val_loss']\n",
        "tuned_5_model_val_loss = history_t_model_2more_layers['val_loss']\n",
        "\n",
        "plot_history(data_list=[baseline_val_loss, tuned_model_val_loss,tuned_1_model_val_loss,tuned_2_model_val_loss, tuned_3_model_val_loss,tuned_4_model_val_loss,tuned_5_model_val_loss ],\n",
        "             label_list=['Baseline Validation loss', 'Lower lr = 0.0001', 'Lower lr = 0.00001', 'Lower lr = 0.000001', 'All units 64',\"add layers\", \"add 2 layer\"],\n",
        "             title='Comparison of validation losses',\n",
        "             ylabel='Validation loss')"
      ],
      "metadata": {
        "id": "79nShD4wcksO"
      },
      "execution_count": null,
      "outputs": []
    },
    {
      "cell_type": "code",
      "source": [
        "baseline_train_loss = history_t_baseline_model['loss']\n",
        "tuned_model_train_loss = history_t_model_lr_lower['loss']\n",
        "tuned_1_model_train_loss = history_t_model_lr_lower_2['loss']\n",
        "tuned_2_model_train_loss = history_t_model_lr_lower3['loss']\n",
        "tuned_3_model_train_loss = history_t_model_64units['loss']\n",
        "tuned_4_model_train_loss = history_t_model_more_layers['loss']\n",
        "tuned_5_model_train_loss = history_t_model_2more_layers['loss']\n",
        "\n",
        "plot_history(data_list=[baseline_train_loss, tuned_model_train_loss,tuned_1_model_train_loss,tuned_2_model_train_loss,tuned_3_model_train_loss,tuned_4_model_train_loss,tuned_5_model_train_loss],\n",
        "             label_list=['Baseline', 'Lower lr = 0.0001', 'Lower lr = 0.00001', 'Lower lr = 0.000001', 'All units 64', \"Add layers\", \"add 2 layer\"],\n",
        "             title='Comparison of train losses',\n",
        "             ylabel='Train loss')"
      ],
      "metadata": {
        "id": "oU_S4w8CghxO"
      },
      "execution_count": null,
      "outputs": []
    },
    {
      "cell_type": "code",
      "source": [
        "baseline_val_accuracy = history_t_baseline_model['val_accuracy']\n",
        "tuned_model_val_accuracy = history_t_model_lr_lower['val_accuracy']\n",
        "tuned_1_model_val_accuracy = history_t_model_lr_lower_2['val_accuracy']\n",
        "tuned_2_model_val_accuracy = history_t_model_lr_lower3['val_accuracy']\n",
        "tuned_3_model_val_accuracy = history_t_model_64units['val_accuracy']\n",
        "tuned_4_model_val_accuracy = history_t_model_more_layers['val_accuracy']\n",
        "tuned_5_model_val_accuracy = history_t_model_2more_layers['val_accuracy']\n",
        "\n",
        "plot_history(data_list=[baseline_val_accuracy, tuned_model_val_accuracy,tuned_1_model_val_accuracy,tuned_2_model_val_accuracy,tuned_3_model_val_accuracy,tuned_4_model_val_accuracy,tuned_5_model_val_accuracy ],\n",
        "             label_list=['Baseline Validation Accuracy', 'Lower lr = 0.0001', 'Lower lr = 0.00001', 'Lower lr = 0.000001', 'All units 64', \"Add Layers\", \"add 2 layer\"],\n",
        "             title='Comparison of validation accuracy',\n",
        "             ylabel='Validation accuracy')"
      ],
      "metadata": {
        "id": "hpUFtrPYfPLe"
      },
      "execution_count": null,
      "outputs": []
    },
    {
      "cell_type": "code",
      "source": [
        "%matplotlib inline\n",
        "\n",
        "acc = history_dict_tuned['accuracy']\n",
        "val_acc = history_dict_tuned['val_accuracy']\n",
        "loss = history_dict_tuned['loss']\n",
        "val_loss = history_dict_tuned['val_loss']\n",
        "\n",
        "plot_history(data_list=[loss, val_loss],\n",
        "             label_list=['Training loss', 'Validation loss'],\n",
        "             title='Training and validation loss',\n",
        "             ylabel='Loss')\n",
        "plot_history(data_list=[acc, val_acc],\n",
        "             label_list=['Training acc.', 'Validation acc.'],\n",
        "             title='Training and validation accuracy',\n",
        "             ylabel='Accuracy')"
      ],
      "metadata": {
        "id": "5fgPNZRHXF0g"
      },
      "execution_count": null,
      "outputs": []
    },
    {
      "cell_type": "code",
      "source": [
        "pip install keras_tuner"
      ],
      "metadata": {
        "collapsed": true,
        "id": "Bo-kUg2MYA1N"
      },
      "execution_count": null,
      "outputs": []
    },
    {
      "cell_type": "code",
      "source": [
        "import keras_tuner\n",
        "from tensorflow import keras"
      ],
      "metadata": {
        "id": "xZkI5Kx-YG14"
      },
      "execution_count": null,
      "outputs": []
    },
    {
      "cell_type": "code",
      "source": [
        "from tensorflow.keras import models\n",
        "from tensorflow.keras import layers\n",
        "\n",
        "from tensorflow.keras.optimizers import Adam\n",
        "## activation,\n",
        "def tobe_tuned_model( units_1 , units_2, lr , addlayers1, addlayers2): # which inputs should we have?\n",
        "  model = models.Sequential()\n",
        "  model.add(layers.Conv2D(units_1, kernel_size= (3,3), activation='relu', input_shape = (156,156,3), padding=\"same\"))\n",
        "  model.add(layers.Conv2D(units_2, kernel_size= (3,3), activation='relu', padding=\"same\"))\n",
        "  model.add(layers.MaxPooling2D(pool_size=(2, 2), padding=\"same\"))\n",
        "\n",
        "  model.add(layers.Conv2D(units_1,  kernel_size=(3,3), activation='relu', padding=\"same\"))\n",
        "  model.add(layers.Conv2D(units_2,  kernel_size = (3,3), activation='relu', padding=\"same\"))\n",
        "  model.add(layers.MaxPooling2D(pool_size=(2, 2), padding=\"same\"))\n",
        "  if addlayers1:\n",
        "    model.add(layers.Conv2D(units_1,  kernel_size=(3,3), activation='relu', padding=\"same\"))\n",
        "    model.add(layers.Conv2D(units_2,  kernel_size = (3,3), activation='relu', padding=\"same\"))\n",
        "    model.add(layers.MaxPooling2D(pool_size=(2, 2), padding=\"same\"))\n",
        "  if addlayers2:\n",
        "    model.add(layers.Conv2D(units_1,  kernel_size=(3,3), activation='relu', padding=\"same\"))\n",
        "    model.add(layers.Conv2D(units_2,  kernel_size = (3,3), activation='relu', padding=\"same\"))\n",
        "    model.add(layers.MaxPooling2D(pool_size=(2, 2), padding=\"same\"))\n",
        "\n",
        "  model.add(layers.Flatten())\n",
        "\n",
        "  model.add(layers.Dense(units_2, activation=\"relu\"))\n",
        "  model.add(layers.Dense(units_2, activation=\"relu\"))\n",
        "  \n",
        "  model.add(layers.Dense(4, activation=\"softmax\"))\n",
        "\n",
        "  model.compile(optimizer=Adam(learning_rate = lr), \n",
        "                         loss=\"categorical_crossentropy\",\n",
        "                         metrics=['accuracy']\n",
        "                         )\n",
        "  return model\n",
        "\n",
        "\n",
        "\n",
        "def build_tuned_model(hp):\n",
        "  units_1 = hp.Int('units_1', min_value = 16 , max_value = 64, step = 16)\n",
        "  units_2 = hp.Int('units_2', min_value = 16 , max_value = 64, step = 16)\n",
        "  addlayers1 = hp.Boolean(\"addlayers1\")\n",
        "  addlayers2 = hp.Boolean(\"addlayers2\")\n",
        "\n",
        "  # dropout_rate = hp.Float(\"dropout_rate\", min_value=0.2, max_value=1, step=0.2,parent_name=dropout , parent_values=True )\n",
        "  # activation = hp.Choice(\"activation\", [\"relu\", \"tanh\"])\n",
        "  lr = hp.Float(\"lr\", min_value=1e-4, max_value=0.001, step=10,sampling=\"log\", default=1e-3)\n",
        "  # call existing model-building code with the hyperparameter values.\n",
        "  model = tobe_tuned_model(\n",
        "       lr=lr , units_1 = units_1 , units_2 = units_2 ,addlayers1 = addlayers1 , addlayers2 = addlayers2 \n",
        "  )\n",
        "  return model\n",
        "\n",
        "##dropout=dropout, lr=lr , dropout_rate = dropout_rate"
      ],
      "metadata": {
        "id": "ju6KU02WYlbp"
      },
      "execution_count": null,
      "outputs": []
    },
    {
      "cell_type": "code",
      "source": [
        "1e-2"
      ],
      "metadata": {
        "id": "PS4ChbUfumuz"
      },
      "execution_count": null,
      "outputs": []
    },
    {
      "cell_type": "code",
      "source": [
        "\n",
        "build_tuned_model(keras_tuner.HyperParameters())"
      ],
      "metadata": {
        "id": "pHzFHXHzb-PB"
      },
      "execution_count": null,
      "outputs": []
    },
    {
      "cell_type": "code",
      "source": [
        "# from tensorflow.keras.utils import set_random_seed\n",
        "# set_random_seed(42)\n",
        "\n",
        "tuner = keras_tuner.RandomSearch(\n",
        "    hypermodel=build_tuned_model,\n",
        "    objective=\"val_accuracy\",\n",
        "    max_trials=20,\n",
        "    executions_per_trial=1,\n",
        "    overwrite=True,\n",
        "    directory=\"./Results and Models\",\n",
        "    project_name=\"KerasTunning\",\n",
        "    seed = 42\n",
        ")"
      ],
      "metadata": {
        "id": "p_SBTgbFePRT"
      },
      "execution_count": null,
      "outputs": []
    },
    {
      "cell_type": "code",
      "source": [
        "tuner.search(X_train, y_train, epochs=10, batch_size=16, validation_data=(X_val, y_val))"
      ],
      "metadata": {
        "id": "vejhwhSRel4y"
      },
      "execution_count": null,
      "outputs": []
    },
    {
      "cell_type": "code",
      "source": [
        "models = tuner.get_best_models(num_models=2)\n",
        "best_model = models[0]"
      ],
      "metadata": {
        "id": "XQ3henQ4g8Pt"
      },
      "execution_count": null,
      "outputs": []
    },
    {
      "cell_type": "code",
      "source": [
        "best_model.summary()"
      ],
      "metadata": {
        "id": "4-sX0_EJidlm"
      },
      "execution_count": null,
      "outputs": []
    },
    {
      "cell_type": "code",
      "source": [
        "tuner.results_summary()"
      ],
      "metadata": {
        "id": "2J5h0LusjLKN"
      },
      "execution_count": null,
      "outputs": []
    },
    {
      "cell_type": "markdown",
      "source": [
        "\n",
        "\n",
        "# Talos Tuner\n"
      ],
      "metadata": {
        "id": "xRPKynxk2eTv"
      }
    },
    {
      "cell_type": "code",
      "source": [
        "!pip install talos"
      ],
      "metadata": {
        "id": "E1Yc8nY7ixzP"
      },
      "execution_count": null,
      "outputs": []
    },
    {
      "cell_type": "code",
      "source": [
        "# set the parameter space boundary\n",
        "p = { #'activation':['relu', 'elu'],\n",
        "     'optimizer': ['Nadam', 'Adam'], # ,\"AdamW\" - had an error \n",
        "     'losses': ['categorical_crossentropy'],\n",
        "    #  'lr': (0.1, 0,001, ),\n",
        "    #  'shapes': ['brick'],\n",
        "     'regularizer' : [ regularizers.l2(0.001), 'l1_l2' , None],\n",
        "     'first_neuron': [16, 32, 64, 128],\n",
        "     'second_neuron': [16, 32, 64, 128],\n",
        "     'third_neuron': [16, 32, 64, 128],\n",
        "     'fourth_neuron': [16, 32, 64, 128],\n",
        "     'fifth_neuron': [16, 32, 64, 128],\n",
        "     'sixth_neuron': [16, 32, 64, 128],\n",
        "    #  'hidden_layers':[0, 1, 2, 3],\n",
        "    #  'dropout': [.2, .3, .4],\n",
        "     'batch_size': [16, 32],\n",
        "     'epochs': [10 ]}\n",
        "\n",
        "\n",
        "def build_tuned_model(x_train, y_train, x_val, y_val, params): # which inputs should we have?\n",
        "  model = Sequential()\n",
        "  model.add(layers.Conv2D(params['first_neuron'], (3,3), activation='relu', input_shape = (156,156,3), padding=\"same\",kernel_regularizer=params['regularizer']))\n",
        "  model.add(layers.Conv2D(params['second_neuron'], (3,3), activation='relu', padding=\"same\",kernel_regularizer=params['regularizer']))\n",
        "  model.add(layers.MaxPooling2D(pool_size=(2, 2), padding=\"same\"))\n",
        "  model.add(layers.Conv2D(params['third_neuron'], (3,3), activation='relu', padding=\"same\",kernel_regularizer=params['regularizer']))\n",
        "  model.add(layers.Conv2D(params['fourth_neuron'], (3,3), activation='relu', padding=\"same\",kernel_regularizer=params['regularizer']))\n",
        "  model.add(layers.MaxPooling2D(pool_size=(2, 2), padding=\"same\"))\n",
        "  model.add(layers.Flatten())\n",
        "  model.add(layers.Dense(params['fifth_neuron'], activation=\"relu\",kernel_regularizer=params['regularizer']))\n",
        "  model.add(layers.Dense(params['sixth_neuron'], activation=\"relu\",kernel_regularizer=params['regularizer']))\n",
        "  model.add(layers.Dense(4, activation=\"softmax\"))\n",
        "\n",
        "  model.compile(optimizer= params['optimizer'], #(lr=lr_normalizer(params['lr'], params['optimizer'])), \n",
        "                         loss=params['losses'],\n",
        "                         metrics=['accuracy',talos.utils.metrics.f1score, talos.utils.metrics.precision, talos.utils.metrics.recall ]\n",
        "                         )\n",
        "  out = model.fit(x_train, y_train, callbacks=[talos.callbacks.ExperimentLog('talos_tuner_2', params)],\n",
        "                  batch_size=params['batch_size'],\n",
        "                  epochs=params['epochs'],\n",
        "                  validation_data=[x_val, y_val],\n",
        "                  verbose=0\n",
        "                  # callbacks=[talos.utils.early_stopper(params['epochs'])]\n",
        "                  )\n",
        "  return out, model\n"
      ],
      "metadata": {
        "id": "oFa5OkfGi6EY"
      },
      "execution_count": null,
      "outputs": []
    },
    {
      "cell_type": "code",
      "source": [
        "# start the experiment\n",
        "scan_object = talos.Scan(x=X_train,\n",
        "                         y=y_train,\n",
        "                         x_val=X_val,\n",
        "                         y_val=y_val,\n",
        "                         model=build_tuned_model,\n",
        "                         experiment_name='talos_tuner_2',\n",
        "                         params=p,\n",
        "                         round_limit=30,\n",
        "                         seed = 42)"
      ],
      "metadata": {
        "id": "9q9LEQwbjZZc"
      },
      "execution_count": null,
      "outputs": []
    },
    {
      "cell_type": "code",
      "source": [
        "scan_object.data.to_csv(\"evaluation_data_talos.csv\")"
      ],
      "metadata": {
        "id": "c91jH8M5nqZu"
      },
      "execution_count": null,
      "outputs": []
    },
    {
      "cell_type": "code",
      "source": [
        "scan_object.evaluate_models(\n",
        "                        x_val=X_val,\n",
        "                        y_val=y_val,\n",
        "                        n_models=30,\n",
        "                        metric='val_accuracy',\n",
        "                        shuffle=True,\n",
        "                        asc=False,\n",
        "                        task ='multi_label'\n",
        "                         )"
      ],
      "metadata": {
        "id": "ZtLVvgeNjerK"
      },
      "execution_count": null,
      "outputs": []
    },
    {
      "cell_type": "code",
      "source": [
        "# get the name of the experiment log\n",
        "!ls -lhtr talos_tuner_2"
      ],
      "metadata": {
        "id": "Chej_lXzjkHz"
      },
      "execution_count": null,
      "outputs": []
    },
    {
      "cell_type": "code",
      "source": [
        "from talos.utils.recover_best_model import recover_best_model\n",
        "\n",
        "results, models = recover_best_model(x_train=X_train,\n",
        "                                     y_train=y_train,\n",
        "                                     x_val=X_val,\n",
        "                                     y_val=y_val,\n",
        "                                     experiment_log='talos_tuner_2/030323111151.csv',\n",
        "                                     input_model=build_tuned_model,\n",
        "                                     n_models=30,\n",
        "                                     metric = \"val_accuracy\",\n",
        "                                    #  average = 'macro',\n",
        "                                     task = 'multi_label'\n",
        "                                     )"
      ],
      "metadata": {
        "id": "14NSxGCkjsgL"
      },
      "execution_count": null,
      "outputs": []
    },
    {
      "cell_type": "code",
      "source": [
        "results_tuning = pd.read_csv(\"talos_tuned_results.csv\")"
      ],
      "metadata": {
        "id": "fg-sqkBnmhvV"
      },
      "execution_count": null,
      "outputs": []
    },
    {
      "cell_type": "code",
      "source": [
        "results_tuning"
      ],
      "metadata": {
        "id": "aw7c1sQ-okAI"
      },
      "execution_count": null,
      "outputs": []
    },
    {
      "cell_type": "code",
      "source": [],
      "metadata": {
        "id": "YW-eBb0aE6kP"
      },
      "execution_count": null,
      "outputs": []
    },
    {
      "cell_type": "code",
      "source": [
        "from tensorflow.keras import models\n",
        "from tensorflow.keras import layers\n",
        "from tensorflow.keras.optimizers import Adam\n",
        "from tensorflow.keras import regularizers\n",
        "\n",
        "def build_tuned_model(optimizer, units1, units2 , units3,units4,units5,units6): # which inputs should we have?\n",
        "  model = models.Sequential()\n",
        "  model.add(layers.Conv2D(units1, (3,3), activation='relu', input_shape = (156,156,3), padding=\"same\",kernel_regularizer=regularizers.l2(0.001)))\n",
        "  model.add(layers.Conv2D(units2, (3,3), activation='relu', padding=\"same\", kernel_regularizer=regularizers.l2(0.001)))\n",
        "  model.add(layers.MaxPooling2D(pool_size=(2, 2), padding=\"same\"))\n",
        "  \n",
        "  model.add(layers.Conv2D(units3, (3,3), activation='relu', padding=\"same\", kernel_regularizer=regularizers.l2(0.001)))\n",
        "  model.add(layers.Conv2D(units4, (3,3), activation='relu', padding=\"same\", kernel_regularizer=regularizers.l2(0.001)))\n",
        "  model.add(layers.MaxPooling2D(pool_size=(2, 2), padding=\"same\"))\n",
        "\n",
        "  model.add(layers.Flatten())\n",
        "\n",
        "  model.add(layers.Dense(units5, activation=\"relu\", kernel_regularizer=regularizers.l2(0.001)))\n",
        "  model.add(layers.Dense(units6, activation=\"relu\", kernel_regularizer=regularizers.l2(0.001)))\n",
        "\n",
        "  model.add(layers.Dense(4, activation=\"softmax\"))\n",
        "\n",
        "  model.compile(optimizer= optimizer, \n",
        "                         loss=\"categorical_crossentropy\",\n",
        "                         metrics=['accuracy']\n",
        "                         )\n",
        "  return model"
      ],
      "metadata": {
        "id": "J_L8S4F3plBa"
      },
      "execution_count": null,
      "outputs": []
    },
    {
      "cell_type": "code",
      "source": [
        "tuned_model = build_tuned_model(optimizer = \"nadam\",units1 = 64, units2 = 64 , units3 = 128, units4= 128, units5 =32, units6 = 128)"
      ],
      "metadata": {
        "id": "mXdx1CFaq7F6"
      },
      "execution_count": null,
      "outputs": []
    },
    {
      "cell_type": "code",
      "source": [
        "from tensorflow.keras.utils import set_random_seed\n",
        "set_random_seed(42)\n",
        "tuned_hist = tuned_model.fit(\n",
        "    X_train,\n",
        "    y_train,\n",
        "    batch_size=32,\n",
        "    epochs=10,\n",
        "    validation_data=(X_val, y_val), \n",
        "    verbose=1\n",
        ")\n",
        "history_dict_tuned = tuned_hist.history\n",
        "history_dict_tuned.keys()"
      ],
      "metadata": {
        "id": "a2nld3FirZdH"
      },
      "execution_count": null,
      "outputs": []
    },
    {
      "cell_type": "code",
      "source": [
        "tuned_model.save(\"./talos_models/final_tuned_model\")\n",
        "np.save(\"./talos_models/final_tuned_model.npy\", history_dict_tuned) #saving"
      ],
      "metadata": {
        "id": "2zDsKNATrsRv"
      },
      "execution_count": null,
      "outputs": []
    },
    {
      "cell_type": "code",
      "source": [
        "t_model_1 = load_model(\"./talos_models/final_tuned_model\") #load the model"
      ],
      "metadata": {
        "id": "GU84-jQuYpku"
      },
      "execution_count": null,
      "outputs": []
    },
    {
      "cell_type": "code",
      "source": [
        "test_loss, test_acc = t_model_1.evaluate(X_test, y_test)\n",
        "print(test_acc)"
      ],
      "metadata": {
        "id": "BtgUmu5IYnHO"
      },
      "execution_count": null,
      "outputs": []
    },
    {
      "cell_type": "code",
      "source": [
        "from keras.models import load_model\n",
        "# baseline_model = load_model(\"./talos_models/baseline_model\") #load the model\n",
        "history_baseline_model=np.load('./talos_models/baseline_model.npy',allow_pickle='TRUE').item() #load teh hist dict\n",
        "\n",
        "# t_model_1 = load_model(\"./talos_models/t_model_1\") #load the model\n",
        "history_tuned_model =np.load('./talos_models/final_tuned_model.npy',allow_pickle='TRUE').item() #load teh hist dict\n",
        "\n",
        "# # t_model_2 = load_model(\"./talos_models/t_model_2\") #load the model\n",
        "# history_t_model_2 =np.load('./talos_models/t_model_2.npy',allow_pickle='TRUE').item() #load teh hist dict\n",
        "\n",
        "# # t_model_3 = load_model(\"./talos_models/t_model_3\") #load the model\n",
        "# history_t_model_3 =np.load('./talos_models/t_model_3.npy',allow_pickle='TRUE').item() #load teh hist dict"
      ],
      "metadata": {
        "id": "ImBtbWBNsy_8"
      },
      "execution_count": null,
      "outputs": []
    },
    {
      "cell_type": "code",
      "source": [
        "import matplotlib.pyplot as plt\n",
        "\n",
        "def plot_history(data_list, label_list, title, ylabel):\n",
        "    ''' Plots a list of vectors.\n",
        "    Parameters:\n",
        "        data_list  : list of vectors containing the values to plot\n",
        "        label_list : list of labels describing the data, one per vector\n",
        "        title      : title of the plot\n",
        "        ylabel     : label for the y axis\n",
        "    '''\n",
        "    epochs = range(1, len(data_list[0]) + 1)\n",
        "    for data, label in zip(data_list, label_list):\n",
        "        plt.plot(epochs, data, label=label)\n",
        "    plt.title(title)\n",
        "    plt.xlabel('Epochs')\n",
        "    plt.ylabel(ylabel)\n",
        "    plt.legend()\n",
        "    plt.show()"
      ],
      "metadata": {
        "id": "I8-EqEpzyDju"
      },
      "execution_count": null,
      "outputs": []
    },
    {
      "cell_type": "code",
      "source": [
        "baseline_val_loss = history_baseline_model['val_loss']\n",
        "tuned_model_val_loss = history_tuned_model['val_loss']\n",
        "# tuned_1_model_val_loss = history_t_model_2['val_loss']\n",
        "# tuned_2_model_val_loss = history_t_model_3['val_loss']\n",
        "\n",
        "\n",
        "plot_history(data_list=[baseline_val_loss, tuned_model_val_loss],\n",
        "             label_list=['Baseline Validation loss', 'Tuned_Model'],\n",
        "             title='Comparison',\n",
        "             ylabel='Validation loss')\n",
        "\n",
        "baseline_loss = history_baseline_model['loss']\n",
        "tuned_model_loss = history_tuned_model['loss']\n",
        "# tuned_1_model_loss = history_t_model_2['loss']\n",
        "# tuned_2_model_loss = history_t_model_3['loss']\n",
        "\n",
        "\n",
        "plot_history(data_list=[baseline_loss, tuned_model_loss],\n",
        "             label_list=['Baseline Training loss',  'Tuned_Model'],\n",
        "             title='Comparison',\n",
        "             ylabel='Training loss')"
      ],
      "metadata": {
        "id": "aVIqjlLBvedR"
      },
      "execution_count": null,
      "outputs": []
    },
    {
      "cell_type": "code",
      "source": [
        "baseline_val_accuracy = history_baseline_model['val_accuracy']\n",
        "tuned_model_val_accuracy = history_tuned_model['val_accuracy']\n",
        "\n",
        "\n",
        "plot_history(data_list=[baseline_val_accuracy, tuned_model_val_accuracy],\n",
        "             label_list=['Baseline Validation accuracy','Tuned_Model'],\n",
        "             title='Comparison',\n",
        "             ylabel='Validation accuracy')"
      ],
      "metadata": {
        "id": "lhqR0-7XyfLk"
      },
      "execution_count": null,
      "outputs": []
    },
    {
      "cell_type": "code",
      "source": [
        "%matplotlib inline\n",
        "\n",
        "acc = history_tuned_model['accuracy']\n",
        "val_acc = history_tuned_model['val_accuracy']\n",
        "loss = history_tuned_model['loss']\n",
        "val_loss = history_tuned_model['val_loss']\n",
        "\n",
        "plot_history(data_list=[loss, val_loss],\n",
        "             label_list=['Training loss', 'Validation loss'],\n",
        "             title='Training and validation loss',\n",
        "             ylabel='Loss')\n",
        "plot_history(data_list=[acc, val_acc],\n",
        "             label_list=['Training acc.', 'Validation acc.'],\n",
        "             title='Training and validation accuracy',\n",
        "             ylabel='Accuracy')"
      ],
      "metadata": {
        "id": "kimeHQzsnIBp"
      },
      "execution_count": null,
      "outputs": []
    },
    {
      "cell_type": "code",
      "source": [
        "y_pred = t_model_1.predict(X_test)"
      ],
      "metadata": {
        "colab": {
          "base_uri": "https://localhost:8080/"
        },
        "outputId": "60cdfe34-fab0-4458-ee38-3490904d1982",
        "id": "SWHGNvkee2as"
      },
      "execution_count": 86,
      "outputs": [
        {
          "output_type": "stream",
          "name": "stdout",
          "text": [
            "41/41 [==============================] - 1s 32ms/step\n"
          ]
        }
      ]
    },
    {
      "cell_type": "code",
      "source": [
        "from sklearn.metrics import roc_curve, auc\n",
        "\n",
        "# store the fpr, tpr, and roc_auc for all averaging strategies\n",
        "fpr, tpr, roc_auc = dict(), dict(), dict()\n",
        "# Compute micro-average ROC curve and ROC area\n",
        "fpr[\"micro\"], tpr[\"micro\"], _ = roc_curve(y_test.ravel(), y_pred.ravel())\n",
        "roc_auc[\"micro\"] = auc(fpr[\"micro\"], tpr[\"micro\"])\n",
        "\n",
        "print(f\"Micro-averaged One-vs-Rest ROC AUC score:\\n{roc_auc['micro']:.2f}\")"
      ],
      "metadata": {
        "colab": {
          "base_uri": "https://localhost:8080/"
        },
        "outputId": "9fbb1f0e-cdc1-4fd4-b70a-91d323581446",
        "id": "qwXnWfpve2at"
      },
      "execution_count": 87,
      "outputs": [
        {
          "output_type": "stream",
          "name": "stdout",
          "text": [
            "Micro-averaged One-vs-Rest ROC AUC score:\n",
            "0.94\n"
          ]
        }
      ]
    },
    {
      "cell_type": "code",
      "source": [
        "for i in range(len(classes)):\n",
        "    fpr[i], tpr[i], _ = roc_curve(y_test[:, i], y_pred[:, i])\n",
        "    roc_auc[i] = auc(fpr[i], tpr[i])\n",
        "\n",
        "fpr_grid = np.linspace(0.0, 1.0, 1000)\n",
        "\n",
        "# Interpolate all ROC curves at these points\n",
        "mean_tpr = np.zeros_like(fpr_grid)\n",
        "\n",
        "for i in range(len(classes)):\n",
        "    mean_tpr += np.interp(fpr_grid, fpr[i], tpr[i])  # linear interpolation\n",
        "\n",
        "# Average it and compute AUC\n",
        "mean_tpr /= len(classes)\n",
        "\n",
        "fpr[\"macro\"] = fpr_grid\n",
        "tpr[\"macro\"] = mean_tpr\n",
        "roc_auc[\"macro\"] = auc(fpr[\"macro\"], tpr[\"macro\"])\n",
        "\n",
        "print(f\"Macro-averaged One-vs-Rest ROC AUC score:\\n{roc_auc['macro']:.2f}\")"
      ],
      "metadata": {
        "colab": {
          "base_uri": "https://localhost:8080/"
        },
        "outputId": "766d06eb-dba9-444d-bc2c-7ed77c0d1553",
        "id": "nCYSE9_5e2av"
      },
      "execution_count": 88,
      "outputs": [
        {
          "output_type": "stream",
          "name": "stdout",
          "text": [
            "Macro-averaged One-vs-Rest ROC AUC score:\n",
            "0.92\n"
          ]
        }
      ]
    },
    {
      "cell_type": "code",
      "source": [
        "from itertools import cycle\n",
        "from sklearn.metrics import RocCurveDisplay\n",
        "\n",
        "fig, ax = plt.subplots(figsize=(6, 6))\n",
        "\n",
        "plt.plot(\n",
        "    fpr[\"micro\"],\n",
        "    tpr[\"micro\"],\n",
        "    label=f\"micro-average ROC curve (AUC = {roc_auc['micro']:.2f})\",\n",
        "    color=\"deeppink\",\n",
        "    linestyle=\":\",\n",
        "    linewidth=4,\n",
        ")\n",
        "\n",
        "plt.plot(\n",
        "    fpr[\"macro\"],\n",
        "    tpr[\"macro\"],\n",
        "    label=f\"macro-average ROC curve (AUC = {roc_auc['macro']:.2f})\",\n",
        "    color=\"navy\",\n",
        "    linestyle=\":\",\n",
        "    linewidth=4,\n",
        ")\n",
        "\n",
        "colors = cycle([\"aqua\", \"darkorange\", \"cornflowerblue\"])\n",
        "for class_id, color in zip(range(len(classes)), colors):\n",
        "    RocCurveDisplay.from_predictions(\n",
        "        y_test[:, class_id],\n",
        "        y_pred[:, class_id],\n",
        "        name=f\"ROC curve for {classes[class_id]}\",\n",
        "        color=color,\n",
        "        ax=ax,\n",
        "    )\n",
        "\n",
        "plt.plot([0, 1], [0, 1], \"k--\", label=\"ROC curve for chance level (AUC = 0.5)\")\n",
        "plt.axis(\"square\")\n",
        "plt.xlabel(\"False Positive Rate\")\n",
        "plt.ylabel(\"True Positive Rate\")\n",
        "plt.title(\"Extension of Receiver Operating Characteristic\\nto One-vs-Rest multiclass\")\n",
        "plt.legend()\n",
        "plt.show()"
      ],
      "metadata": {
        "colab": {
          "base_uri": "https://localhost:8080/",
          "height": 419
        },
        "outputId": "2b0ee662-0b9c-421b-ad8c-1a660049d349",
        "id": "sdl3FrQGe2aw"
      },
      "execution_count": 89,
      "outputs": [
        {
          "output_type": "display_data",
          "data": {
            "text/plain": [
              "<Figure size 432x432 with 1 Axes>"
            ],
            "image/png": "[encoded data removed]"
          },
          "metadata": {
            "needs_background": "light"
          }
        }
      ]
    },
    {
      "cell_type": "code",
      "source": [
        "from sklearn.metrics import confusion_matrix, accuracy_score\n",
        "from sklearn.metrics import ConfusionMatrixDisplay\n",
        "\n",
        "y_val_pred = t_model_1.predict(X_val, verbose=0)\n",
        "y_test_pred = t_model_1.predict(X_test, verbose=0)\n",
        "\n",
        "labels = classes\n",
        "cm = confusion_matrix(y_test.argmax(axis=1), y_test_pred.argmax(axis=1))\n",
        "disp = ConfusionMatrixDisplay(confusion_matrix=cm, display_labels=labels)\n",
        "disp.plot(cmap=plt.cm.Reds)\n",
        "plt.show()\n",
        "\n",
        "labels = classes \n",
        "cm = confusion_matrix(y_val.argmax(axis=1), y_val_pred.argmax(axis=1))\n",
        "disp = ConfusionMatrixDisplay(confusion_matrix=cm, display_labels=labels)\n",
        "disp.plot(cmap=plt.cm.Reds)\n",
        "plt.show()"
      ],
      "metadata": {
        "colab": {
          "base_uri": "https://localhost:8080/",
          "height": 545
        },
        "outputId": "fc8f3a89-952a-43e3-9fce-1ca817680ecc",
        "id": "rK1uC9gMkl2A"
      },
      "execution_count": 90,
      "outputs": [
        {
          "output_type": "display_data",
          "data": {
            "text/plain": [
              "<Figure size 432x288 with 2 Axes>"
            ],
            "image/png": "[encoded data removed]"
          },
          "metadata": {
            "needs_background": "light"
          }
        },
        {
          "output_type": "display_data",
          "data": {
            "text/plain": [
              "<Figure size 432x288 with 2 Axes>"
            ],
            "image/png": "[encoded data removed]"
          },
          "metadata": {
            "needs_background": "light"
          }
        }
      ]
    },
    {
      "cell_type": "markdown",
      "metadata": {
        "id": "CBGr0x8ZcFn9"
      },
      "source": [
        "# Transfer Learning"
      ]
    },
    {
      "cell_type": "markdown",
      "source": [
        "Utilize VGG16 or ResNet50 architecture for feature extraction. Freeze the layers until the fully connected layer such that these layers will not be updated through training. Add your fully connected layers (as many as you like) and present the results that you obtained on the test set (ROC curve with AUC score, performance measures and confusion matrix). Comment on the performance with respect to the baseline and the network that you designed in the previous step."
      ],
      "metadata": {
        "id": "PuKVIsz_T0Y_"
      }
    },
    {
      "cell_type": "code",
      "source": [
        "# example of loading the resnet50 model\n",
        "from keras.applications.resnet import ResNet50\n",
        "# load model\n",
        "resnet_model = ResNet50(include_top=False, input_shape=(156, 156, 3))\n",
        "# summarize the model\n",
        "resnet_model.summary()\n",
        "# mark loaded layers as not trainable\n",
        "for layer in resnet_model.layers:\n",
        "\tlayer.trainable = False"
      ],
      "metadata": {
        "id": "BNBboygVg8l7"
      },
      "execution_count": null,
      "outputs": []
    },
    {
      "cell_type": "code",
      "source": [
        "from tensorflow.keras import layers\n",
        "from keras.models import Model\n",
        "from tensorflow.keras.optimizers import Adam\n",
        "from tensorflow.keras import regularizers\n",
        "\n",
        "# add new classifier layers\n",
        "#add flatten layer\n",
        "flat1 = layers.Flatten()(resnet_model.layers[-1].output)\n",
        "#add Dense layers\n",
        "class1 = layers.Dense(32, activation=\"relu\", kernel_regularizer=regularizers.l2(0.001))(flat1)\n",
        "class2 = layers.Dense(128, activation=\"relu\", kernel_regularizer=regularizers.l2(0.001))(class1)\n",
        "#add output layer with softmax activation\n",
        "output = layers.Dense(4, activation=\"softmax\")(class2)\n",
        "# define new model\n",
        "resnet_model = Model(inputs=resnet_model.inputs, outputs=output)\n",
        "\n",
        "  # summarize\n",
        "resnet_model.summary()"
      ],
      "metadata": {
        "id": "jGmSrlR3sK7M"
      },
      "execution_count": null,
      "outputs": []
    },
    {
      "cell_type": "code",
      "source": [
        "resnet_model.compile(optimizer = \"nadam\", \n",
        "                         loss=\"categorical_crossentropy\",\n",
        "                         metrics=['accuracy']\n",
        "                         )"
      ],
      "metadata": {
        "id": "OYGLPsbiw54V"
      },
      "execution_count": null,
      "outputs": []
    },
    {
      "cell_type": "code",
      "source": [
        "from tensorflow.keras.utils import set_random_seed\n",
        "set_random_seed(42)\n",
        "resnet_hist = resnet_model.fit(\n",
        "    X_train,\n",
        "    y_train,\n",
        "    batch_size=32,\n",
        "    epochs=10,\n",
        "    validation_data=(X_val, y_val), \n",
        "    verbose=1\n",
        ")\n",
        "history_dict_resnet = resnet_hist.history\n",
        "history_dict_resnet.keys()"
      ],
      "metadata": {
        "id": "-P_y_R-JyEgb"
      },
      "execution_count": null,
      "outputs": []
    },
    {
      "cell_type": "code",
      "source": [
        "print(history_dict_resnet)"
      ],
      "metadata": {
        "id": "ustJxUsAzfq4"
      },
      "execution_count": null,
      "outputs": []
    },
    {
      "cell_type": "code",
      "source": [
        "# testing ResNet50 transfer learning model\n",
        "test_loss, test_acc = resnet_model.evaluate(X_test, y_test)\n",
        "print(test_acc)"
      ],
      "metadata": {
        "id": "8QsABbaRIXgu"
      },
      "execution_count": null,
      "outputs": []
    },
    {
      "cell_type": "code",
      "source": [
        "resnet_model.save(\"./talos_models/resnet_model2\")\n",
        "np.save(\"./talos_models/resnet_model2.npy\", history_dict_resnet) #saving"
      ],
      "metadata": {
        "id": "gcPpQShgKrh9"
      },
      "execution_count": null,
      "outputs": []
    },
    {
      "cell_type": "code",
      "source": [
        "# example of loading the vgg16 model\n",
        "from keras.applications.vgg16 import VGG16\n",
        "# load model\n",
        "vgg_model = VGG16(include_top=False, input_shape=(156, 156, 3))\n",
        "# summarize the model\n",
        "vgg_model.summary()\n",
        "# mark loaded layers as not trainable\n",
        "for layer in vgg_model.layers:\n",
        "\tlayer.trainable = False"
      ],
      "metadata": {
        "id": "Q11i4g-ArEeC"
      },
      "execution_count": null,
      "outputs": []
    },
    {
      "cell_type": "code",
      "source": [
        "# add new classifier layers\n",
        "#add flatten layer\n",
        "flat1 = layers.Flatten()(vgg_model.layers[-1].output)\n",
        "#add Dense layers\n",
        "class1 = layers.Dense(32, activation=\"relu\", kernel_regularizer=regularizers.l2(0.001))(flat1)\n",
        "class2 = layers.Dense(128, activation=\"relu\", kernel_regularizer=regularizers.l2(0.001))(class1)\n",
        "#add output layer with softmax activation\n",
        "output = layers.Dense(4, activation=\"softmax\")(class2)\n",
        "# define new model\n",
        "vgg_model = Model(inputs=vgg_model.inputs, outputs=output)\n",
        "\n",
        "  # summarize\n",
        "vgg_model.summary()"
      ],
      "metadata": {
        "id": "EShXzNM7QzOb"
      },
      "execution_count": null,
      "outputs": []
    },
    {
      "cell_type": "code",
      "source": [
        "vgg_model.compile(optimizer = \"nadam\", \n",
        "                         loss=\"categorical_crossentropy\",\n",
        "                         metrics=['accuracy']\n",
        "                         )"
      ],
      "metadata": {
        "id": "jHucOGxmS0vO"
      },
      "execution_count": null,
      "outputs": []
    },
    {
      "cell_type": "code",
      "source": [
        "from tensorflow.keras.utils import set_random_seed\n",
        "set_random_seed(42)\n",
        "vgg_hist = vgg_model.fit(\n",
        "    X_train,\n",
        "    y_train,\n",
        "    batch_size=32,\n",
        "    epochs=10,\n",
        "    validation_data=(X_val, y_val), \n",
        "    verbose=1\n",
        ")\n",
        "history_dict_vgg = vgg_hist.history\n",
        "history_dict_vgg.keys()"
      ],
      "metadata": {
        "id": "9IgNP5l_TEwM"
      },
      "execution_count": null,
      "outputs": []
    },
    {
      "cell_type": "code",
      "source": [
        "# testing VGG16 transfer learning model\n",
        "test_loss, test_acc = vgg_model.evaluate(X_test, y_test)\n",
        "print(test_acc)"
      ],
      "metadata": {
        "id": "MTAjZLuATxUT"
      },
      "execution_count": null,
      "outputs": []
    },
    {
      "cell_type": "code",
      "source": [
        "#saving\n",
        "vgg_model.save(\"./talos_models/vgg_model2\")\n",
        "np.save(\"./talos_models/vgg_model2.npy\", history_dict_vgg) "
      ],
      "metadata": {
        "id": "hMMHyZmyUOR7"
      },
      "execution_count": null,
      "outputs": []
    },
    {
      "cell_type": "code",
      "source": [
        "from keras.models import load_model\n",
        "# baseline_model = load_model(\"./talos_models/baseline_model\") #load the model\n",
        "history_baseline_model=np.load('./talos_models/baseline_model.npy',allow_pickle='TRUE').item() #load teh hist dict\n",
        "\n",
        "# t_model_1 = load_model(\"./talos_models/t_model_1\") #load the model\n",
        "history_tuned_model =np.load('./talos_models/final_tuned_model.npy',allow_pickle='TRUE').item() #load teh hist dict\n",
        "\n",
        "# ResNet50 Transfer Learning Model\n",
        "history_resnet_model =np.load('./talos_models/resnet_model2.npy',allow_pickle='TRUE').item() #load teh hist dict\n",
        "\n",
        "#VGG16 Transfer Learning Model\n",
        "history_vgg_model =np.load('./talos_models/vgg_model2.npy',allow_pickle='TRUE').item() #load teh hist dict\n",
        "\n",
        "# # t_model_2 = load_model(\"./talos_models/t_model_2\") #load the model\n",
        "# history_t_model_2 =np.load('./talos_models/t_model_2.npy',allow_pickle='TRUE').item() #load teh hist dict\n",
        "\n",
        "# # t_model_3 = load_model(\"./talos_models/t_model_3\") #load the model\n",
        "# history_t_model_3 =np.load('./talos_models/t_model_3.npy',allow_pickle='TRUE').item() #load teh hist dict"
      ],
      "metadata": {
        "id": "x57CF2W9KSl7"
      },
      "execution_count": null,
      "outputs": []
    },
    {
      "cell_type": "code",
      "source": [
        "model1 = history_baseline_model\n",
        "model2 = history_tuned_model\n",
        "model3 = history_resnet_model\n",
        "model4 = history_vgg_model\n",
        "\n",
        "baseline_val_accuracy = model1['val_accuracy']\n",
        "tuned_model_val_accuracy = model2['val_accuracy']\n",
        "resnet_model_val_accuracy = model3['val_accuracy']\n",
        "vgg_model_val_accuracy = model4['val_accuracy']\n",
        "\n",
        "plot_history(data_list=[baseline_val_accuracy, tuned_model_val_accuracy, resnet_model_val_accuracy, vgg_model_val_accuracy],\n",
        "             label_list=['Baseline Validation accuracy','Tuned_Model', 'ResNet50', 'VGG16'],\n",
        "             title='Comparison',\n",
        "             ylabel='Validation accuracy')"
      ],
      "metadata": {
        "id": "9cF_giyjO55z"
      },
      "execution_count": null,
      "outputs": []
    },
    {
      "cell_type": "code",
      "source": [
        "baseline_val_loss = model1['val_loss']\n",
        "tuned_model_val_loss = model2['val_loss']\n",
        "resnet_model_val_loss = model3['val_loss']\n",
        "vgg_model_val_loss = model4['val_loss']\n",
        "# tuned_1_model_val_loss = history_t_model_2['val_loss']\n",
        "# tuned_2_model_val_loss = history_t_model_3['val_loss']\n",
        "\n",
        "\n",
        "plot_history(data_list=[baseline_val_loss, tuned_model_val_loss, resnet_model_val_loss, vgg_model_val_loss],\n",
        "             label_list=['Baseline Validation loss', 'Tuned_Model', 'ResNet50', 'VGG16'],\n",
        "             title='Comparison',\n",
        "             ylabel='Validation loss')\n",
        "\n",
        "baseline_loss = model1['loss']\n",
        "tuned_model_loss = model2['loss']\n",
        "resnet_model_loss = model3['loss']\n",
        "vgg_model_loss = model4['loss']\n",
        "# tuned_1_model_loss = history_t_model_2['loss']\n",
        "# tuned_2_model_loss = history_t_model_3['loss']\n",
        "\n",
        "\n",
        "plot_history(data_list=[baseline_loss, tuned_model_loss, resnet_model_loss, vgg_model_loss],\n",
        "             label_list=['Baseline Training loss',  'Tuned_Model', 'ResNet50', 'VGG16'],\n",
        "             title='Comparison',\n",
        "             ylabel='Training loss')"
      ],
      "metadata": {
        "id": "TWwKpCPbNdZt"
      },
      "execution_count": null,
      "outputs": []
    },
    {
      "cell_type": "code",
      "source": [
        "%matplotlib inline\n",
        "\n",
        "acc = model3['accuracy']\n",
        "val_acc = model3['val_accuracy']\n",
        "loss = model3['loss']\n",
        "val_loss = model3['val_loss']\n",
        "\n",
        "plot_history(data_list=[loss, val_loss],\n",
        "             label_list=['Training loss', 'Validation loss'],\n",
        "             title='Training and validation loss',\n",
        "             ylabel='Loss')\n",
        "plot_history(data_list=[acc, val_acc],\n",
        "             label_list=['Training acc.', 'Validation acc.'],\n",
        "             title='Training and validation accuracy',\n",
        "             ylabel='Accuracy')"
      ],
      "metadata": {
        "id": "79ULQd1OKG93"
      },
      "execution_count": null,
      "outputs": []
    },
    {
      "cell_type": "code",
      "source": [
        "acc = model4['accuracy']\n",
        "val_acc = model4['val_accuracy']\n",
        "loss = model4['loss']\n",
        "val_loss = model4['val_loss']\n",
        "\n",
        "plot_history(data_list=[loss, val_loss],\n",
        "             label_list=['Training loss', 'Validation loss'],\n",
        "             title='Training and validation loss',\n",
        "             ylabel='Loss')\n",
        "plot_history(data_list=[acc, val_acc],\n",
        "             label_list=['Training acc.', 'Validation acc.'],\n",
        "             title='Training and validation accuracy',\n",
        "             ylabel='Accuracy')"
      ],
      "metadata": {
        "id": "4Uwahz7qbc7q"
      },
      "execution_count": null,
      "outputs": []
    },
    {
      "cell_type": "code",
      "source": [
        "y_pred = resnet_model.predict(X_test)"
      ],
      "metadata": {
        "id": "hW7tKpl0dVdv"
      },
      "execution_count": null,
      "outputs": []
    },
    {
      "cell_type": "code",
      "source": [
        "from sklearn.metrics import roc_curve, auc\n",
        "\n",
        "# store the fpr, tpr, and roc_auc for all averaging strategies\n",
        "fpr, tpr, roc_auc = dict(), dict(), dict()\n",
        "# Compute micro-average ROC curve and ROC area\n",
        "fpr[\"micro\"], tpr[\"micro\"], _ = roc_curve(y_test.ravel(), y_pred.ravel())\n",
        "roc_auc[\"micro\"] = auc(fpr[\"micro\"], tpr[\"micro\"])\n",
        "\n",
        "print(f\"Micro-averaged One-vs-Rest ROC AUC score:\\n{roc_auc['micro']:.2f}\")"
      ],
      "metadata": {
        "id": "TMylEdR2dVdy"
      },
      "execution_count": null,
      "outputs": []
    },
    {
      "cell_type": "code",
      "source": [
        "for i in range(len(classes)):\n",
        "    fpr[i], tpr[i], _ = roc_curve(y_test[:, i], y_pred[:, i])\n",
        "    roc_auc[i] = auc(fpr[i], tpr[i])\n",
        "\n",
        "fpr_grid = np.linspace(0.0, 1.0, 1000)\n",
        "\n",
        "# Interpolate all ROC curves at these points\n",
        "mean_tpr = np.zeros_like(fpr_grid)\n",
        "\n",
        "for i in range(len(classes)):\n",
        "    mean_tpr += np.interp(fpr_grid, fpr[i], tpr[i])  # linear interpolation\n",
        "\n",
        "# Average it and compute AUC\n",
        "mean_tpr /= len(classes)\n",
        "\n",
        "fpr[\"macro\"] = fpr_grid\n",
        "tpr[\"macro\"] = mean_tpr\n",
        "roc_auc[\"macro\"] = auc(fpr[\"macro\"], tpr[\"macro\"])\n",
        "\n",
        "print(f\"Macro-averaged One-vs-Rest ROC AUC score:\\n{roc_auc['macro']:.2f}\")"
      ],
      "metadata": {
        "id": "ucOhou2WdVd0"
      },
      "execution_count": null,
      "outputs": []
    },
    {
      "cell_type": "code",
      "source": [
        "from itertools import cycle\n",
        "from sklearn.metrics import RocCurveDisplay\n",
        "\n",
        "fig, ax = plt.subplots(figsize=(6, 6))\n",
        "\n",
        "plt.plot(\n",
        "    fpr[\"micro\"],\n",
        "    tpr[\"micro\"],\n",
        "    label=f\"micro-average ROC curve (AUC = {roc_auc['micro']:.2f})\",\n",
        "    color=\"deeppink\",\n",
        "    linestyle=\":\",\n",
        "    linewidth=4,\n",
        ")\n",
        "\n",
        "plt.plot(\n",
        "    fpr[\"macro\"],\n",
        "    tpr[\"macro\"],\n",
        "    label=f\"macro-average ROC curve (AUC = {roc_auc['macro']:.2f})\",\n",
        "    color=\"navy\",\n",
        "    linestyle=\":\",\n",
        "    linewidth=4,\n",
        ")\n",
        "\n",
        "colors = cycle([\"aqua\", \"darkorange\", \"cornflowerblue\"])\n",
        "for class_id, color in zip(range(len(classes)), colors):\n",
        "    RocCurveDisplay.from_predictions(\n",
        "        y_test[:, class_id],\n",
        "        y_pred[:, class_id],\n",
        "        name=f\"ROC curve for {classes[class_id]}\",\n",
        "        color=color,\n",
        "        ax=ax,\n",
        "    )\n",
        "\n",
        "plt.plot([0, 1], [0, 1], \"k--\", label=\"ROC curve for chance level (AUC = 0.5)\")\n",
        "plt.axis(\"square\")\n",
        "plt.xlabel(\"False Positive Rate\")\n",
        "plt.ylabel(\"True Positive Rate\")\n",
        "plt.title(\"Extension of Receiver Operating Characteristic\\nto One-vs-Rest multiclass\")\n",
        "plt.legend()\n",
        "plt.show()"
      ],
      "metadata": {
        "id": "x1nlU_OGdVd1"
      },
      "execution_count": null,
      "outputs": []
    },
    {
      "cell_type": "code",
      "source": [
        "from sklearn.metrics import confusion_matrix, accuracy_score\n",
        "from sklearn.metrics import ConfusionMatrixDisplay\n",
        "\n",
        "y_val_pred = resnet_model.predict(X_val, verbose=0)\n",
        "y_test_pred = resnet_model.predict(X_test, verbose=0)\n",
        "\n",
        "labels = classes\n",
        "cm = confusion_matrix(y_test.argmax(axis=1), y_test_pred.argmax(axis=1))\n",
        "disp = ConfusionMatrixDisplay(confusion_matrix=cm, display_labels=labels)\n",
        "disp.plot(cmap=plt.cm.Reds)\n",
        "plt.show()\n",
        "\n",
        "labels = classes \n",
        "cm = confusion_matrix(y_val.argmax(axis=1), y_val_pred.argmax(axis=1))\n",
        "disp = ConfusionMatrixDisplay(confusion_matrix=cm, display_labels=labels)\n",
        "disp.plot(cmap=plt.cm.Reds)\n",
        "plt.show()"
      ],
      "metadata": {
        "id": "QP3G5KlTk3io"
      },
      "execution_count": null,
      "outputs": []
    },
    {
      "cell_type": "code",
      "source": [
        "y_pred = vgg_model.predict(X_test)"
      ],
      "metadata": {
        "id": "kRN8jcIoeXkZ"
      },
      "execution_count": null,
      "outputs": []
    },
    {
      "cell_type": "code",
      "source": [
        "from sklearn.metrics import roc_curve, auc\n",
        "\n",
        "# store the fpr, tpr, and roc_auc for all averaging strategies\n",
        "fpr, tpr, roc_auc = dict(), dict(), dict()\n",
        "# Compute micro-average ROC curve and ROC area\n",
        "fpr[\"micro\"], tpr[\"micro\"], _ = roc_curve(y_test.ravel(), y_pred.ravel())\n",
        "roc_auc[\"micro\"] = auc(fpr[\"micro\"], tpr[\"micro\"])\n",
        "\n",
        "print(f\"Micro-averaged One-vs-Rest ROC AUC score:\\n{roc_auc['micro']:.2f}\")"
      ],
      "metadata": {
        "id": "i9WQ-oE1eXkb"
      },
      "execution_count": null,
      "outputs": []
    },
    {
      "cell_type": "code",
      "source": [
        "for i in range(len(classes)):\n",
        "    fpr[i], tpr[i], _ = roc_curve(y_test[:, i], y_pred[:, i])\n",
        "    roc_auc[i] = auc(fpr[i], tpr[i])\n",
        "\n",
        "fpr_grid = np.linspace(0.0, 1.0, 1000)\n",
        "\n",
        "# Interpolate all ROC curves at these points\n",
        "mean_tpr = np.zeros_like(fpr_grid)\n",
        "\n",
        "for i in range(len(classes)):\n",
        "    mean_tpr += np.interp(fpr_grid, fpr[i], tpr[i])  # linear interpolation\n",
        "\n",
        "# Average it and compute AUC\n",
        "mean_tpr /= len(classes)\n",
        "\n",
        "fpr[\"macro\"] = fpr_grid\n",
        "tpr[\"macro\"] = mean_tpr\n",
        "roc_auc[\"macro\"] = auc(fpr[\"macro\"], tpr[\"macro\"])\n",
        "\n",
        "print(f\"Macro-averaged One-vs-Rest ROC AUC score:\\n{roc_auc['macro']:.2f}\")"
      ],
      "metadata": {
        "id": "7Q4amLroeXkd"
      },
      "execution_count": null,
      "outputs": []
    },
    {
      "cell_type": "code",
      "source": [
        "from itertools import cycle\n",
        "from sklearn.metrics import RocCurveDisplay\n",
        "\n",
        "fig, ax = plt.subplots(figsize=(6, 6))\n",
        "\n",
        "plt.plot(\n",
        "    fpr[\"micro\"],\n",
        "    tpr[\"micro\"],\n",
        "    label=f\"micro-average ROC curve (AUC = {roc_auc['micro']:.2f})\",\n",
        "    color=\"deeppink\",\n",
        "    linestyle=\":\",\n",
        "    linewidth=4,\n",
        ")\n",
        "\n",
        "plt.plot(\n",
        "    fpr[\"macro\"],\n",
        "    tpr[\"macro\"],\n",
        "    label=f\"macro-average ROC curve (AUC = {roc_auc['macro']:.2f})\",\n",
        "    color=\"navy\",\n",
        "    linestyle=\":\",\n",
        "    linewidth=4,\n",
        ")\n",
        "\n",
        "colors = cycle([\"aqua\", \"darkorange\", \"cornflowerblue\"])\n",
        "for class_id, color in zip(range(len(classes)), colors):\n",
        "    RocCurveDisplay.from_predictions(\n",
        "        y_test[:, class_id],\n",
        "        y_pred[:, class_id],\n",
        "        name=f\"ROC curve for {classes[class_id]}\",\n",
        "        color=color,\n",
        "        ax=ax,\n",
        "    )\n",
        "\n",
        "plt.plot([0, 1], [0, 1], \"k--\", label=\"ROC curve for chance level (AUC = 0.5)\")\n",
        "plt.axis(\"square\")\n",
        "plt.xlabel(\"False Positive Rate\")\n",
        "plt.ylabel(\"True Positive Rate\")\n",
        "plt.title(\"Extension of Receiver Operating Characteristic\\nto One-vs-Rest multiclass\")\n",
        "plt.legend()\n",
        "plt.show()"
      ],
      "metadata": {
        "id": "DSsP_GEfeXkg"
      },
      "execution_count": null,
      "outputs": []
    }
  ],
  "metadata": {
    "accelerator": "GPU",
    "colab": {
      "provenance": [],
      "include_colab_link": true
    },
    "gpuClass": "standard",
    "kernelspec": {
      "display_name": "Python 3",
      "name": "python3"
    },
    "language_info": {
      "name": "python"
    }
  },
  "nbformat": 4,
  "nbformat_minor": 0
}
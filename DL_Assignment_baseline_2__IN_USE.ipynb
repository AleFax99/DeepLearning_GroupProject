{
  "cells": [
    {
      "cell_type": "markdown",
      "metadata": {
        "id": "view-in-github",
        "colab_type": "text"
      },
      "source": [
        "<a href=\"https://colab.research.google.com/github/AleFax99/DeepLearning_GroupProject/blob/main/DL_Assignment_baseline_2__IN_USE.ipynb\" target=\"_parent\"><img src=\"https://colab.research.google.com/assets/colab-badge.svg\" alt=\"Open In Colab\"/></a>"
      ]
    },
    {
      "cell_type": "markdown",
      "metadata": {
        "id": "xveQIshNWYdc"
      },
      "source": [
        "# Loading Dataset\n",
        "\n",
        "You can download the dataset from {https://darwin.v7labs.com/v7-labs/covid-19-chest-x-ray-dataset?sort=priority\\%3Adesc}.\n",
        "The data entitled as '`darwin dataset pull v7-labs/covid-19-chest-x-ray-dataset:all-images`' will be used in this assignment. All dataset consist of 6504 images from 702 classes. We will extract the images of 4 classes (Bacterial Pneumonia, Viral Pneumonia, No Pneumonia (healthy), Covid-19) and save them as .npy file with the following code:"
      ]
    },
    {
      "cell_type": "code",
      "source": [
        "#Helloo \n",
        "# hellooooo\n"
      ],
      "metadata": {
        "id": "rpcTMIbkotRM"
      },
      "execution_count": 1,
      "outputs": []
    },
    {
      "cell_type": "code",
      "source": [
        "from google.colab import drive\n",
        "drive.mount('/content/drive')"
      ],
      "metadata": {
        "colab": {
          "base_uri": "https://localhost:8080/"
        },
        "id": "DlgH4Tr-h0ra",
        "outputId": "ad72c3a8-b38a-4977-83ba-8544b2a623f6"
      },
      "execution_count": 2,
      "outputs": [
        {
          "output_type": "stream",
          "name": "stdout",
          "text": [
            "Drive already mounted at /content/drive; to attempt to forcibly remount, call drive.mount(\"/content/drive\", force_remount=True).\n"
          ]
        }
      ]
    },
    {
      "cell_type": "code",
      "source": [
        "%cd /content/drive/MyDrive/Deep Learning/Deep Learning - Group Project\n",
        "!pwd"
      ],
      "metadata": {
        "colab": {
          "base_uri": "https://localhost:8080/"
        },
        "id": "5BzFl_xzjC3f",
        "outputId": "84549d91-81e0-42aa-afbe-7803cb99717e"
      },
      "execution_count": 3,
      "outputs": [
        {
          "output_type": "stream",
          "name": "stdout",
          "text": [
            "/content/drive/MyDrive/Deep Learning/Deep Learning - Group Project\n",
            "/content/drive/MyDrive/Deep Learning/Deep Learning - Group Project\n"
          ]
        }
      ]
    },
    {
      "cell_type": "code",
      "source": [
        "# import json\n",
        "# import numpy as np\n",
        "# import glob\n",
        "# import pandas as pd\n",
        "\n",
        "# # importing modules\n",
        "# import urllib.request\n",
        "# from PIL import Image\n",
        "# from keras import layers, models\n"
      ],
      "metadata": {
        "id": "_dF2YNr03Czt"
      },
      "execution_count": 4,
      "outputs": []
    },
    {
      "cell_type": "code",
      "source": [
        "# import json\n",
        "# import numpy as np\n",
        "# import glob\n",
        "# import pandas as pd\n",
        "\n",
        "# # importing modules\n",
        "# import urllib.request\n",
        "# from PIL import Image\n",
        "# from keras import layers, models\n",
        "# import tensorflow as tf\n",
        "\n",
        "# # all-images file should be uploaded to the same file\n",
        "# imageNames = glob.glob(\"./all-images/*\")\n",
        "# print(type(imageNames))\n",
        "# print(len(imageNames))\n",
        "# print(imageNames)"
      ],
      "metadata": {
        "id": "BF_rmtOElt08"
      },
      "execution_count": 5,
      "outputs": []
    },
    {
      "cell_type": "code",
      "execution_count": 6,
      "metadata": {
        "id": "I6bqTVRSs-sw"
      },
      "outputs": [],
      "source": [
        "\n",
        "# import json\n",
        "# import numpy as np\n",
        "# import glob\n",
        "# import pandas as pd\n",
        "\n",
        "# # importing modules\n",
        "# import urllib.request\n",
        "# from PIL import Image\n",
        "# from keras import layers, models\n",
        "# import tensorflow as tf\n",
        "\n",
        "# # all-images file should be uploaded to the same file\n",
        "# imageNames = glob.glob(\"./all-images/*\")\n",
        "\n",
        "# dataset = []\n",
        "# labels = []\n",
        "\n",
        "# for i, imName in enumerate(imageNames):\n",
        "\n",
        "#     # Opening JSON file\n",
        "#     f = open(imName)\n",
        "#     data = json.load(f)\n",
        "#     for j in range(len(data['annotations'])):\n",
        "\n",
        "#         if 'COVID-19' in (data['annotations'][j]['name']):\n",
        "#           #load images from url    \n",
        "#             urllib.request.urlretrieve(data['image']['url'],\"img.png\")    \n",
        "#             img = Image.open(\"img.png\")\n",
        "#             #convert images to grayscale\n",
        "#             imgGray = img.convert('L')\n",
        "#             #resize the image (156x156)\n",
        "#             im = imgGray.resize((156,156), Image.LANCZOS)           \n",
        "#             label = data['annotations'][j]['name']\n",
        "#             dataset.append(np.array(im))\n",
        "#             labels.append(label)\n",
        "#             print(label)\n",
        "#             break\n",
        "\n",
        "#         if 'Viral Pneumonia' in (data['annotations'][j]['name']) \\\n",
        "#             or 'Bacterial Pneumonia' in (data['annotations'][j]['name']) \\\n",
        "#             or 'No Pneumonia (healthy)' in (data['annotations'][j]['name']):\n",
        "#             #load images from url    \n",
        "#             urllib.request.urlretrieve(data['image']['url'],\"img.png\")    \n",
        "#             img = Image.open(\"img.png\")\n",
        "#             #convert images to grayscale\n",
        "#             imgGray = img.convert('L')\n",
        "#             #resize the image (156x156)\n",
        "#             im = imgGray.resize((156,156), Image.LANCZOS)           \n",
        "#             label = data['annotations'][j]['name']\n",
        "#             dataset.append(np.array(im))\n",
        "#             labels.append(label)\n",
        "#             break\n",
        "\n",
        "# #Convert data shape of (n_of_samples, width, height, 1)\n",
        "# dataset = np.dstack(dataset)    \n",
        "# dataset = np.rollaxis(dataset,-1)\n",
        "# labels = np.array(labels)\n",
        "\n",
        "# #convert images gray scale to rgb\n",
        "# data = np.array(layers.Lambda(tf.image.grayscale_to_rgb)(tf.expand_dims(dataset, -1)))\n",
        "\n",
        "# # save data and labels into a folder\n",
        "# np.save(\"./data.npy\", data)\n",
        "# np.save(\"./labels.npy\", labels)"
      ]
    },
    {
      "cell_type": "markdown",
      "metadata": {
        "id": "Dn3sH7yJWboe"
      },
      "source": [
        "Once you save your data, you can load it from your directory."
      ]
    },
    {
      "cell_type": "code",
      "execution_count": 7,
      "metadata": {
        "id": "b6ZPDhVLWbyq"
      },
      "outputs": [],
      "source": [
        "import numpy as np\n",
        "\n",
        "data = np.load('./data.npy')\n",
        "labels = np.load('./labels.npy')"
      ]
    },
    {
      "cell_type": "markdown",
      "metadata": {
        "id": "B1b7dP-VbJpC"
      },
      "source": [
        "# Preprocessing Steps\n",
        "\n"
      ]
    },
    {
      "cell_type": "markdown",
      "metadata": {
        "id": "xC_YmdQMbn1K"
      },
      "source": [
        "## Splitting Data"
      ]
    },
    {
      "cell_type": "code",
      "execution_count": 8,
      "metadata": {
        "id": "xStbdJAHblFv",
        "outputId": "90f475ea-e078-42c4-c712-ac9a10c2e42f",
        "colab": {
          "base_uri": "https://localhost:8080/"
        }
      },
      "outputs": [
        {
          "output_type": "stream",
          "name": "stdout",
          "text": [
            "(3840, 156, 156, 3) (1280, 156, 156, 3) (1281, 156, 156, 3)\n"
          ]
        }
      ],
      "source": [
        "from sklearn.model_selection import train_test_split\n",
        "X_train_val, X_test, y_train_val, y_test = train_test_split(data, labels, test_size= 0.2, stratify= labels, random_state=42)\n",
        "\n",
        "X_train, X_val, y_train, y_val = train_test_split(X_train_val, y_train_val, test_size= 0.25, stratify= y_train_val , random_state=42)\n",
        "\n",
        "print(X_train.shape, X_val.shape, X_test.shape)\n"
      ]
    },
    {
      "cell_type": "markdown",
      "metadata": {
        "id": "R-r4ta3MbKLJ"
      },
      "source": [
        "## Normalize Data"
      ]
    },
    {
      "cell_type": "code",
      "execution_count": 9,
      "metadata": {
        "id": "LeplL77mbKS4"
      },
      "outputs": [],
      "source": [
        "# from skimage import io, color\n",
        "# import matplotlib.pyplot as plt\n",
        "# %matplotlib inline\n",
        "# from skimage.filters import threshold_otsu\n",
        "\n",
        "# data_list = []\n",
        "# for im in X_train: \n",
        "# # read image from disk, provide the correct path \n",
        "# # convert to float\n",
        "#   im = im.astype(float)                \n",
        "# # normarlize the intensity values a range between 0 and 1\n",
        "#   im = im-im.min()                    \n",
        "#   im = im/im.max()\n",
        "#   data_list.append(im)\n",
        "\n",
        "# normalize to range 0-1\n",
        "# Note: minimum = 0, maximum = 255.0\n",
        "# Formula: (value - minimum) / (maximum - minimum)\n",
        "X_train = X_train / 255.0\n",
        "X_val = X_val / 255.0\n",
        "X_test = X_test / 255.0"
      ]
    },
    {
      "cell_type": "code",
      "source": [
        "print(X_train.shape)\n",
        "print(X_val.shape)\n",
        "print(X_test.shape)"
      ],
      "metadata": {
        "id": "XiANGqHfAqLD",
        "outputId": "73a44208-fd51-44ed-c59d-fb8eb55a89e5",
        "colab": {
          "base_uri": "https://localhost:8080/"
        }
      },
      "execution_count": 10,
      "outputs": [
        {
          "output_type": "stream",
          "name": "stdout",
          "text": [
            "(3840, 156, 156, 3)\n",
            "(1280, 156, 156, 3)\n",
            "(1281, 156, 156, 3)\n"
          ]
        }
      ]
    },
    {
      "cell_type": "code",
      "source": [
        "type(y_train)"
      ],
      "metadata": {
        "id": "yvr05hoED-dL",
        "outputId": "3d494421-d69e-447c-f0d7-769adfe8f4c2",
        "colab": {
          "base_uri": "https://localhost:8080/"
        }
      },
      "execution_count": 11,
      "outputs": [
        {
          "output_type": "execute_result",
          "data": {
            "text/plain": [
              "numpy.ndarray"
            ]
          },
          "metadata": {},
          "execution_count": 11
        }
      ]
    },
    {
      "cell_type": "code",
      "source": [
        "y_train.shape"
      ],
      "metadata": {
        "id": "mhLY9is0EE2e",
        "outputId": "3a01477b-c449-480f-9019-22ea0c46480f",
        "colab": {
          "base_uri": "https://localhost:8080/"
        }
      },
      "execution_count": 12,
      "outputs": [
        {
          "output_type": "execute_result",
          "data": {
            "text/plain": [
              "(3840,)"
            ]
          },
          "metadata": {},
          "execution_count": 12
        }
      ]
    },
    {
      "cell_type": "code",
      "source": [
        "y_train"
      ],
      "metadata": {
        "id": "rAvVVzuLEJP-",
        "outputId": "3bc818f7-2fc0-4843-9261-7042a2660320",
        "colab": {
          "base_uri": "https://localhost:8080/"
        }
      },
      "execution_count": 13,
      "outputs": [
        {
          "output_type": "execute_result",
          "data": {
            "text/plain": [
              "array(['Bacterial Pneumonia', 'Bacterial Pneumonia',\n",
              "       'Bacterial Pneumonia', ..., 'Bacterial Pneumonia',\n",
              "       'Bacterial Pneumonia', 'Bacterial Pneumonia'], dtype='<U22')"
            ]
          },
          "metadata": {},
          "execution_count": 13
        }
      ]
    },
    {
      "cell_type": "code",
      "source": [
        "# from sklearn.compose import ColumnTransformer\n",
        "# from sklearn.preprocessing import OneHotEncoder\n",
        "# enc = OneHotEncoder(handle_unknown='ignore')\n",
        "# y_train_enc = enc.fit_transform(y_train)\n",
        "\n",
        "# print(y_train_enc[0])\n",
        "\n",
        "from sklearn import preprocessing\n",
        "le = preprocessing.LabelEncoder()\n",
        "y_train = le.fit_transform(y_train)\n",
        "y_val = le.transform(y_val)\n",
        "y_test = le.transform(y_test)\n",
        "\n",
        "# from sklearn.preprocessing import LabelBinarizer\n",
        "# label_binarizer = LabelBinarizer().fit(y_train)\n",
        "# y_onehot_val = label_binarizer.transform(y_val)\n",
        "# y_onehot_test = label_binarizer.transform(y_test)\n",
        "# y_onehot_test.shape  # (n_samples, n_classes)"
      ],
      "metadata": {
        "id": "-dhwVeTFC7my"
      },
      "execution_count": 14,
      "outputs": []
    },
    {
      "cell_type": "code",
      "source": [
        "le.classes_"
      ],
      "metadata": {
        "id": "WAj3IuYpJzeR",
        "outputId": "a115b6be-b72b-4a34-bc2c-89df3fcfb8ad",
        "colab": {
          "base_uri": "https://localhost:8080/"
        }
      },
      "execution_count": 15,
      "outputs": [
        {
          "output_type": "execute_result",
          "data": {
            "text/plain": [
              "array(['Bacterial Pneumonia', 'COVID-19', 'No Pneumonia (healthy)',\n",
              "       'Viral Pneumonia'], dtype='<U22')"
            ]
          },
          "metadata": {},
          "execution_count": 15
        }
      ]
    },
    {
      "cell_type": "code",
      "source": [
        "y_train"
      ],
      "metadata": {
        "id": "mvYi9NkPO5Qv",
        "outputId": "7238134a-8fd0-4658-aae1-1b3e92683d50",
        "colab": {
          "base_uri": "https://localhost:8080/"
        }
      },
      "execution_count": 16,
      "outputs": [
        {
          "output_type": "execute_result",
          "data": {
            "text/plain": [
              "array([0, 0, 0, ..., 0, 0, 0])"
            ]
          },
          "metadata": {},
          "execution_count": 16
        }
      ]
    },
    {
      "cell_type": "code",
      "source": [
        "from tensorflow.keras.utils import to_categorical\n",
        "y_train = to_categorical(y_train)\n",
        "y_val = to_categorical(y_val)\n",
        "y_test = to_categorical(y_test)"
      ],
      "metadata": {
        "id": "d5OJ21JsJmwQ"
      },
      "execution_count": 17,
      "outputs": []
    },
    {
      "cell_type": "code",
      "source": [
        "y_train"
      ],
      "metadata": {
        "id": "qDouPuPzOMiS",
        "outputId": "393f9574-fb7e-4711-bf4a-feaf989fce76",
        "colab": {
          "base_uri": "https://localhost:8080/"
        }
      },
      "execution_count": 18,
      "outputs": [
        {
          "output_type": "execute_result",
          "data": {
            "text/plain": [
              "array([[1., 0., 0., 0.],\n",
              "       [1., 0., 0., 0.],\n",
              "       [1., 0., 0., 0.],\n",
              "       ...,\n",
              "       [1., 0., 0., 0.],\n",
              "       [1., 0., 0., 0.],\n",
              "       [1., 0., 0., 0.]], dtype=float32)"
            ]
          },
          "metadata": {},
          "execution_count": 18
        }
      ]
    },
    {
      "cell_type": "markdown",
      "metadata": {
        "id": "YONVgtOAbKca"
      },
      "source": [
        "# Create Baseline Model"
      ]
    },
    {
      "cell_type": "code",
      "execution_count": 19,
      "metadata": {
        "id": "LhUlV9UNbKiH"
      },
      "outputs": [],
      "source": [
        "from tensorflow.keras import models\n",
        "from tensorflow.keras import layers\n",
        "import tensorflow as tf\n",
        "tf.keras.utils.set_random_seed(42)\n",
        "\n",
        "def build_model(optimizer='adam'): # which inputs should we have?\n",
        "  model = models.Sequential()\n",
        "  model.add(layers.Conv2D(64, (3,3), activation='relu', input_shape = (156,156,3), padding=\"same\"))\n",
        "  model.add(layers.Conv2D(32, (3,3), activation='relu', padding=\"same\"))\n",
        "  model.add(layers.MaxPooling2D(pool_size=(2, 2), padding=\"same\"))\n",
        "  model.add(layers.Conv2D(64, (3,3), activation='relu', padding=\"same\"))\n",
        "  model.add(layers.Conv2D(32, (3,3), activation='relu', padding=\"same\"))\n",
        "  model.add(layers.MaxPooling2D(pool_size=(2, 2), padding=\"same\"))\n",
        "  model.add(layers.Flatten())\n",
        "  model.add(layers.Dense(32, activation=\"relu\"))\n",
        "  model.add(layers.Dense(32, activation=\"relu\"))\n",
        "  model.add(layers.Dense(4, activation=\"softmax\"))\n",
        "\n",
        "  model.compile(optimizer= optimizer, \n",
        "                         loss=tf.keras.losses.CategoricalCrossentropy(),\n",
        "                         metrics=['accuracy']\n",
        "                         )\n",
        "  return model\n"
      ]
    },
    {
      "cell_type": "code",
      "source": [
        "# model.build()\n",
        "model = build_model()\n",
        "model.summary()"
      ],
      "metadata": {
        "id": "ZPJQjyPO1bQR",
        "outputId": "071ced04-4c2d-423e-8565-5db0f872656b",
        "colab": {
          "base_uri": "https://localhost:8080/"
        }
      },
      "execution_count": 20,
      "outputs": [
        {
          "output_type": "stream",
          "name": "stdout",
          "text": [
            "Model: \"sequential\"\n",
            "_________________________________________________________________\n",
            " Layer (type)                Output Shape              Param #   \n",
            "=================================================================\n",
            " conv2d (Conv2D)             (None, 156, 156, 64)      1792      \n",
            "                                                                 \n",
            " conv2d_1 (Conv2D)           (None, 156, 156, 32)      18464     \n",
            "                                                                 \n",
            " max_pooling2d (MaxPooling2D  (None, 78, 78, 32)       0         \n",
            " )                                                               \n",
            "                                                                 \n",
            " conv2d_2 (Conv2D)           (None, 78, 78, 64)        18496     \n",
            "                                                                 \n",
            " conv2d_3 (Conv2D)           (None, 78, 78, 32)        18464     \n",
            "                                                                 \n",
            " max_pooling2d_1 (MaxPooling  (None, 39, 39, 32)       0         \n",
            " 2D)                                                             \n",
            "                                                                 \n",
            " flatten (Flatten)           (None, 48672)             0         \n",
            "                                                                 \n",
            " dense (Dense)               (None, 32)                1557536   \n",
            "                                                                 \n",
            " dense_1 (Dense)             (None, 32)                1056      \n",
            "                                                                 \n",
            " dense_2 (Dense)             (None, 4)                 132       \n",
            "                                                                 \n",
            "=================================================================\n",
            "Total params: 1,615,940\n",
            "Trainable params: 1,615,940\n",
            "Non-trainable params: 0\n",
            "_________________________________________________________________\n"
          ]
        }
      ]
    },
    {
      "cell_type": "code",
      "source": [
        "# model.compile(\n",
        "#     optimizer='adam',\n",
        "#     loss=tf.keras.losses.CategoricalCrossentropy(),\n",
        "#     metrics=['accuracy']\n",
        "# )\n",
        "original_hist = model.fit(\n",
        "    X_train,\n",
        "    y_train,\n",
        "    batch_size=32,\n",
        "    epochs=10,\n",
        "    validation_data=(X_val, y_val), \n",
        "    verbose=0\n",
        ")\n",
        "history_dict = original_hist.history\n",
        "history_dict.keys()"
      ],
      "metadata": {
        "id": "V61CywCy1fXv",
        "outputId": "61e642c1-2b11-4fe7-d519-f6436c9bcc60",
        "colab": {
          "base_uri": "https://localhost:8080/"
        }
      },
      "execution_count": 21,
      "outputs": [
        {
          "output_type": "execute_result",
          "data": {
            "text/plain": [
              "dict_keys(['loss', 'accuracy', 'val_loss', 'val_accuracy'])"
            ]
          },
          "metadata": {},
          "execution_count": 21
        }
      ]
    },
    {
      "cell_type": "markdown",
      "metadata": {
        "id": "zOFuKRShbvTU"
      },
      "source": [
        "# Analyze the performance of the baseline model"
      ]
    },
    {
      "cell_type": "code",
      "execution_count": 22,
      "metadata": {
        "id": "58gf79ODcFPD",
        "outputId": "3ae68cc6-05ae-4cff-d7e6-554ceac65d7c",
        "colab": {
          "base_uri": "https://localhost:8080/"
        }
      },
      "outputs": [
        {
          "output_type": "stream",
          "name": "stdout",
          "text": [
            "41/41 [==============================] - 1s 22ms/step - loss: 0.8593 - accuracy: 0.7377\n"
          ]
        }
      ],
      "source": [
        "test_loss, test_acc = model.evaluate(X_test, y_test) # 0.7377"
      ]
    },
    {
      "cell_type": "markdown",
      "source": [
        "# Plots"
      ],
      "metadata": {
        "id": "Y0WF9lVqPnRW"
      }
    },
    {
      "cell_type": "markdown",
      "source": [
        "## Training and validation losses and accuracies on the training and validation set"
      ],
      "metadata": {
        "id": "KPPmma50QMfH"
      }
    },
    {
      "cell_type": "code",
      "source": [
        "\n",
        "import matplotlib.pyplot as plt\n",
        "\n",
        "def plot_history(data_list, label_list, title, ylabel):\n",
        "    ''' Plots a list of vectors.\n",
        "    Parameters:\n",
        "        data_list  : list of vectors containing the values to plot\n",
        "        label_list : list of labels describing the data, one per vector\n",
        "        title      : title of the plot\n",
        "        ylabel     : label for the y axis\n",
        "    '''\n",
        "    epochs = range(1, len(data_list[0]) + 1)\n",
        "    for data, label in zip(data_list, label_list):\n",
        "        plt.plot(epochs, data, label=label)\n",
        "    plt.title(title)\n",
        "    plt.xlabel('Epochs')\n",
        "    plt.ylabel(ylabel)\n",
        "    plt.legend()\n",
        "    plt.show()"
      ],
      "metadata": {
        "id": "F3z0OVaKP5TD"
      },
      "execution_count": 23,
      "outputs": []
    },
    {
      "cell_type": "code",
      "source": [
        "%matplotlib inline\n",
        "\n",
        "acc = history_dict['accuracy']\n",
        "val_acc = history_dict['val_accuracy']\n",
        "loss = history_dict['loss']\n",
        "val_loss = history_dict['val_loss']\n",
        "\n",
        "plot_history(data_list=[loss, val_loss],\n",
        "             label_list=['Training loss', 'Validation loss'],\n",
        "             title='Training and validation loss',\n",
        "             ylabel='Loss')\n",
        "plot_history(data_list=[acc, val_acc],\n",
        "             label_list=['Training acc.', 'Validation acc.'],\n",
        "             title='Training and validation accuracy',\n",
        "             ylabel='Accuracy')"
      ],
      "metadata": {
        "colab": {
          "base_uri": "https://localhost:8080/",
          "height": 573
        },
        "id": "OX67Jn8-SchT",
        "outputId": "6b8d1c60-c3c4-4c60-8704-8dccf415c1e4"
      },
      "execution_count": 24,
      "outputs": [
        {
          "output_type": "display_data",
          "data": {
            "text/plain": [
              "<Figure size 432x288 with 1 Axes>"
            ],
            "image/png": "[encoded data removed]"
          },
          "metadata": {
            "needs_background": "light"
          }
        },
        {
          "output_type": "display_data",
          "data": {
            "text/plain": [
              "<Figure size 432x288 with 1 Axes>"
            ],
            "image/png": "[encoded data removed]"
          },
          "metadata": {
            "needs_background": "light"
          }
        }
      ]
    },
    {
      "cell_type": "markdown",
      "source": [
        "## Receiver Operator Characteristic (ROC) curve with the Area under the Curve (AUC) score"
      ],
      "metadata": {
        "id": "XG10vX5BQkf1"
      }
    },
    {
      "cell_type": "markdown",
      "source": [
        "Preprocessing:"
      ],
      "metadata": {
        "id": "8FXgi6UtEs78"
      }
    },
    {
      "cell_type": "code",
      "source": [
        "class_of_interest = \"COVID-19\"\n",
        "class_id = np.flatnonzero(le.classes_ == class_of_interest)[0]\n",
        "class_id"
      ],
      "metadata": {
        "id": "jWkiVvlqSrRa"
      },
      "execution_count": null,
      "outputs": []
    },
    {
      "cell_type": "code",
      "source": [
        "y_pred = model.predict(X_test)"
      ],
      "metadata": {
        "id": "Fnbs17AuUoqT"
      },
      "execution_count": null,
      "outputs": []
    },
    {
      "cell_type": "code",
      "source": [
        "from sklearn.metrics import roc_curve, auc\n",
        "\n",
        "# store the fpr, tpr, and roc_auc for all averaging strategies\n",
        "fpr, tpr, roc_auc = dict(), dict(), dict()\n",
        "# Compute micro-average ROC curve and ROC area\n",
        "fpr[\"micro\"], tpr[\"micro\"], _ = roc_curve(y_test.ravel(), y_pred.ravel())\n",
        "roc_auc[\"micro\"] = auc(fpr[\"micro\"], tpr[\"micro\"])\n",
        "\n",
        "print(f\"Micro-averaged One-vs-Rest ROC AUC score:\\n{roc_auc['micro']:.2f}\")"
      ],
      "metadata": {
        "id": "_TEfaqLWahIk"
      },
      "execution_count": null,
      "outputs": []
    },
    {
      "cell_type": "code",
      "source": [
        "for i in range(len(le.classes_)):\n",
        "    fpr[i], tpr[i], _ = roc_curve(y_test[:, i], y_pred[:, i])\n",
        "    roc_auc[i] = auc(fpr[i], tpr[i])\n",
        "\n",
        "fpr_grid = np.linspace(0.0, 1.0, 1000)\n",
        "\n",
        "# Interpolate all ROC curves at these points\n",
        "mean_tpr = np.zeros_like(fpr_grid)\n",
        "\n",
        "for i in range(len(le.classes_)):\n",
        "    mean_tpr += np.interp(fpr_grid, fpr[i], tpr[i])  # linear interpolation\n",
        "\n",
        "# Average it and compute AUC\n",
        "mean_tpr /= len(le.classes_)\n",
        "\n",
        "fpr[\"macro\"] = fpr_grid\n",
        "tpr[\"macro\"] = mean_tpr\n",
        "roc_auc[\"macro\"] = auc(fpr[\"macro\"], tpr[\"macro\"])\n",
        "\n",
        "print(f\"Macro-averaged One-vs-Rest ROC AUC score:\\n{roc_auc['macro']:.2f}\")"
      ],
      "metadata": {
        "id": "zHORRIlQboty"
      },
      "execution_count": null,
      "outputs": []
    },
    {
      "cell_type": "code",
      "source": [
        "from itertools import cycle\n",
        "from sklearn.metrics import RocCurveDisplay\n",
        "\n",
        "fig, ax = plt.subplots(figsize=(6, 6))\n",
        "\n",
        "plt.plot(\n",
        "    fpr[\"micro\"],\n",
        "    tpr[\"micro\"],\n",
        "    label=f\"micro-average ROC curve (AUC = {roc_auc['micro']:.2f})\",\n",
        "    color=\"deeppink\",\n",
        "    linestyle=\":\",\n",
        "    linewidth=4,\n",
        ")\n",
        "\n",
        "plt.plot(\n",
        "    fpr[\"macro\"],\n",
        "    tpr[\"macro\"],\n",
        "    label=f\"macro-average ROC curve (AUC = {roc_auc['macro']:.2f})\",\n",
        "    color=\"navy\",\n",
        "    linestyle=\":\",\n",
        "    linewidth=4,\n",
        ")\n",
        "\n",
        "colors = cycle([\"aqua\", \"darkorange\", \"cornflowerblue\"])\n",
        "for class_id, color in zip(range(len(le.classes_)), colors):\n",
        "    RocCurveDisplay.from_predictions(\n",
        "        y_test[:, class_id],\n",
        "        y_pred[:, class_id],\n",
        "        name=f\"ROC curve for {le.classes_[class_id]}\",\n",
        "        color=color,\n",
        "        ax=ax,\n",
        "    )\n",
        "\n",
        "plt.plot([0, 1], [0, 1], \"k--\", label=\"ROC curve for chance level (AUC = 0.5)\")\n",
        "plt.axis(\"square\")\n",
        "plt.xlabel(\"False Positive Rate\")\n",
        "plt.ylabel(\"True Positive Rate\")\n",
        "plt.title(\"Extension of Receiver Operating Characteristic\\nto One-vs-Rest multiclass\")\n",
        "plt.legend()\n",
        "plt.show()"
      ],
      "metadata": {
        "id": "C7GO9jYIdSYx"
      },
      "execution_count": null,
      "outputs": []
    },
    {
      "cell_type": "markdown",
      "source": [
        "## Confusion matrix for the validation and test set"
      ],
      "metadata": {
        "id": "83Y4kcU9Q8Tr"
      }
    },
    {
      "cell_type": "code",
      "source": [
        "from sklearn.metrics import confusion_matrix, accuracy_score\n",
        "from sklearn.metrics import ConfusionMatrixDisplay\n",
        "\n",
        "labels = le.classes_ \n",
        "cm = confusion_matrix(y_test.argmax(axis=1), y_pred.argmax(axis=1))\n",
        "disp = ConfusionMatrixDisplay(confusion_matrix=cm, display_labels=labels)\n",
        "disp.plot(cmap=plt.cm.Reds)\n",
        "plt.show()\n",
        "\n",
        "# cm = confusion_matrix(y_test.argmax(axis=1), y_pred.argmax(axis=1))\n",
        "# print(cm)\n",
        "# acc = accuracy_score(y_test.argmax(axis=1), y_pred.argmax(axis=1))\n",
        "# print('test_accuracy: %.3f' % (acc))"
      ],
      "metadata": {
        "id": "T3bUbheNQ_qw"
      },
      "execution_count": null,
      "outputs": []
    },
    {
      "cell_type": "markdown",
      "metadata": {
        "id": "gnxtO6BIb3_P"
      },
      "source": [
        "# Adapting/fine-tuning the network"
      ]
    },
    {
      "cell_type": "code",
      "execution_count": null,
      "metadata": {
        "id": "oiDja0Mub4YW"
      },
      "outputs": [],
      "source": []
    },
    {
      "cell_type": "markdown",
      "metadata": {
        "id": "CBGr0x8ZcFn9"
      },
      "source": [
        "# Transfer Learning"
      ]
    },
    {
      "cell_type": "code",
      "execution_count": null,
      "metadata": {
        "id": "fn_WnCfDcFyD"
      },
      "outputs": [],
      "source": []
    }
  ],
  "metadata": {
    "accelerator": "GPU",
    "colab": {
      "provenance": [],
      "include_colab_link": true
    },
    "gpuClass": "standard",
    "kernelspec": {
      "display_name": "Python 3",
      "name": "python3"
    },
    "language_info": {
      "name": "python"
    }
  },
  "nbformat": 4,
  "nbformat_minor": 0
}
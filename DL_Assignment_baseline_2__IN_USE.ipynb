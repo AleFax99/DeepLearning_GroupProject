{
  "cells": [
    {
      "cell_type": "markdown",
      "metadata": {
        "id": "view-in-github",
        "colab_type": "text"
      },
      "source": [
        "<a href=\"https://colab.research.google.com/github/AleFax99/DeepLearning_GroupProject/blob/main/DL_Assignment_baseline_2__IN_USE.ipynb\" target=\"_parent\"><img src=\"https://colab.research.google.com/assets/colab-badge.svg\" alt=\"Open In Colab\"/></a>"
      ]
    },
    {
      "cell_type": "markdown",
      "metadata": {
        "id": "xveQIshNWYdc"
      },
      "source": [
        "# Loading Dataset\n",
        "\n",
        "You can download the dataset from {https://darwin.v7labs.com/v7-labs/covid-19-chest-x-ray-dataset?sort=priority\\%3Adesc}.\n",
        "The data entitled as '`darwin dataset pull v7-labs/covid-19-chest-x-ray-dataset:all-images`' will be used in this assignment. All dataset consist of 6504 images from 702 classes. We will extract the images of 4 classes (Bacterial Pneumonia, Viral Pneumonia, No Pneumonia (healthy), Covid-19) and save them as .npy file with the following code:"
      ]
    },
    {
      "cell_type": "code",
      "source": [
        "from google.colab import drive\n",
        "drive.mount('/content/drive')"
      ],
      "metadata": {
        "colab": {
          "base_uri": "https://localhost:8080/"
        },
        "id": "DlgH4Tr-h0ra",
        "outputId": "4ac9c2f7-c5e0-4fd9-ef43-aa8451602bff"
      },
      "execution_count": 1,
      "outputs": [
        {
          "output_type": "stream",
          "name": "stdout",
          "text": [
            "Mounted at /content/drive\n"
          ]
        }
      ]
    },
    {
      "cell_type": "code",
      "source": [
        "# %cd /content/drive/MyDrive/Deep Learning - Group Project \n",
        "#### Andreea Gdrive path"
      ],
      "metadata": {
        "colab": {
          "base_uri": "https://localhost:8080/"
        },
        "id": "xj-QTC3Vx0YP",
        "outputId": "acc79e55-d043-45c9-9616-afc30f5183fc"
      },
      "execution_count": null,
      "outputs": [
        {
          "output_type": "stream",
          "name": "stdout",
          "text": [
            "/content/drive/.shortcut-targets-by-id/1qsBT4V5PUBeJK1UavH8V46pQAoKjtkPa/Deep Learning - Group Project\n"
          ]
        }
      ]
    },
    {
      "cell_type": "code",
      "source": [
        "%cd /content/drive/MyDrive/Deep Learning/Deep Learning - Group Project\n",
        "!pwd"
      ],
      "metadata": {
        "id": "5BzFl_xzjC3f",
        "colab": {
          "base_uri": "https://localhost:8080/"
        },
        "outputId": "5f69ef58-d7a1-44a3-c58c-f2903555332c"
      },
      "execution_count": 43,
      "outputs": [
        {
          "output_type": "stream",
          "name": "stdout",
          "text": [
            "/content/drive/MyDrive/Deep Learning/Deep Learning - Group Project\n",
            "/content/drive/MyDrive/Deep Learning/Deep Learning - Group Project\n"
          ]
        }
      ]
    },
    {
      "cell_type": "code",
      "source": [
        "import numpy as np\n",
        "import pandas as pd\n",
        "\n",
        "y_train = np.load('./y_train.npy')\n",
        "y_test = np.load('./y_test.npy')\n",
        "y_val = np.load('./y_val.npy')\n",
        "X_train = np.load('./X_train.npy')\n",
        "X_test = np.load('./X_test.npy')\n",
        "X_val = np.load('./X_val.npy')"
      ],
      "metadata": {
        "id": "eG19eSeRY3yM"
      },
      "execution_count": 44,
      "outputs": []
    },
    {
      "cell_type": "code",
      "source": [],
      "metadata": {
        "id": "XtvwJYBKitCN"
      },
      "execution_count": null,
      "outputs": []
    },
    {
      "cell_type": "code",
      "source": [
        "# import json\n",
        "# import numpy as np\n",
        "# import glob\n",
        "# import pandas as pd\n",
        "\n",
        "# # importing modules\n",
        "# import urllib.request\n",
        "# from PIL import Image\n",
        "# from keras import layers, models\n"
      ],
      "metadata": {
        "id": "_dF2YNr03Czt"
      },
      "execution_count": null,
      "outputs": []
    },
    {
      "cell_type": "code",
      "source": [
        "# import json\n",
        "# import numpy as np\n",
        "# import glob\n",
        "# import pandas as pd\n",
        "\n",
        "# # importing modules\n",
        "# import urllib.request\n",
        "# from PIL import Image\n",
        "# from keras import layers, models\n",
        "# import tensorflow as tf\n",
        "\n",
        "# # all-images file should be uploaded to the same file\n",
        "# imageNames = glob.glob(\"./all-images/*\")\n",
        "# print(type(imageNames))\n",
        "# print(len(imageNames))\n",
        "# print(imageNames)"
      ],
      "metadata": {
        "id": "BF_rmtOElt08"
      },
      "execution_count": null,
      "outputs": []
    },
    {
      "cell_type": "code",
      "execution_count": null,
      "metadata": {
        "id": "I6bqTVRSs-sw"
      },
      "outputs": [],
      "source": [
        "\n",
        "# import json\n",
        "# import numpy as np\n",
        "# import glob\n",
        "# import pandas as pd\n",
        "\n",
        "# # importing modules\n",
        "# import urllib.request\n",
        "# from PIL import Image\n",
        "# from keras import layers, models\n",
        "# import tensorflow as tf\n",
        "\n",
        "# # all-images file should be uploaded to the same file\n",
        "# imageNames = glob.glob(\"./all-images/*\")\n",
        "\n",
        "# dataset = []\n",
        "# labels = []\n",
        "\n",
        "# for i, imName in enumerate(imageNames):\n",
        "\n",
        "#     # Opening JSON file\n",
        "#     f = open(imName)\n",
        "#     data = json.load(f)\n",
        "#     for j in range(len(data['annotations'])):\n",
        "\n",
        "#         if 'COVID-19' in (data['annotations'][j]['name']):\n",
        "#           #load images from url    \n",
        "#             urllib.request.urlretrieve(data['image']['url'],\"img.png\")    \n",
        "#             img = Image.open(\"img.png\")\n",
        "#             #convert images to grayscale\n",
        "#             imgGray = img.convert('L')\n",
        "#             #resize the image (156x156)\n",
        "#             im = imgGray.resize((156,156), Image.LANCZOS)           \n",
        "#             label = data['annotations'][j]['name']\n",
        "#             dataset.append(np.array(im))\n",
        "#             labels.append(label)\n",
        "#             print(label)\n",
        "#             break\n",
        "\n",
        "#         if 'Viral Pneumonia' in (data['annotations'][j]['name']) \\\n",
        "#             or 'Bacterial Pneumonia' in (data['annotations'][j]['name']) \\\n",
        "#             or 'No Pneumonia (healthy)' in (data['annotations'][j]['name']):\n",
        "#             #load images from url    \n",
        "#             urllib.request.urlretrieve(data['image']['url'],\"img.png\")    \n",
        "#             img = Image.open(\"img.png\")\n",
        "#             #convert images to grayscale\n",
        "#             imgGray = img.convert('L')\n",
        "#             #resize the image (156x156)\n",
        "#             im = imgGray.resize((156,156), Image.LANCZOS)           \n",
        "#             label = data['annotations'][j]['name']\n",
        "#             dataset.append(np.array(im))\n",
        "#             labels.append(label)\n",
        "#             break\n",
        "\n",
        "# #Convert data shape of (n_of_samples, width, height, 1)\n",
        "# dataset = np.dstack(dataset)    \n",
        "# dataset = np.rollaxis(dataset,-1)\n",
        "# labels = np.array(labels)\n",
        "\n",
        "# #convert images gray scale to rgb\n",
        "# data = np.array(layers.Lambda(tf.image.grayscale_to_rgb)(tf.expand_dims(dataset, -1)))\n",
        "\n",
        "# # save data and labels into a folder\n",
        "# np.save(\"./data.npy\", data)\n",
        "# np.save(\"./labels.npy\", labels)"
      ]
    },
    {
      "cell_type": "markdown",
      "metadata": {
        "id": "Dn3sH7yJWboe"
      },
      "source": [
        "Once you save your data, you can load it from your directory."
      ]
    },
    {
      "cell_type": "code",
      "execution_count": null,
      "metadata": {
        "id": "b6ZPDhVLWbyq"
      },
      "outputs": [],
      "source": [
        "import numpy as np\n",
        "\n",
        "data = np.load('./data.npy')\n",
        "labels = np.load('./labels.npy')"
      ]
    },
    {
      "cell_type": "markdown",
      "metadata": {
        "id": "B1b7dP-VbJpC"
      },
      "source": [
        "# Preprocessing Steps\n",
        "\n"
      ]
    },
    {
      "cell_type": "markdown",
      "metadata": {
        "id": "xC_YmdQMbn1K"
      },
      "source": [
        "## Splitting Data"
      ]
    },
    {
      "cell_type": "code",
      "execution_count": null,
      "metadata": {
        "id": "xStbdJAHblFv",
        "outputId": "1c3cce01-9120-4f7d-d010-8918fb83d25e",
        "colab": {
          "base_uri": "https://localhost:8080/"
        }
      },
      "outputs": [
        {
          "output_type": "stream",
          "name": "stdout",
          "text": [
            "(3840, 156, 156, 3) (1280, 156, 156, 3) (1281, 156, 156, 3)\n"
          ]
        }
      ],
      "source": [
        "from sklearn.model_selection import train_test_split\n",
        "X_train_val, X_test, y_train_val, y_test = train_test_split(data, labels, test_size= 0.2, stratify= labels, random_state=42)\n",
        "\n",
        "X_train, X_val, y_train, y_val = train_test_split(X_train_val, y_train_val, test_size= 0.25, stratify= y_train_val , random_state=42)\n",
        "\n",
        "print(X_train.shape, X_val.shape, X_test.shape)\n"
      ]
    },
    {
      "cell_type": "markdown",
      "metadata": {
        "id": "R-r4ta3MbKLJ"
      },
      "source": [
        "## Normalize Data"
      ]
    },
    {
      "cell_type": "code",
      "execution_count": null,
      "metadata": {
        "id": "LeplL77mbKS4"
      },
      "outputs": [],
      "source": [
        "# normalize to range 0-1\n",
        "# Note: minimum = 0, maximum = 255.0\n",
        "# Formula: (value - minimum) / (maximum - minimum)\n",
        "X_train = X_train / 255.0\n",
        "X_val = X_val / 255.0\n",
        "X_test = X_test / 255.0"
      ]
    },
    {
      "cell_type": "code",
      "source": [
        "print(X_train.shape)\n",
        "print(X_val.shape)\n",
        "print(X_test.shape)"
      ],
      "metadata": {
        "id": "XiANGqHfAqLD",
        "outputId": "5289d829-bc35-443a-fc1f-c21af93c2c68",
        "colab": {
          "base_uri": "https://localhost:8080/"
        }
      },
      "execution_count": null,
      "outputs": [
        {
          "output_type": "stream",
          "name": "stdout",
          "text": [
            "(3840, 156, 156, 3)\n",
            "(1280, 156, 156, 3)\n",
            "(1281, 156, 156, 3)\n"
          ]
        }
      ]
    },
    {
      "cell_type": "code",
      "source": [
        "np.unique(y_train, return_counts=True) # we are dealing with an imbalanced dataset (miro-avg)\n"
      ],
      "metadata": {
        "id": "rAvVVzuLEJP-",
        "outputId": "08003b59-4886-4475-a5c4-a707e4268413",
        "colab": {
          "base_uri": "https://localhost:8080/"
        }
      },
      "execution_count": null,
      "outputs": [
        {
          "output_type": "execute_result",
          "data": {
            "text/plain": [
              "(array(['Bacterial Pneumonia', 'COVID-19', 'No Pneumonia (healthy)',\n",
              "        'Viral Pneumonia'], dtype='<U22'), array([1695,   76,  964, 1105]))"
            ]
          },
          "metadata": {},
          "execution_count": 13
        }
      ]
    },
    {
      "cell_type": "code",
      "source": [
        "np.unique(labels, return_counts=True)"
      ],
      "metadata": {
        "colab": {
          "base_uri": "https://localhost:8080/"
        },
        "id": "zIHdPTqu9yNN",
        "outputId": "02f94cff-668d-4b39-ff69-2db158ce12e2"
      },
      "execution_count": null,
      "outputs": [
        {
          "output_type": "execute_result",
          "data": {
            "text/plain": [
              "(array(['Bacterial Pneumonia', 'COVID-19', 'No Pneumonia (healthy)',\n",
              "        'Viral Pneumonia'], dtype='<U22'), array([2825,  127, 1606, 1843]))"
            ]
          },
          "metadata": {},
          "execution_count": 14
        }
      ]
    },
    {
      "cell_type": "code",
      "source": [
        "from sklearn import preprocessing\n",
        "le = preprocessing.LabelEncoder()\n",
        "y_train = le.fit_transform(y_train)\n",
        "y_val = le.transform(y_val)\n",
        "y_test = le.transform(y_test)\n"
      ],
      "metadata": {
        "id": "-dhwVeTFC7my"
      },
      "execution_count": null,
      "outputs": []
    },
    {
      "cell_type": "code",
      "source": [
        "le.classes_"
      ],
      "metadata": {
        "id": "WAj3IuYpJzeR",
        "outputId": "7d81961c-061d-4c7d-cc5d-4a2c20c19f8a",
        "colab": {
          "base_uri": "https://localhost:8080/"
        }
      },
      "execution_count": null,
      "outputs": [
        {
          "output_type": "execute_result",
          "data": {
            "text/plain": [
              "array(['Bacterial Pneumonia', 'COVID-19', 'No Pneumonia (healthy)',\n",
              "       'Viral Pneumonia'], dtype='<U22')"
            ]
          },
          "metadata": {},
          "execution_count": 16
        }
      ]
    },
    {
      "cell_type": "code",
      "source": [
        "from tensorflow.keras.utils import to_categorical\n",
        "y_train = to_categorical(y_train)\n",
        "y_val = to_categorical(y_val)\n",
        "y_test = to_categorical(y_test)"
      ],
      "metadata": {
        "id": "d5OJ21JsJmwQ"
      },
      "execution_count": null,
      "outputs": []
    },
    {
      "cell_type": "code",
      "source": [
        "np.save(\"./y_train.npy\", y_train)\n",
        "np.save(\"./y_test.npy\", y_test)\n",
        "np.save(\"./y_val.npy\", y_val)\n",
        "np.save(\"./X_train.npy\", X_train)\n",
        "np.save(\"./X_test.npy\", X_test)\n",
        "np.save(\"./X_val.npy\", X_val)"
      ],
      "metadata": {
        "id": "28xlnAeDYOiF"
      },
      "execution_count": null,
      "outputs": []
    },
    {
      "cell_type": "markdown",
      "metadata": {
        "id": "YONVgtOAbKca"
      },
      "source": [
        "# Create Baseline Model"
      ]
    },
    {
      "cell_type": "code",
      "execution_count": null,
      "metadata": {
        "id": "LhUlV9UNbKiH"
      },
      "outputs": [],
      "source": [
        "from tensorflow.keras import models\n",
        "from tensorflow.keras import layers\n",
        "\n",
        "def build_model(optimizer='adam'): # which inputs should we have?\n",
        "  model = models.Sequential()\n",
        "  model.add(layers.Conv2D(64, (3,3), activation='relu', input_shape = (156,156,3), padding=\"same\"))\n",
        "  model.add(layers.Conv2D(32, (3,3), activation='relu', padding=\"same\"))\n",
        "  model.add(layers.MaxPooling2D(pool_size=(2, 2), padding=\"same\"))\n",
        "  model.add(layers.Conv2D(64, (3,3), activation='relu', padding=\"same\"))\n",
        "  model.add(layers.Conv2D(32, (3,3), activation='relu', padding=\"same\"))\n",
        "  model.add(layers.MaxPooling2D(pool_size=(2, 2), padding=\"same\"))\n",
        "  model.add(layers.Flatten())\n",
        "  model.add(layers.Dense(32, activation=\"relu\"))\n",
        "  model.add(layers.Dense(32, activation=\"relu\"))\n",
        "  model.add(layers.Dense(4, activation=\"softmax\"))\n",
        "\n",
        "  model.compile(optimizer= optimizer, \n",
        "                         loss=\"categorical_crossentropy\",\n",
        "                         metrics=['accuracy']\n",
        "                         )\n",
        "  return model\n"
      ]
    },
    {
      "cell_type": "code",
      "source": [
        "# model.build()\n",
        "model = build_model()\n",
        "model.summary()"
      ],
      "metadata": {
        "id": "ZPJQjyPO1bQR",
        "outputId": "d1c326c5-6bcd-475e-90d1-11f91a95c036",
        "colab": {
          "base_uri": "https://localhost:8080/"
        }
      },
      "execution_count": null,
      "outputs": [
        {
          "output_type": "stream",
          "name": "stdout",
          "text": [
            "Model: \"sequential\"\n",
            "_________________________________________________________________\n",
            " Layer (type)                Output Shape              Param #   \n",
            "=================================================================\n",
            " conv2d (Conv2D)             (None, 156, 156, 64)      1792      \n",
            "                                                                 \n",
            " conv2d_1 (Conv2D)           (None, 156, 156, 32)      18464     \n",
            "                                                                 \n",
            " max_pooling2d (MaxPooling2D  (None, 78, 78, 32)       0         \n",
            " )                                                               \n",
            "                                                                 \n",
            " conv2d_2 (Conv2D)           (None, 78, 78, 64)        18496     \n",
            "                                                                 \n",
            " conv2d_3 (Conv2D)           (None, 78, 78, 32)        18464     \n",
            "                                                                 \n",
            " max_pooling2d_1 (MaxPooling  (None, 39, 39, 32)       0         \n",
            " 2D)                                                             \n",
            "                                                                 \n",
            " flatten (Flatten)           (None, 48672)             0         \n",
            "                                                                 \n",
            " dense (Dense)               (None, 32)                1557536   \n",
            "                                                                 \n",
            " dense_1 (Dense)             (None, 32)                1056      \n",
            "                                                                 \n",
            " dense_2 (Dense)             (None, 4)                 132       \n",
            "                                                                 \n",
            "=================================================================\n",
            "Total params: 1,615,940\n",
            "Trainable params: 1,615,940\n",
            "Non-trainable params: 0\n",
            "_________________________________________________________________\n"
          ]
        }
      ]
    },
    {
      "cell_type": "code",
      "source": [
        "# model.compile(\n",
        "#     optimizer='adam',\n",
        "#     loss=tf.keras.losses.CategoricalCrossentropy(),\n",
        "#     metrics=['accuracy']\n",
        "# )\n",
        "from tensorflow.keras.utils import set_random_seed\n",
        "set_random_seed(42)\n",
        "original_hist = model.fit(\n",
        "    X_train,\n",
        "    y_train,\n",
        "    batch_size=32,\n",
        "    epochs=10,\n",
        "    validation_data=(X_val, y_val), \n",
        "    verbose=0\n",
        ")\n",
        "history_dict = original_hist.history\n",
        "history_dict.keys()"
      ],
      "metadata": {
        "id": "V61CywCy1fXv",
        "outputId": "baaff88c-26ea-483b-a7a3-166907ffec12",
        "colab": {
          "base_uri": "https://localhost:8080/"
        }
      },
      "execution_count": null,
      "outputs": [
        {
          "output_type": "execute_result",
          "data": {
            "text/plain": [
              "dict_keys(['loss', 'accuracy', 'val_loss', 'val_accuracy'])"
            ]
          },
          "metadata": {},
          "execution_count": 10
        }
      ]
    },
    {
      "cell_type": "code",
      "source": [
        "model.save(\"./Results and Models/baseline_model\")\n",
        "\n",
        "# https://www.tensorflow.org/guide/keras/save_and_serialize"
      ],
      "metadata": {
        "colab": {
          "base_uri": "https://localhost:8080/"
        },
        "id": "_uq_7KZORFkW",
        "outputId": "d4de79fe-d121-49c6-f02c-a96de0952d01"
      },
      "execution_count": null,
      "outputs": [
        {
          "output_type": "stream",
          "name": "stderr",
          "text": [
            "WARNING:absl:Found untraced functions such as _jit_compiled_convolution_op, _jit_compiled_convolution_op, _jit_compiled_convolution_op, _jit_compiled_convolution_op while saving (showing 4 of 4). These functions will not be directly callable after loading.\n"
          ]
        }
      ]
    },
    {
      "cell_type": "code",
      "source": [
        "from keras.models import load_model\n",
        "baseline_model = load_model(\"./talos_models/baseline_model\")"
      ],
      "metadata": {
        "id": "Tux0damDT13K"
      },
      "execution_count": 9,
      "outputs": []
    },
    {
      "cell_type": "code",
      "source": [
        "from sklearn.metrics import f1_score, precision_score, recall_score, confusion_matrix, auc\n",
        "y_pred1 = baseline_model.predict(X_test)\n",
        "y_pred = np.argmax(y_pred1, axis=1)\n",
        "y_test1= np.argmax(y_test,axis=1)\n",
        "\n"
      ],
      "metadata": {
        "id": "IvlbBl59UWDE",
        "colab": {
          "base_uri": "https://localhost:8080/"
        },
        "outputId": "0001157f-6cdf-4dc0-b22e-217616d84283"
      },
      "execution_count": 20,
      "outputs": [
        {
          "output_type": "stream",
          "name": "stdout",
          "text": [
            "41/41 [==============================] - 1s 16ms/step\n"
          ]
        }
      ]
    },
    {
      "cell_type": "code",
      "source": [
        "# Print f1, precision, and recall scores\n",
        "precision_score(y_test1, y_pred , average=\"macro\")\n"
      ],
      "metadata": {
        "colab": {
          "base_uri": "https://localhost:8080/"
        },
        "id": "tz0HWXFdOIJZ",
        "outputId": "80ac447e-f242-4b1f-e011-631e795e19fd"
      },
      "execution_count": 21,
      "outputs": [
        {
          "output_type": "execute_result",
          "data": {
            "text/plain": [
              "0.6743088615735395"
            ]
          },
          "metadata": {},
          "execution_count": 21
        }
      ]
    },
    {
      "cell_type": "code",
      "source": [
        "recall_score(y_test1, y_pred , average=\"macro\")\n"
      ],
      "metadata": {
        "colab": {
          "base_uri": "https://localhost:8080/"
        },
        "id": "stG5MUAROjZr",
        "outputId": "65c2a1f3-ce88-4adc-a42d-1281183e4bbb"
      },
      "execution_count": 22,
      "outputs": [
        {
          "output_type": "execute_result",
          "data": {
            "text/plain": [
              "0.6039966550648755"
            ]
          },
          "metadata": {},
          "execution_count": 22
        }
      ]
    },
    {
      "cell_type": "code",
      "source": [
        "f1_score(y_test1, y_pred , average=\"macro\")"
      ],
      "metadata": {
        "colab": {
          "base_uri": "https://localhost:8080/"
        },
        "id": "zkcXEfQLOl6j",
        "outputId": "421d4be4-f011-40a2-eff5-668ce3bb2d13"
      },
      "execution_count": 23,
      "outputs": [
        {
          "output_type": "execute_result",
          "data": {
            "text/plain": [
              "0.6202080244184753"
            ]
          },
          "metadata": {},
          "execution_count": 23
        }
      ]
    },
    {
      "cell_type": "code",
      "source": [
        "np.save(\"./Results and Models/baseline_hist.npy\", history_dict) #saving\n",
        "history_baseline=np.load('./Results and Models/baseline_hist.npy',allow_pickle='TRUE').item() #loading"
      ],
      "metadata": {
        "id": "1DBvKBRFRyT9"
      },
      "execution_count": null,
      "outputs": []
    },
    {
      "cell_type": "code",
      "source": [
        "history_baseline.keys()"
      ],
      "metadata": {
        "colab": {
          "base_uri": "https://localhost:8080/"
        },
        "id": "J9GESttASqBz",
        "outputId": "1d0ee2e0-78cb-45d8-e5e3-17c39024e6ee"
      },
      "execution_count": null,
      "outputs": [
        {
          "output_type": "execute_result",
          "data": {
            "text/plain": [
              "dict_keys(['loss', 'accuracy', 'val_loss', 'val_accuracy'])"
            ]
          },
          "metadata": {},
          "execution_count": 29
        }
      ]
    },
    {
      "cell_type": "markdown",
      "metadata": {
        "id": "zOFuKRShbvTU"
      },
      "source": [
        "# Analyze the performance of the baseline model"
      ]
    },
    {
      "cell_type": "code",
      "execution_count": null,
      "metadata": {
        "id": "58gf79ODcFPD",
        "outputId": "fc89502b-33e2-4039-9e68-edf15a38edff",
        "colab": {
          "base_uri": "https://localhost:8080/"
        }
      },
      "outputs": [
        {
          "output_type": "stream",
          "name": "stdout",
          "text": [
            "41/41 [==============================] - 1s 22ms/step - loss: 1.2613 - accuracy: 0.7237\n"
          ]
        }
      ],
      "source": [
        "test_loss, test_acc = model.evaluate(X_test, y_test) # 0.7377"
      ]
    },
    {
      "cell_type": "markdown",
      "source": [
        "# Plots"
      ],
      "metadata": {
        "id": "Y0WF9lVqPnRW"
      }
    },
    {
      "cell_type": "markdown",
      "source": [
        "## Training and validation losses and accuracies on the training and validation set"
      ],
      "metadata": {
        "id": "KPPmma50QMfH"
      }
    },
    {
      "cell_type": "code",
      "source": [
        "#plot\n",
        "import matplotlib.pyplot as plt\n",
        "\n",
        "def plot_history(data_list, label_list, title, ylabel):\n",
        "    ''' Plots a list of vectors.\n",
        "    Parameters:\n",
        "        data_list  : list of vectors containing the values to plot\n",
        "        label_list : list of labels describing the data, one per vector\n",
        "        title      : title of the plot\n",
        "        ylabel     : label for the y axis\n",
        "    '''\n",
        "    epochs = range(1, len(data_list[0]) + 1)\n",
        "    for data, label in zip(data_list, label_list):\n",
        "        plt.plot(epochs, data, label=label)\n",
        "    plt.title(title)\n",
        "    plt.xlabel('Epochs')\n",
        "    plt.ylabel(ylabel)\n",
        "    plt.legend()\n",
        "    plt.show()"
      ],
      "metadata": {
        "id": "F3z0OVaKP5TD"
      },
      "execution_count": null,
      "outputs": []
    },
    {
      "cell_type": "code",
      "source": [
        "%matplotlib inline\n",
        "\n",
        "acc = history_dict['accuracy']\n",
        "val_acc = history_dict['val_accuracy']\n",
        "loss = history_dict['loss']\n",
        "val_loss = history_dict['val_loss']\n",
        "\n",
        "plot_history(data_list=[loss, val_loss],\n",
        "             label_list=['Training loss', 'Validation loss'],\n",
        "             title='Training and validation loss',\n",
        "             ylabel='Loss')\n",
        "plot_history(data_list=[acc, val_acc],\n",
        "             label_list=['Training acc.', 'Validation acc.'],\n",
        "             title='Training and validation accuracy',\n",
        "             ylabel='Accuracy')"
      ],
      "metadata": {
        "colab": {
          "base_uri": "https://localhost:8080/",
          "height": 573
        },
        "id": "OX67Jn8-SchT",
        "outputId": "4673f027-4ad7-46f8-d9a4-2619b4ee585b"
      },
      "execution_count": null,
      "outputs": [
        {
          "output_type": "display_data",
          "data": {
            "text/plain": [
              "<Figure size 432x288 with 1 Axes>"
            ],
            "image/png": "[encoded data removed]"
          },
          "metadata": {
            "needs_background": "light"
          }
        },
        {
          "output_type": "display_data",
          "data": {
            "text/plain": [
              "<Figure size 432x288 with 1 Axes>"
            ],
            "image/png": "[encoded data removed]"
          },
          "metadata": {
            "needs_background": "light"
          }
        }
      ]
    },
    {
      "cell_type": "markdown",
      "source": [
        "## Receiver Operator Characteristic (ROC) curve with the Area under the Curve (AUC) score"
      ],
      "metadata": {
        "id": "XG10vX5BQkf1"
      }
    },
    {
      "cell_type": "markdown",
      "source": [
        "Preprocessing:"
      ],
      "metadata": {
        "id": "8FXgi6UtEs78"
      }
    },
    {
      "cell_type": "code",
      "source": [
        "classes = np.array(['Bacterial Pneumonia', 'COVID-19', 'No Pneumonia (healthy)','Viral Pneumonia'])\n",
        "class_of_interest = \"COVID-19\"\n",
        "class_id = np.flatnonzero(classes == class_of_interest)[0]\n",
        "print(class_id)"
      ],
      "metadata": {
        "id": "jWkiVvlqSrRa",
        "colab": {
          "base_uri": "https://localhost:8080/"
        },
        "outputId": "5e87a640-4bc0-4022-db43-44af75c33fa8"
      },
      "execution_count": 34,
      "outputs": [
        {
          "output_type": "stream",
          "name": "stdout",
          "text": [
            "1\n"
          ]
        }
      ]
    },
    {
      "cell_type": "code",
      "source": [
        "y_pred = baseline_model.predict(X_test)"
      ],
      "metadata": {
        "id": "Fnbs17AuUoqT",
        "colab": {
          "base_uri": "https://localhost:8080/"
        },
        "outputId": "993faa7a-6dd2-45a8-a977-8a3151566345"
      },
      "execution_count": 35,
      "outputs": [
        {
          "output_type": "stream",
          "name": "stdout",
          "text": [
            "41/41 [==============================] - 1s 16ms/step\n"
          ]
        }
      ]
    },
    {
      "cell_type": "code",
      "source": [
        "from sklearn.metrics import roc_curve, auc\n",
        "\n",
        "# store the fpr, tpr, and roc_auc for all averaging strategies\n",
        "fpr, tpr, roc_auc = dict(), dict(), dict()\n",
        "# Compute micro-average ROC curve and ROC area\n",
        "fpr[\"micro\"], tpr[\"micro\"], _ = roc_curve(y_test.ravel(), y_pred.ravel())\n",
        "roc_auc[\"micro\"] = auc(fpr[\"micro\"], tpr[\"micro\"])\n",
        "\n",
        "print(f\"Micro-averaged One-vs-Rest ROC AUC score:\\n{roc_auc['micro']:.2f}\")"
      ],
      "metadata": {
        "id": "_TEfaqLWahIk",
        "colab": {
          "base_uri": "https://localhost:8080/"
        },
        "outputId": "20faa71f-d574-4fe0-ed10-e43b938b0ebc"
      },
      "execution_count": 36,
      "outputs": [
        {
          "output_type": "stream",
          "name": "stdout",
          "text": [
            "Micro-averaged One-vs-Rest ROC AUC score:\n",
            "0.92\n"
          ]
        }
      ]
    },
    {
      "cell_type": "code",
      "source": [
        "for i in range(len(classes)):\n",
        "    fpr[i], tpr[i], _ = roc_curve(y_test[:, i], y_pred[:, i])\n",
        "    roc_auc[i] = auc(fpr[i], tpr[i])\n",
        "\n",
        "fpr_grid = np.linspace(0.0, 1.0, 1000)\n",
        "\n",
        "# Interpolate all ROC curves at these points\n",
        "mean_tpr = np.zeros_like(fpr_grid)\n",
        "\n",
        "for i in range(len(classes)):\n",
        "    mean_tpr += np.interp(fpr_grid, fpr[i], tpr[i])  # linear interpolation\n",
        "\n",
        "# Average it and compute AUC\n",
        "mean_tpr /= len(classes)\n",
        "\n",
        "fpr[\"macro\"] = fpr_grid\n",
        "tpr[\"macro\"] = mean_tpr\n",
        "roc_auc[\"macro\"] = auc(fpr[\"macro\"], tpr[\"macro\"])\n",
        "\n",
        "print(f\"Macro-averaged One-vs-Rest ROC AUC score:\\n{roc_auc['macro']:.2f}\")"
      ],
      "metadata": {
        "id": "zHORRIlQboty",
        "colab": {
          "base_uri": "https://localhost:8080/"
        },
        "outputId": "832f52e2-a48e-45da-f633-da4cd4ad893c"
      },
      "execution_count": 38,
      "outputs": [
        {
          "output_type": "stream",
          "name": "stdout",
          "text": [
            "Macro-averaged One-vs-Rest ROC AUC score:\n",
            "0.90\n"
          ]
        }
      ]
    },
    {
      "cell_type": "code",
      "source": [
        "from itertools import cycle\n",
        "from sklearn.metrics import RocCurveDisplay\n",
        "\n",
        "fig, ax = plt.subplots(figsize=(6, 6))\n",
        "\n",
        "plt.plot(\n",
        "    fpr[\"micro\"],\n",
        "    tpr[\"micro\"],\n",
        "    label=f\"micro-average ROC curve (AUC = {roc_auc['micro']:.2f})\",\n",
        "    color=\"deeppink\",\n",
        "    linestyle=\":\",\n",
        "    linewidth=4,\n",
        ")\n",
        "\n",
        "plt.plot(\n",
        "    fpr[\"macro\"],\n",
        "    tpr[\"macro\"],\n",
        "    label=f\"macro-average ROC curve (AUC = {roc_auc['macro']:.2f})\",\n",
        "    color=\"navy\",\n",
        "    linestyle=\":\",\n",
        "    linewidth=4,\n",
        ")\n",
        "\n",
        "colors = cycle([\"aqua\", \"darkorange\", \"cornflowerblue\"])\n",
        "for class_id, color in zip(range(len(classes)), colors):\n",
        "    RocCurveDisplay.from_predictions(\n",
        "        y_test[:, class_id],\n",
        "        y_pred[:, class_id],\n",
        "        name=f\"ROC curve for {classes[class_id]}\",\n",
        "        color=color,\n",
        "        ax=ax,\n",
        "    )\n",
        "\n",
        "plt.plot([0, 1], [0, 1], \"k--\", label=\"ROC curve for chance level (AUC = 0.5)\")\n",
        "plt.axis(\"square\")\n",
        "plt.xlabel(\"False Positive Rate\")\n",
        "plt.ylabel(\"True Positive Rate\")\n",
        "plt.title(\"Extension of Receiver Operating Characteristic\\nto One-vs-Rest multiclass\")\n",
        "plt.legend()\n",
        "plt.show()"
      ],
      "metadata": {
        "id": "C7GO9jYIdSYx",
        "colab": {
          "base_uri": "https://localhost:8080/",
          "height": 419
        },
        "outputId": "f75378a5-a984-47a1-ecbc-ccd91ec738de"
      },
      "execution_count": 40,
      "outputs": [
        {
          "output_type": "display_data",
          "data": {
            "text/plain": [
              "<Figure size 432x432 with 1 Axes>"
            ],
            "image/png": "[encoded data removed]"
          },
          "metadata": {
            "needs_background": "light"
          }
        }
      ]
    },
    {
      "cell_type": "markdown",
      "source": [
        "## Confusion matrix for the validation and test set"
      ],
      "metadata": {
        "id": "83Y4kcU9Q8Tr"
      }
    },
    {
      "cell_type": "code",
      "source": [
        "y_val_pred = model.predict(X_val)"
      ],
      "metadata": {
        "colab": {
          "base_uri": "https://localhost:8080/",
          "height": 165
        },
        "id": "4nW4rZwn_2Vn",
        "outputId": "3758fce6-330a-4129-e12e-6292a87183e0"
      },
      "execution_count": null,
      "outputs": [
        {
          "output_type": "error",
          "ename": "NameError",
          "evalue": "ignored",
          "traceback": [
            "\u001b[0;31m---------------------------------------------------------------------------\u001b[0m",
            "\u001b[0;31mNameError\u001b[0m                                 Traceback (most recent call last)",
            "\u001b[0;32m<ipython-input-1-a7234971f8d1>\u001b[0m in \u001b[0;36m<module>\u001b[0;34m\u001b[0m\n\u001b[0;32m----> 1\u001b[0;31m \u001b[0my_val_pred\u001b[0m \u001b[0;34m=\u001b[0m \u001b[0mmodel\u001b[0m\u001b[0;34m.\u001b[0m\u001b[0mpredict\u001b[0m\u001b[0;34m(\u001b[0m\u001b[0mX_val\u001b[0m\u001b[0;34m)\u001b[0m\u001b[0;34m\u001b[0m\u001b[0;34m\u001b[0m\u001b[0m\n\u001b[0m",
            "\u001b[0;31mNameError\u001b[0m: name 'model' is not defined"
          ]
        }
      ]
    },
    {
      "cell_type": "code",
      "source": [
        "y_val_train = model.predict(X_train)"
      ],
      "metadata": {
        "colab": {
          "base_uri": "https://localhost:8080/",
          "height": 165
        },
        "id": "lsnQc15bBFAg",
        "outputId": "d3b86fe9-01f3-43ae-e316-c02f89929f24"
      },
      "execution_count": null,
      "outputs": [
        {
          "output_type": "error",
          "ename": "NameError",
          "evalue": "ignored",
          "traceback": [
            "\u001b[0;31m---------------------------------------------------------------------------\u001b[0m",
            "\u001b[0;31mNameError\u001b[0m                                 Traceback (most recent call last)",
            "\u001b[0;32m<ipython-input-2-7f008cb70eee>\u001b[0m in \u001b[0;36m<module>\u001b[0;34m\u001b[0m\n\u001b[0;32m----> 1\u001b[0;31m \u001b[0my_val_train\u001b[0m \u001b[0;34m=\u001b[0m \u001b[0mmodel\u001b[0m\u001b[0;34m.\u001b[0m\u001b[0mpredict\u001b[0m\u001b[0;34m(\u001b[0m\u001b[0mX_train\u001b[0m\u001b[0;34m)\u001b[0m\u001b[0;34m\u001b[0m\u001b[0;34m\u001b[0m\u001b[0m\n\u001b[0m",
            "\u001b[0;31mNameError\u001b[0m: name 'model' is not defined"
          ]
        }
      ]
    },
    {
      "cell_type": "code",
      "source": [
        "from sklearn.metrics import confusion_matrix, accuracy_score\n",
        "from sklearn.metrics import ConfusionMatrixDisplay\n",
        "\n",
        "labels = le.classes_ \n",
        "cm = confusion_matrix(y_train.argmax(axis=1), y_val_train.argmax(axis=1))\n",
        "disp = ConfusionMatrixDisplay(confusion_matrix=cm, display_labels=labels)\n",
        "disp.plot(cmap=plt.cm.Reds)\n",
        "plt.show()"
      ],
      "metadata": {
        "id": "Q8430c3r_U-c"
      },
      "execution_count": null,
      "outputs": []
    },
    {
      "cell_type": "code",
      "source": [
        "from sklearn.metrics import confusion_matrix, accuracy_score\n",
        "from sklearn.metrics import ConfusionMatrixDisplay\n",
        "\n",
        "labels = le.classes_ \n",
        "cm = confusion_matrix(y_test.argmax(axis=1), y_pred.argmax(axis=1))\n",
        "disp = ConfusionMatrixDisplay(confusion_matrix=cm, display_labels=labels)\n",
        "disp.plot(cmap=plt.cm.Reds)\n",
        "plt.show()\n",
        "\n",
        "# cm = confusion_matrix(y_test.argmax(axis=1), y_pred.argmax(axis=1))\n",
        "# print(cm)\n",
        "# acc = accuracy_score(y_test.argmax(axis=1), y_pred.argmax(axis=1))\n",
        "# print('test_accuracy: %.3f' % (acc))"
      ],
      "metadata": {
        "id": "T3bUbheNQ_qw"
      },
      "execution_count": null,
      "outputs": []
    },
    {
      "cell_type": "markdown",
      "metadata": {
        "id": "gnxtO6BIb3_P"
      },
      "source": [
        "# Adapting/fine-tuning the network"
      ]
    },
    {
      "cell_type": "code",
      "source": [
        "%cd /content/drive/MyDrive/Deep Learning - Group Project "
      ],
      "metadata": {
        "colab": {
          "base_uri": "https://localhost:8080/"
        },
        "id": "Yj3PRFZUqC_A",
        "outputId": "c203e67e-fa7e-4ae7-8334-6911aa574fdd"
      },
      "execution_count": null,
      "outputs": [
        {
          "output_type": "stream",
          "name": "stdout",
          "text": [
            "/content/drive/.shortcut-targets-by-id/1qsBT4V5PUBeJK1UavH8V46pQAoKjtkPa/Deep Learning - Group Project\n"
          ]
        }
      ]
    },
    {
      "cell_type": "code",
      "source": [
        "import numpy as np\n",
        "import pandas as pd\n",
        "\n",
        "y_train = np.load('./y_train.npy')\n",
        "y_test = np.load('./y_test.npy')\n",
        "y_val = np.load('./y_val.npy')\n",
        "X_train = np.load('./X_train.npy')\n",
        "X_test = np.load('./X_test.npy')\n",
        "X_val = np.load('./X_val.npy')"
      ],
      "metadata": {
        "id": "g0Q7HnOGqBSq"
      },
      "execution_count": null,
      "outputs": []
    },
    {
      "cell_type": "code",
      "source": [
        "#plot\n"
      ],
      "metadata": {
        "id": "cBYsLIf3qLtj"
      },
      "execution_count": null,
      "outputs": []
    },
    {
      "cell_type": "code",
      "source": [
        "from tensorflow.keras import models\n",
        "from tensorflow.keras import layers\n",
        "from tensorflow.keras.optimizers import Adam\n",
        "\n",
        "\n",
        "def build_tuned_model(optimizer='adam', units1 = 64, units2 = 32): # which inputs should we have?\n",
        "  model = models.Sequential()\n",
        "  model.add(layers.Conv2D(units1, (3,3), activation='relu', input_shape = (156,156,3), padding=\"same\"))\n",
        "  model.add(layers.Conv2D(units2, (3,3), activation='relu', padding=\"same\"))\n",
        "  model.add(layers.MaxPooling2D(pool_size=(2, 2), padding=\"same\"))\n",
        "\n",
        "  # model.add(layers.Conv2D(units1,  kernel_size=(3,3), activation='relu', padding=\"same\"))\n",
        "  # model.add(layers.Conv2D(units2,  kernel_size = (3,3), activation='relu', padding=\"same\"))\n",
        "  # model.add(layers.MaxPooling2D(pool_size=(2, 2), padding=\"same\"))\n",
        "\n",
        "  # model.add(layers.Conv2D(units1,  kernel_size=(3,3), activation='relu', padding=\"same\"))\n",
        "  # model.add(layers.Conv2D(units2,  kernel_size = (3,3), activation='relu', padding=\"same\"))\n",
        "  # model.add(layers.MaxPooling2D(pool_size=(2, 2), padding=\"same\"))\n",
        "\n",
        "  model.add(layers.Conv2D(units1, (3,3), activation='relu', padding=\"same\"))\n",
        "  model.add(layers.Conv2D(units2, (3,3), activation='relu', padding=\"same\"))\n",
        "  model.add(layers.MaxPooling2D(pool_size=(2, 2), padding=\"same\"))\n",
        "\n",
        "  model.add(layers.Flatten())\n",
        "\n",
        "  model.add(layers.Dense(units2, activation=\"relu\"))\n",
        "  model.add(layers.Dense(units2, activation=\"relu\"))\n",
        "\n",
        "  model.add(layers.Dense(4, activation=\"softmax\"))\n",
        "\n",
        "  model.compile(optimizer= optimizer, \n",
        "                         loss=\"categorical_crossentropy\",\n",
        "                         metrics=['accuracy']\n",
        "                         )\n",
        "  return model\n"
      ],
      "metadata": {
        "id": "oweM4p5VMytM"
      },
      "execution_count": null,
      "outputs": []
    },
    {
      "cell_type": "code",
      "source": [
        "from tensorflow.keras.optimizers import Adam\n",
        "# tuned_model = build_tuned_model(optimizer = Adam(learning_rate=0.0001)  )\n",
        "tuned_model = build_tuned_model(optimizer = Adam(learning_rate=0.00001),units1 = 16, units2 = 160 )"
      ],
      "metadata": {
        "id": "naielyhBmgft"
      },
      "execution_count": null,
      "outputs": []
    },
    {
      "cell_type": "code",
      "source": [
        "from tensorflow.keras.utils import set_random_seed\n",
        "set_random_seed(42)\n",
        "tuned_hist = tuned_model.fit(\n",
        "    X_train,\n",
        "    y_train,\n",
        "    batch_size=32,\n",
        "    epochs=10,\n",
        "    validation_data=(X_val, y_val), \n",
        "    verbose=1\n",
        ")\n",
        "history_dict_tuned = tuned_hist.history\n",
        "history_dict_tuned.keys()\n",
        "\n"
      ],
      "metadata": {
        "colab": {
          "base_uri": "https://localhost:8080/"
        },
        "id": "miT5QrP7GkPu",
        "outputId": "3a0c34e9-df93-4373-a66c-4b8a39c8e5a7"
      },
      "execution_count": null,
      "outputs": [
        {
          "output_type": "stream",
          "name": "stdout",
          "text": [
            "Epoch 1/10\n",
            "120/120 [==============================] - 19s 122ms/step - loss: 1.1661 - accuracy: 0.4609 - val_loss: 1.0407 - val_accuracy: 0.5719\n",
            "Epoch 2/10\n",
            "120/120 [==============================] - 14s 115ms/step - loss: 0.9402 - accuracy: 0.6164 - val_loss: 0.8417 - val_accuracy: 0.6531\n",
            "Epoch 3/10\n",
            "120/120 [==============================] - 14s 116ms/step - loss: 0.7759 - accuracy: 0.6685 - val_loss: 0.7055 - val_accuracy: 0.7383\n",
            "Epoch 4/10\n",
            "120/120 [==============================] - 14s 114ms/step - loss: 0.6701 - accuracy: 0.7292 - val_loss: 0.6262 - val_accuracy: 0.7492\n",
            "Epoch 5/10\n",
            "120/120 [==============================] - 14s 116ms/step - loss: 0.6033 - accuracy: 0.7604 - val_loss: 0.6137 - val_accuracy: 0.7375\n",
            "Epoch 6/10\n",
            "120/120 [==============================] - 14s 114ms/step - loss: 0.5693 - accuracy: 0.7703 - val_loss: 0.5928 - val_accuracy: 0.7406\n",
            "Epoch 7/10\n",
            "120/120 [==============================] - 14s 114ms/step - loss: 0.5552 - accuracy: 0.7768 - val_loss: 0.5635 - val_accuracy: 0.7641\n",
            "Epoch 8/10\n",
            "120/120 [==============================] - 14s 116ms/step - loss: 0.5437 - accuracy: 0.7797 - val_loss: 0.5777 - val_accuracy: 0.7563\n",
            "Epoch 9/10\n",
            "120/120 [==============================] - 14s 115ms/step - loss: 0.5340 - accuracy: 0.7844 - val_loss: 0.5408 - val_accuracy: 0.7727\n",
            "Epoch 10/10\n",
            "120/120 [==============================] - 14s 116ms/step - loss: 0.5163 - accuracy: 0.7909 - val_loss: 0.5400 - val_accuracy: 0.7781\n"
          ]
        },
        {
          "output_type": "execute_result",
          "data": {
            "text/plain": [
              "dict_keys(['loss', 'accuracy', 'val_loss', 'val_accuracy'])"
            ]
          },
          "metadata": {},
          "execution_count": 11
        }
      ]
    },
    {
      "cell_type": "code",
      "source": [
        "tuned_model.save(\"./Results and Models/t_model_best\")\n",
        "np.save(\"./Results and Models/t_model_best.npy\", history_dict_tuned) #saving hist"
      ],
      "metadata": {
        "colab": {
          "base_uri": "https://localhost:8080/"
        },
        "id": "ryeBJ-WCYcrj",
        "outputId": "d09ce691-f905-47e9-acd5-79ba70e43854"
      },
      "execution_count": null,
      "outputs": [
        {
          "output_type": "stream",
          "name": "stderr",
          "text": [
            "WARNING:absl:Found untraced functions such as _jit_compiled_convolution_op, _jit_compiled_convolution_op, _jit_compiled_convolution_op, _jit_compiled_convolution_op, _jit_compiled_convolution_op while saving (showing 5 of 8). These functions will not be directly callable after loading.\n"
          ]
        }
      ]
    },
    {
      "cell_type": "code",
      "source": [
        "test_loss, test_acc = tuned_model.evaluate(X_test, y_test) # 0.7377\n",
        "val_loss, val_acc = tuned_model.evaluate(X_val, y_val)\n",
        "print( test_loss , test_acc)\n",
        "print( val_loss , val_acc) "
      ],
      "metadata": {
        "colab": {
          "base_uri": "https://localhost:8080/"
        },
        "id": "PS5CrLlHW14q",
        "outputId": "7cd7a520-f08e-452c-9145-a2cfb34cfb39"
      },
      "execution_count": null,
      "outputs": [
        {
          "output_type": "stream",
          "name": "stdout",
          "text": [
            "41/41 [==============================] - 2s 34ms/step - loss: 0.5586 - accuracy: 0.7642\n",
            "40/40 [==============================] - 1s 26ms/step - loss: 0.5400 - accuracy: 0.7781\n",
            "0.5586454272270203 0.7642467021942139\n",
            "0.5400112867355347 0.778124988079071\n"
          ]
        }
      ]
    },
    {
      "cell_type": "code",
      "source": [
        "from keras.models import load_model\n",
        "# t_baseline_model = load_model(\"./Results and Models/t_baseline_model\") #load the model\n",
        "history_t_baseline_model=np.load('./Results and Models/t_baseline_model.npy',allow_pickle='TRUE').item() #load teh hist dict\n",
        "\n",
        "# t_model_lr_lower = load_model(\"./Results and Models/t_model_lr_lower\") #load the model\n",
        "history_t_model_lr_lower=np.load('./Results and Models/t_model_lr_lower.npy',allow_pickle='TRUE').item() #load teh hist dict\n",
        "\n",
        "# t_model_lr_lower_2 = load_model(\"./Results and Models/t_model_lr_lower_2\") #load the model\n",
        "history_t_model_lr_lower_2=np.load('./Results and Models/t_model_lr_lower_2.npy',allow_pickle='TRUE').item() #load teh hist dict\n",
        "\n",
        "# t_model_lr_lower3 = load_model(\"./Results and Models/t_model_lr_lower3\") #load the model\n",
        "history_t_model_lr_lower3=np.load('./Results and Models/t_model_lr_lower3.npy',allow_pickle='TRUE').item() #load teh hist dict\n",
        "\n",
        "# t_model_64units = load_model(\"./Results and Models/t_model_64units\") #load the model\n",
        "history_t_model_64units=np.load('./Results and Models/t_model_64units.npy',allow_pickle='TRUE').item() #loading\n",
        "\n",
        "# t_model_more_layers = load_model(\"./Results and Models/t_model_more_layers\") #load the model\n",
        "history_t_model_more_layers=np.load('./Results and Models/t_model_more_layers.npy',allow_pickle='TRUE').item() #loading\n",
        "\n",
        "# t_model_2more_layers = load_model(\"./Results and Models/t_model_2more_layers\") #load the model\n",
        "history_t_model_2more_layers=np.load('./Results and Models/t_model_2more_layers.npy',allow_pickle='TRUE').item() #loading"
      ],
      "metadata": {
        "id": "7nbhKow4WHnJ"
      },
      "execution_count": null,
      "outputs": []
    },
    {
      "cell_type": "code",
      "source": [
        "tuned_model_1.optimizer.get_config()"
      ],
      "metadata": {
        "id": "x-Sc82freZP-"
      },
      "execution_count": null,
      "outputs": []
    },
    {
      "cell_type": "code",
      "source": [
        "tuned_model_2.optimizer.get_config()"
      ],
      "metadata": {
        "id": "iUmyBV_GeGrj"
      },
      "execution_count": null,
      "outputs": []
    },
    {
      "cell_type": "code",
      "source": [
        "baseline_val_loss = history_t_baseline_model['val_loss']\n",
        "tuned_model_val_loss = history_t_model_lr_lower['val_loss']\n",
        "tuned_1_model_val_loss = history_t_model_lr_lower_2['val_loss']\n",
        "tuned_2_model_val_loss = history_t_model_lr_lower3['val_loss']\n",
        "tuned_3_model_val_loss = history_t_model_64units['val_loss']\n",
        "tuned_4_model_val_loss = history_t_model_more_layers['val_loss']\n",
        "tuned_5_model_val_loss = history_t_model_2more_layers['val_loss']\n",
        "\n",
        "plot_history(data_list=[baseline_val_loss, tuned_model_val_loss,tuned_1_model_val_loss,tuned_2_model_val_loss, tuned_3_model_val_loss,tuned_4_model_val_loss,tuned_5_model_val_loss ],\n",
        "             label_list=['Baseline Validation loss', 'Lower lr = 0.0001', 'Lower lr = 0.00001', 'Lower lr = 0.000001', 'All units 64',\"add layers\", \"add 2 layer\"],\n",
        "             title='Comparison of validation losses',\n",
        "             ylabel='Validation loss')"
      ],
      "metadata": {
        "colab": {
          "base_uri": "https://localhost:8080/",
          "height": 295
        },
        "id": "79nShD4wcksO",
        "outputId": "941cc3fa-be99-4c8f-c2f9-2a1eb4d9867b"
      },
      "execution_count": null,
      "outputs": [
        {
          "output_type": "display_data",
          "data": {
            "text/plain": [
              "<Figure size 432x288 with 1 Axes>"
            ],
            "image/png": "[encoded data removed]"
          },
          "metadata": {
            "needs_background": "light"
          }
        }
      ]
    },
    {
      "cell_type": "code",
      "source": [
        "baseline_train_loss = history_t_baseline_model['loss']\n",
        "tuned_model_train_loss = history_t_model_lr_lower['loss']\n",
        "tuned_1_model_train_loss = history_t_model_lr_lower_2['loss']\n",
        "tuned_2_model_train_loss = history_t_model_lr_lower3['loss']\n",
        "tuned_3_model_train_loss = history_t_model_64units['loss']\n",
        "tuned_4_model_train_loss = history_t_model_more_layers['loss']\n",
        "tuned_5_model_train_loss = history_t_model_2more_layers['loss']\n",
        "\n",
        "plot_history(data_list=[baseline_train_loss, tuned_model_train_loss,tuned_1_model_train_loss,tuned_2_model_train_loss,tuned_3_model_train_loss,tuned_4_model_train_loss,tuned_5_model_train_loss],\n",
        "             label_list=['Baseline', 'Lower lr = 0.0001', 'Lower lr = 0.00001', 'Lower lr = 0.000001', 'All units 64', \"Add layers\", \"add 2 layer\"],\n",
        "             title='Comparison of train losses',\n",
        "             ylabel='Train loss')"
      ],
      "metadata": {
        "colab": {
          "base_uri": "https://localhost:8080/",
          "height": 295
        },
        "id": "oU_S4w8CghxO",
        "outputId": "058373e3-8367-4e52-ce11-0b1b8164007b"
      },
      "execution_count": null,
      "outputs": [
        {
          "output_type": "display_data",
          "data": {
            "text/plain": [
              "<Figure size 432x288 with 1 Axes>"
            ],
            "image/png": "[encoded data removed]"
          },
          "metadata": {
            "needs_background": "light"
          }
        }
      ]
    },
    {
      "cell_type": "code",
      "source": [
        "baseline_val_accuracy = history_t_baseline_model['val_accuracy']\n",
        "tuned_model_val_accuracy = history_t_model_lr_lower['val_accuracy']\n",
        "tuned_1_model_val_accuracy = history_t_model_lr_lower_2['val_accuracy']\n",
        "tuned_2_model_val_accuracy = history_t_model_lr_lower3['val_accuracy']\n",
        "tuned_3_model_val_accuracy = history_t_model_64units['val_accuracy']\n",
        "tuned_4_model_val_accuracy = history_t_model_more_layers['val_accuracy']\n",
        "tuned_5_model_val_accuracy = history_t_model_2more_layers['val_accuracy']\n",
        "\n",
        "plot_history(data_list=[baseline_val_accuracy, tuned_model_val_accuracy,tuned_1_model_val_accuracy,tuned_2_model_val_accuracy,tuned_3_model_val_accuracy,tuned_4_model_val_accuracy,tuned_5_model_val_accuracy ],\n",
        "             label_list=['Baseline Validation Accuracy', 'Lower lr = 0.0001', 'Lower lr = 0.00001', 'Lower lr = 0.000001', 'All units 64', \"Add Layers\", \"add 2 layer\"],\n",
        "             title='Comparison of validation accuracy',\n",
        "             ylabel='Validation accuracy')"
      ],
      "metadata": {
        "colab": {
          "base_uri": "https://localhost:8080/",
          "height": 295
        },
        "id": "hpUFtrPYfPLe",
        "outputId": "2db37607-f43d-4bfb-8214-c2c8b9c2a28d"
      },
      "execution_count": null,
      "outputs": [
        {
          "output_type": "display_data",
          "data": {
            "text/plain": [
              "<Figure size 432x288 with 1 Axes>"
            ],
            "image/png": "[encoded data removed]"
          },
          "metadata": {
            "needs_background": "light"
          }
        }
      ]
    },
    {
      "cell_type": "code",
      "source": [
        "%matplotlib inline\n",
        "\n",
        "acc = history_dict_tuned['accuracy']\n",
        "val_acc = history_dict_tuned['val_accuracy']\n",
        "loss = history_dict_tuned['loss']\n",
        "val_loss = history_dict_tuned['val_loss']\n",
        "\n",
        "plot_history(data_list=[loss, val_loss],\n",
        "             label_list=['Training loss', 'Validation loss'],\n",
        "             title='Training and validation loss',\n",
        "             ylabel='Loss')\n",
        "plot_history(data_list=[acc, val_acc],\n",
        "             label_list=['Training acc.', 'Validation acc.'],\n",
        "             title='Training and validation accuracy',\n",
        "             ylabel='Accuracy')"
      ],
      "metadata": {
        "colab": {
          "base_uri": "https://localhost:8080/",
          "height": 573
        },
        "id": "5fgPNZRHXF0g",
        "outputId": "fbe08a83-0ea4-4530-a07a-876e0095aa74"
      },
      "execution_count": null,
      "outputs": [
        {
          "output_type": "display_data",
          "data": {
            "text/plain": [
              "<Figure size 432x288 with 1 Axes>"
            ],
            "image/png": "[encoded data removed]"
          },
          "metadata": {
            "needs_background": "light"
          }
        },
        {
          "output_type": "display_data",
          "data": {
            "text/plain": [
              "<Figure size 432x288 with 1 Axes>"
            ],
            "image/png": "[encoded data removed]"
          },
          "metadata": {
            "needs_background": "light"
          }
        }
      ]
    },
    {
      "cell_type": "code",
      "source": [
        "pip install keras_tuner"
      ],
      "metadata": {
        "collapsed": true,
        "id": "Bo-kUg2MYA1N",
        "outputId": "d9637b7f-fc36-4b08-b660-9ad7d405005c",
        "colab": {
          "base_uri": "https://localhost:8080/"
        }
      },
      "execution_count": null,
      "outputs": [
        {
          "output_type": "stream",
          "name": "stdout",
          "text": [
            "Looking in indexes: https://pypi.org/simple, https://us-python.pkg.dev/colab-wheels/public/simple/\n",
            "Collecting keras_tuner\n",
            "  Downloading keras_tuner-1.3.0-py3-none-any.whl (167 kB)\n",
            "\u001b[2K     \u001b[90m━━━━━━━━━━━━━━━━━━━━━━━━━━━━━━━━━━━━━━━\u001b[0m \u001b[32m167.3/167.3 KB\u001b[0m \u001b[31m9.4 MB/s\u001b[0m eta \u001b[36m0:00:00\u001b[0m\n",
            "\u001b[?25hRequirement already satisfied: packaging in /usr/local/lib/python3.8/dist-packages (from keras_tuner) (23.0)\n",
            "Requirement already satisfied: ipython in /usr/local/lib/python3.8/dist-packages (from keras_tuner) (7.9.0)\n",
            "Requirement already satisfied: tensorflow>=2.0 in /usr/local/lib/python3.8/dist-packages (from keras_tuner) (2.11.0)\n",
            "Requirement already satisfied: requests in /usr/local/lib/python3.8/dist-packages (from keras_tuner) (2.25.1)\n",
            "Collecting kt-legacy\n",
            "  Downloading kt_legacy-1.0.4-py3-none-any.whl (9.6 kB)\n",
            "Requirement already satisfied: tensorflow-estimator<2.12,>=2.11.0 in /usr/local/lib/python3.8/dist-packages (from tensorflow>=2.0->keras_tuner) (2.11.0)\n",
            "Requirement already satisfied: gast<=0.4.0,>=0.2.1 in /usr/local/lib/python3.8/dist-packages (from tensorflow>=2.0->keras_tuner) (0.4.0)\n",
            "Requirement already satisfied: setuptools in /usr/local/lib/python3.8/dist-packages (from tensorflow>=2.0->keras_tuner) (57.4.0)\n",
            "Requirement already satisfied: wrapt>=1.11.0 in /usr/local/lib/python3.8/dist-packages (from tensorflow>=2.0->keras_tuner) (1.15.0)\n",
            "Requirement already satisfied: six>=1.12.0 in /usr/local/lib/python3.8/dist-packages (from tensorflow>=2.0->keras_tuner) (1.15.0)\n",
            "Requirement already satisfied: tensorflow-io-gcs-filesystem>=0.23.1 in /usr/local/lib/python3.8/dist-packages (from tensorflow>=2.0->keras_tuner) (0.31.0)\n",
            "Requirement already satisfied: absl-py>=1.0.0 in /usr/local/lib/python3.8/dist-packages (from tensorflow>=2.0->keras_tuner) (1.4.0)\n",
            "Requirement already satisfied: opt-einsum>=2.3.2 in /usr/local/lib/python3.8/dist-packages (from tensorflow>=2.0->keras_tuner) (3.3.0)\n",
            "Requirement already satisfied: flatbuffers>=2.0 in /usr/local/lib/python3.8/dist-packages (from tensorflow>=2.0->keras_tuner) (23.1.21)\n",
            "Requirement already satisfied: keras<2.12,>=2.11.0 in /usr/local/lib/python3.8/dist-packages (from tensorflow>=2.0->keras_tuner) (2.11.0)\n",
            "Requirement already satisfied: protobuf<3.20,>=3.9.2 in /usr/local/lib/python3.8/dist-packages (from tensorflow>=2.0->keras_tuner) (3.19.6)\n",
            "Requirement already satisfied: termcolor>=1.1.0 in /usr/local/lib/python3.8/dist-packages (from tensorflow>=2.0->keras_tuner) (2.2.0)\n",
            "Requirement already satisfied: typing-extensions>=3.6.6 in /usr/local/lib/python3.8/dist-packages (from tensorflow>=2.0->keras_tuner) (4.5.0)\n",
            "Requirement already satisfied: grpcio<2.0,>=1.24.3 in /usr/local/lib/python3.8/dist-packages (from tensorflow>=2.0->keras_tuner) (1.51.3)\n",
            "Requirement already satisfied: google-pasta>=0.1.1 in /usr/local/lib/python3.8/dist-packages (from tensorflow>=2.0->keras_tuner) (0.2.0)\n",
            "Requirement already satisfied: h5py>=2.9.0 in /usr/local/lib/python3.8/dist-packages (from tensorflow>=2.0->keras_tuner) (3.1.0)\n",
            "Requirement already satisfied: numpy>=1.20 in /usr/local/lib/python3.8/dist-packages (from tensorflow>=2.0->keras_tuner) (1.22.4)\n",
            "Requirement already satisfied: astunparse>=1.6.0 in /usr/local/lib/python3.8/dist-packages (from tensorflow>=2.0->keras_tuner) (1.6.3)\n",
            "Requirement already satisfied: tensorboard<2.12,>=2.11 in /usr/local/lib/python3.8/dist-packages (from tensorflow>=2.0->keras_tuner) (2.11.2)\n",
            "Requirement already satisfied: libclang>=13.0.0 in /usr/local/lib/python3.8/dist-packages (from tensorflow>=2.0->keras_tuner) (15.0.6.1)\n",
            "Requirement already satisfied: prompt-toolkit<2.1.0,>=2.0.0 in /usr/local/lib/python3.8/dist-packages (from ipython->keras_tuner) (2.0.10)\n",
            "Requirement already satisfied: backcall in /usr/local/lib/python3.8/dist-packages (from ipython->keras_tuner) (0.2.0)\n",
            "Requirement already satisfied: traitlets>=4.2 in /usr/local/lib/python3.8/dist-packages (from ipython->keras_tuner) (5.7.1)\n",
            "Requirement already satisfied: pygments in /usr/local/lib/python3.8/dist-packages (from ipython->keras_tuner) (2.6.1)\n",
            "Requirement already satisfied: decorator in /usr/local/lib/python3.8/dist-packages (from ipython->keras_tuner) (4.4.2)\n",
            "Requirement already satisfied: jedi>=0.10 in /usr/local/lib/python3.8/dist-packages (from ipython->keras_tuner) (0.18.2)\n",
            "Requirement already satisfied: pickleshare in /usr/local/lib/python3.8/dist-packages (from ipython->keras_tuner) (0.7.5)\n",
            "Requirement already satisfied: pexpect in /usr/local/lib/python3.8/dist-packages (from ipython->keras_tuner) (4.8.0)\n",
            "Requirement already satisfied: idna<3,>=2.5 in /usr/local/lib/python3.8/dist-packages (from requests->keras_tuner) (2.10)\n",
            "Requirement already satisfied: urllib3<1.27,>=1.21.1 in /usr/local/lib/python3.8/dist-packages (from requests->keras_tuner) (1.26.14)\n",
            "Requirement already satisfied: certifi>=2017.4.17 in /usr/local/lib/python3.8/dist-packages (from requests->keras_tuner) (2022.12.7)\n",
            "Requirement already satisfied: chardet<5,>=3.0.2 in /usr/local/lib/python3.8/dist-packages (from requests->keras_tuner) (4.0.0)\n",
            "Requirement already satisfied: wheel<1.0,>=0.23.0 in /usr/local/lib/python3.8/dist-packages (from astunparse>=1.6.0->tensorflow>=2.0->keras_tuner) (0.38.4)\n",
            "Requirement already satisfied: parso<0.9.0,>=0.8.0 in /usr/local/lib/python3.8/dist-packages (from jedi>=0.10->ipython->keras_tuner) (0.8.3)\n",
            "Requirement already satisfied: wcwidth in /usr/local/lib/python3.8/dist-packages (from prompt-toolkit<2.1.0,>=2.0.0->ipython->keras_tuner) (0.2.6)\n",
            "Requirement already satisfied: werkzeug>=1.0.1 in /usr/local/lib/python3.8/dist-packages (from tensorboard<2.12,>=2.11->tensorflow>=2.0->keras_tuner) (2.2.3)\n",
            "Requirement already satisfied: markdown>=2.6.8 in /usr/local/lib/python3.8/dist-packages (from tensorboard<2.12,>=2.11->tensorflow>=2.0->keras_tuner) (3.4.1)\n",
            "Requirement already satisfied: tensorboard-data-server<0.7.0,>=0.6.0 in /usr/local/lib/python3.8/dist-packages (from tensorboard<2.12,>=2.11->tensorflow>=2.0->keras_tuner) (0.6.1)\n",
            "Requirement already satisfied: google-auth<3,>=1.6.3 in /usr/local/lib/python3.8/dist-packages (from tensorboard<2.12,>=2.11->tensorflow>=2.0->keras_tuner) (2.16.1)\n",
            "Requirement already satisfied: tensorboard-plugin-wit>=1.6.0 in /usr/local/lib/python3.8/dist-packages (from tensorboard<2.12,>=2.11->tensorflow>=2.0->keras_tuner) (1.8.1)\n",
            "Requirement already satisfied: google-auth-oauthlib<0.5,>=0.4.1 in /usr/local/lib/python3.8/dist-packages (from tensorboard<2.12,>=2.11->tensorflow>=2.0->keras_tuner) (0.4.6)\n",
            "Requirement already satisfied: ptyprocess>=0.5 in /usr/local/lib/python3.8/dist-packages (from pexpect->ipython->keras_tuner) (0.7.0)\n",
            "Requirement already satisfied: pyasn1-modules>=0.2.1 in /usr/local/lib/python3.8/dist-packages (from google-auth<3,>=1.6.3->tensorboard<2.12,>=2.11->tensorflow>=2.0->keras_tuner) (0.2.8)\n",
            "Requirement already satisfied: rsa<5,>=3.1.4 in /usr/local/lib/python3.8/dist-packages (from google-auth<3,>=1.6.3->tensorboard<2.12,>=2.11->tensorflow>=2.0->keras_tuner) (4.9)\n",
            "Requirement already satisfied: cachetools<6.0,>=2.0.0 in /usr/local/lib/python3.8/dist-packages (from google-auth<3,>=1.6.3->tensorboard<2.12,>=2.11->tensorflow>=2.0->keras_tuner) (5.3.0)\n",
            "Requirement already satisfied: requests-oauthlib>=0.7.0 in /usr/local/lib/python3.8/dist-packages (from google-auth-oauthlib<0.5,>=0.4.1->tensorboard<2.12,>=2.11->tensorflow>=2.0->keras_tuner) (1.3.1)\n",
            "Requirement already satisfied: importlib-metadata>=4.4 in /usr/local/lib/python3.8/dist-packages (from markdown>=2.6.8->tensorboard<2.12,>=2.11->tensorflow>=2.0->keras_tuner) (6.0.0)\n",
            "Requirement already satisfied: MarkupSafe>=2.1.1 in /usr/local/lib/python3.8/dist-packages (from werkzeug>=1.0.1->tensorboard<2.12,>=2.11->tensorflow>=2.0->keras_tuner) (2.1.2)\n",
            "Requirement already satisfied: zipp>=0.5 in /usr/local/lib/python3.8/dist-packages (from importlib-metadata>=4.4->markdown>=2.6.8->tensorboard<2.12,>=2.11->tensorflow>=2.0->keras_tuner) (3.15.0)\n",
            "Requirement already satisfied: pyasn1<0.5.0,>=0.4.6 in /usr/local/lib/python3.8/dist-packages (from pyasn1-modules>=0.2.1->google-auth<3,>=1.6.3->tensorboard<2.12,>=2.11->tensorflow>=2.0->keras_tuner) (0.4.8)\n",
            "Requirement already satisfied: oauthlib>=3.0.0 in /usr/local/lib/python3.8/dist-packages (from requests-oauthlib>=0.7.0->google-auth-oauthlib<0.5,>=0.4.1->tensorboard<2.12,>=2.11->tensorflow>=2.0->keras_tuner) (3.2.2)\n",
            "Installing collected packages: kt-legacy, keras_tuner\n",
            "Successfully installed keras_tuner-1.3.0 kt-legacy-1.0.4\n"
          ]
        }
      ]
    },
    {
      "cell_type": "code",
      "source": [
        "import keras_tuner\n",
        "from tensorflow import keras"
      ],
      "metadata": {
        "id": "xZkI5Kx-YG14"
      },
      "execution_count": null,
      "outputs": []
    },
    {
      "cell_type": "code",
      "source": [
        "from tensorflow.keras import models\n",
        "from tensorflow.keras import layers\n",
        "\n",
        "from tensorflow.keras.optimizers import Adam\n",
        "## activation,\n",
        "def tobe_tuned_model( units_1 , units_2, lr , addlayers1, addlayers2): # which inputs should we have?\n",
        "  model = models.Sequential()\n",
        "  model.add(layers.Conv2D(units_1, kernel_size= (3,3), activation='relu', input_shape = (156,156,3), padding=\"same\"))\n",
        "  model.add(layers.Conv2D(units_2, kernel_size= (3,3), activation='relu', padding=\"same\"))\n",
        "  model.add(layers.MaxPooling2D(pool_size=(2, 2), padding=\"same\"))\n",
        "\n",
        "  model.add(layers.Conv2D(units_1,  kernel_size=(3,3), activation='relu', padding=\"same\"))\n",
        "  model.add(layers.Conv2D(units_2,  kernel_size = (3,3), activation='relu', padding=\"same\"))\n",
        "  model.add(layers.MaxPooling2D(pool_size=(2, 2), padding=\"same\"))\n",
        "  if addlayers1:\n",
        "    model.add(layers.Conv2D(units_1,  kernel_size=(3,3), activation='relu', padding=\"same\"))\n",
        "    model.add(layers.Conv2D(units_2,  kernel_size = (3,3), activation='relu', padding=\"same\"))\n",
        "    model.add(layers.MaxPooling2D(pool_size=(2, 2), padding=\"same\"))\n",
        "  if addlayers2:\n",
        "    model.add(layers.Conv2D(units_1,  kernel_size=(3,3), activation='relu', padding=\"same\"))\n",
        "    model.add(layers.Conv2D(units_2,  kernel_size = (3,3), activation='relu', padding=\"same\"))\n",
        "    model.add(layers.MaxPooling2D(pool_size=(2, 2), padding=\"same\"))\n",
        "\n",
        "  model.add(layers.Flatten())\n",
        "\n",
        "  model.add(layers.Dense(units_2, activation=\"relu\"))\n",
        "  model.add(layers.Dense(units_2, activation=\"relu\"))\n",
        "  \n",
        "  model.add(layers.Dense(4, activation=\"softmax\"))\n",
        "\n",
        "  model.compile(optimizer=Adam(learning_rate = lr), \n",
        "                         loss=\"categorical_crossentropy\",\n",
        "                         metrics=['accuracy']\n",
        "                         )\n",
        "  return model\n",
        "\n",
        "\n",
        "\n",
        "def build_tuned_model(hp):\n",
        "  units_1 = hp.Int('units_1', min_value = 16 , max_value = 64, step = 16)\n",
        "  units_2 = hp.Int('units_2', min_value = 16 , max_value = 64, step = 16)\n",
        "  addlayers1 = hp.Boolean(\"addlayers1\")\n",
        "  addlayers2 = hp.Boolean(\"addlayers2\")\n",
        "\n",
        "  # dropout_rate = hp.Float(\"dropout_rate\", min_value=0.2, max_value=1, step=0.2,parent_name=dropout , parent_values=True )\n",
        "  # activation = hp.Choice(\"activation\", [\"relu\", \"tanh\"])\n",
        "  lr = hp.Float(\"lr\", min_value=1e-4, max_value=0.001, step=10,sampling=\"log\", default=1e-3)\n",
        "  # call existing model-building code with the hyperparameter values.\n",
        "  model = tobe_tuned_model(\n",
        "       lr=lr , units_1 = units_1 , units_2 = units_2 ,addlayers1 = addlayers1 , addlayers2 = addlayers2 \n",
        "  )\n",
        "  return model\n",
        "\n",
        "##dropout=dropout, lr=lr , dropout_rate = dropout_rate"
      ],
      "metadata": {
        "id": "ju6KU02WYlbp"
      },
      "execution_count": null,
      "outputs": []
    },
    {
      "cell_type": "code",
      "source": [
        "1e-2"
      ],
      "metadata": {
        "colab": {
          "base_uri": "https://localhost:8080/"
        },
        "id": "PS4ChbUfumuz",
        "outputId": "cf74ad83-e8bd-4dea-c27e-6b0a37859567"
      },
      "execution_count": null,
      "outputs": [
        {
          "output_type": "execute_result",
          "data": {
            "text/plain": [
              "0.01"
            ]
          },
          "metadata": {},
          "execution_count": 8
        }
      ]
    },
    {
      "cell_type": "code",
      "source": [
        "\n",
        "build_tuned_model(keras_tuner.HyperParameters())"
      ],
      "metadata": {
        "colab": {
          "base_uri": "https://localhost:8080/"
        },
        "id": "pHzFHXHzb-PB",
        "outputId": "bad42af4-e9e6-4357-c245-b5372f67b71c"
      },
      "execution_count": null,
      "outputs": [
        {
          "output_type": "execute_result",
          "data": {
            "text/plain": [
              "<keras.engine.sequential.Sequential at 0x7f2177012fd0>"
            ]
          },
          "metadata": {},
          "execution_count": 6
        }
      ]
    },
    {
      "cell_type": "code",
      "source": [
        "# from tensorflow.keras.utils import set_random_seed\n",
        "# set_random_seed(42)\n",
        "\n",
        "tuner = keras_tuner.RandomSearch(\n",
        "    hypermodel=build_tuned_model,\n",
        "    objective=\"val_accuracy\",\n",
        "    max_trials=20,\n",
        "    executions_per_trial=1,\n",
        "    overwrite=True,\n",
        "    directory=\"./Results and Models\",\n",
        "    project_name=\"KerasTunning\",\n",
        "    seed = 42\n",
        ")"
      ],
      "metadata": {
        "id": "p_SBTgbFePRT"
      },
      "execution_count": null,
      "outputs": []
    },
    {
      "cell_type": "code",
      "source": [
        "tuner.search(X_train, y_train, epochs=10, batch_size=16, validation_data=(X_val, y_val))"
      ],
      "metadata": {
        "colab": {
          "base_uri": "https://localhost:8080/"
        },
        "id": "vejhwhSRel4y",
        "outputId": "12771c6b-c702-4a0d-de17-8255d56bac57"
      },
      "execution_count": null,
      "outputs": [
        {
          "output_type": "stream",
          "name": "stdout",
          "text": [
            "Trial 20 Complete [00h 00m 48s]\n",
            "val_accuracy: 0.7875000238418579\n",
            "\n",
            "Best val_accuracy So Far: 0.801562488079071\n",
            "Total elapsed time: 00h 29m 53s\n"
          ]
        }
      ]
    },
    {
      "cell_type": "code",
      "source": [
        "models = tuner.get_best_models(num_models=2)\n",
        "best_model = models[0]"
      ],
      "metadata": {
        "id": "XQ3henQ4g8Pt"
      },
      "execution_count": null,
      "outputs": []
    },
    {
      "cell_type": "code",
      "source": [
        "best_model.summary()"
      ],
      "metadata": {
        "colab": {
          "base_uri": "https://localhost:8080/"
        },
        "id": "4-sX0_EJidlm",
        "outputId": "09c3a2d1-9170-4939-9e3f-041a4ec0edd3"
      },
      "execution_count": null,
      "outputs": [
        {
          "output_type": "stream",
          "name": "stdout",
          "text": [
            "Model: \"sequential\"\n",
            "_________________________________________________________________\n",
            " Layer (type)                Output Shape              Param #   \n",
            "=================================================================\n",
            " conv2d (Conv2D)             (None, 156, 156, 16)      448       \n",
            "                                                                 \n",
            " conv2d_1 (Conv2D)           (None, 156, 156, 64)      9280      \n",
            "                                                                 \n",
            " max_pooling2d (MaxPooling2D  (None, 78, 78, 64)       0         \n",
            " )                                                               \n",
            "                                                                 \n",
            " conv2d_2 (Conv2D)           (None, 78, 78, 16)        9232      \n",
            "                                                                 \n",
            " conv2d_3 (Conv2D)           (None, 78, 78, 64)        9280      \n",
            "                                                                 \n",
            " max_pooling2d_1 (MaxPooling  (None, 39, 39, 64)       0         \n",
            " 2D)                                                             \n",
            "                                                                 \n",
            " conv2d_4 (Conv2D)           (None, 39, 39, 16)        9232      \n",
            "                                                                 \n",
            " conv2d_5 (Conv2D)           (None, 39, 39, 64)        9280      \n",
            "                                                                 \n",
            " max_pooling2d_2 (MaxPooling  (None, 20, 20, 64)       0         \n",
            " 2D)                                                             \n",
            "                                                                 \n",
            " conv2d_6 (Conv2D)           (None, 20, 20, 16)        9232      \n",
            "                                                                 \n",
            " conv2d_7 (Conv2D)           (None, 20, 20, 64)        9280      \n",
            "                                                                 \n",
            " max_pooling2d_3 (MaxPooling  (None, 10, 10, 64)       0         \n",
            " 2D)                                                             \n",
            "                                                                 \n",
            " flatten (Flatten)           (None, 6400)              0         \n",
            "                                                                 \n",
            " dense (Dense)               (None, 64)                409664    \n",
            "                                                                 \n",
            " dense_1 (Dense)             (None, 64)                4160      \n",
            "                                                                 \n",
            " dense_2 (Dense)             (None, 4)                 260       \n",
            "                                                                 \n",
            "=================================================================\n",
            "Total params: 479,348\n",
            "Trainable params: 479,348\n",
            "Non-trainable params: 0\n",
            "_________________________________________________________________\n"
          ]
        }
      ]
    },
    {
      "cell_type": "code",
      "source": [
        "tuner.results_summary()"
      ],
      "metadata": {
        "colab": {
          "base_uri": "https://localhost:8080/"
        },
        "id": "2J5h0LusjLKN",
        "outputId": "a875ecfa-c469-468a-d62e-33be440c925b"
      },
      "execution_count": null,
      "outputs": [
        {
          "output_type": "stream",
          "name": "stdout",
          "text": [
            "Results summary\n",
            "Results in ./Results and Models/KerasTunning\n",
            "Showing 10 best trials\n",
            "<keras_tuner.engine.objective.Objective object at 0x7f216c05e4f0>\n",
            "Trial summary\n",
            "Hyperparameters:\n",
            "units_1: 16\n",
            "units_2: 64\n",
            "addlayers1: True\n",
            "addlayers2: True\n",
            "lr: 9.999999999999999e-05\n",
            "Score: 0.801562488079071\n",
            "Trial summary\n",
            "Hyperparameters:\n",
            "units_1: 16\n",
            "units_2: 32\n",
            "addlayers1: True\n",
            "addlayers2: False\n",
            "lr: 0.001\n",
            "Score: 0.7953125238418579\n",
            "Trial summary\n",
            "Hyperparameters:\n",
            "units_1: 32\n",
            "units_2: 32\n",
            "addlayers1: False\n",
            "addlayers2: True\n",
            "lr: 9.999999999999999e-05\n",
            "Score: 0.79296875\n",
            "Trial summary\n",
            "Hyperparameters:\n",
            "units_1: 16\n",
            "units_2: 16\n",
            "addlayers1: False\n",
            "addlayers2: True\n",
            "lr: 0.001\n",
            "Score: 0.7906249761581421\n",
            "Trial summary\n",
            "Hyperparameters:\n",
            "units_1: 16\n",
            "units_2: 16\n",
            "addlayers1: False\n",
            "addlayers2: True\n",
            "lr: 9.999999999999999e-05\n",
            "Score: 0.7875000238418579\n",
            "Trial summary\n",
            "Hyperparameters:\n",
            "units_1: 16\n",
            "units_2: 32\n",
            "addlayers1: False\n",
            "addlayers2: False\n",
            "lr: 9.999999999999999e-05\n",
            "Score: 0.7867187261581421\n",
            "Trial summary\n",
            "Hyperparameters:\n",
            "units_1: 64\n",
            "units_2: 48\n",
            "addlayers1: True\n",
            "addlayers2: False\n",
            "lr: 0.001\n",
            "Score: 0.785937488079071\n",
            "Trial summary\n",
            "Hyperparameters:\n",
            "units_1: 32\n",
            "units_2: 16\n",
            "addlayers1: False\n",
            "addlayers2: True\n",
            "lr: 0.001\n",
            "Score: 0.784375011920929\n",
            "Trial summary\n",
            "Hyperparameters:\n",
            "units_1: 48\n",
            "units_2: 16\n",
            "addlayers1: False\n",
            "addlayers2: False\n",
            "lr: 0.001\n",
            "Score: 0.7828124761581421\n",
            "Trial summary\n",
            "Hyperparameters:\n",
            "units_1: 64\n",
            "units_2: 64\n",
            "addlayers1: False\n",
            "addlayers2: False\n",
            "lr: 9.999999999999999e-05\n",
            "Score: 0.782031238079071\n"
          ]
        }
      ]
    },
    {
      "cell_type": "markdown",
      "source": [
        "\n",
        "\n",
        "# Talos Tuner\n"
      ],
      "metadata": {
        "id": "xRPKynxk2eTv"
      }
    },
    {
      "cell_type": "code",
      "source": [
        "!pip install talos"
      ],
      "metadata": {
        "id": "E1Yc8nY7ixzP",
        "outputId": "4f992fd5-4a85-4961-c4a1-f5537d62dda7",
        "colab": {
          "base_uri": "https://localhost:8080/"
        }
      },
      "execution_count": null,
      "outputs": [
        {
          "output_type": "stream",
          "name": "stdout",
          "text": [
            "Looking in indexes: https://pypi.org/simple, https://us-python.pkg.dev/colab-wheels/public/simple/\n",
            "Collecting talos\n",
            "  Downloading talos-1.3-py3-none-any.whl (56 kB)\n",
            "\u001b[2K     \u001b[90m━━━━━━━━━━━━━━━━━━━━━━━━━━━━━━━━━━━━━━━━\u001b[0m \u001b[32m56.4/56.4 KB\u001b[0m \u001b[31m8.1 MB/s\u001b[0m eta \u001b[36m0:00:00\u001b[0m\n",
            "\u001b[?25hCollecting sklearn\n",
            "  Downloading sklearn-0.0.post1.tar.gz (3.6 kB)\n",
            "  Preparing metadata (setup.py) ... \u001b[?25l\u001b[?25hdone\n",
            "Collecting chances\n",
            "  Downloading chances-0.1.9.tar.gz (35 kB)\n",
            "  Preparing metadata (setup.py) ... \u001b[?25l\u001b[?25hdone\n",
            "Requirement already satisfied: tqdm in /usr/local/lib/python3.8/dist-packages (from talos) (4.64.1)\n",
            "Collecting kerasplotlib\n",
            "  Downloading kerasplotlib-1.0-py3-none-any.whl (4.3 kB)\n",
            "Requirement already satisfied: numpy in /usr/local/lib/python3.8/dist-packages (from talos) (1.22.4)\n",
            "Requirement already satisfied: requests in /usr/local/lib/python3.8/dist-packages (from talos) (2.25.1)\n",
            "Collecting wrangle\n",
            "  Downloading wrangle-0.7.2-py3-none-any.whl (52 kB)\n",
            "\u001b[2K     \u001b[90m━━━━━━━━━━━━━━━━━━━━━━━━━━━━━━━━━━━━━━━━\u001b[0m \u001b[32m52.3/52.3 KB\u001b[0m \u001b[31m7.9 MB/s\u001b[0m eta \u001b[36m0:00:00\u001b[0m\n",
            "\u001b[?25hRequirement already satisfied: pandas in /usr/local/lib/python3.8/dist-packages (from talos) (1.3.5)\n",
            "Requirement already satisfied: tensorflow>=2.0.0 in /usr/local/lib/python3.8/dist-packages (from talos) (2.11.0)\n",
            "Requirement already satisfied: statsmodels>=0.11.0 in /usr/local/lib/python3.8/dist-packages (from talos) (0.13.5)\n",
            "Collecting astetik\n",
            "  Downloading astetik-1.13-py3-none-any.whl (5.4 MB)\n",
            "\u001b[2K     \u001b[90m━━━━━━━━━━━━━━━━━━━━━━━━━━━━━━━━━━━━━━━━\u001b[0m \u001b[32m5.4/5.4 MB\u001b[0m \u001b[31m12.8 MB/s\u001b[0m eta \u001b[36m0:00:00\u001b[0m\n",
            "\u001b[?25hRequirement already satisfied: packaging>=21.3 in /usr/local/lib/python3.8/dist-packages (from statsmodels>=0.11.0->talos) (23.0)\n",
            "Requirement already satisfied: scipy>=1.3 in /usr/local/lib/python3.8/dist-packages (from statsmodels>=0.11.0->talos) (1.10.1)\n",
            "Requirement already satisfied: patsy>=0.5.2 in /usr/local/lib/python3.8/dist-packages (from statsmodels>=0.11.0->talos) (0.5.3)\n",
            "Requirement already satisfied: pytz>=2017.3 in /usr/local/lib/python3.8/dist-packages (from pandas->talos) (2022.7.1)\n",
            "Requirement already satisfied: python-dateutil>=2.7.3 in /usr/local/lib/python3.8/dist-packages (from pandas->talos) (2.8.2)\n",
            "Requirement already satisfied: protobuf<3.20,>=3.9.2 in /usr/local/lib/python3.8/dist-packages (from tensorflow>=2.0.0->talos) (3.19.6)\n",
            "Requirement already satisfied: keras<2.12,>=2.11.0 in /usr/local/lib/python3.8/dist-packages (from tensorflow>=2.0.0->talos) (2.11.0)\n",
            "Requirement already satisfied: tensorboard<2.12,>=2.11 in /usr/local/lib/python3.8/dist-packages (from tensorflow>=2.0.0->talos) (2.11.2)\n",
            "Requirement already satisfied: google-pasta>=0.1.1 in /usr/local/lib/python3.8/dist-packages (from tensorflow>=2.0.0->talos) (0.2.0)\n",
            "Requirement already satisfied: flatbuffers>=2.0 in /usr/local/lib/python3.8/dist-packages (from tensorflow>=2.0.0->talos) (23.1.21)\n",
            "Requirement already satisfied: opt-einsum>=2.3.2 in /usr/local/lib/python3.8/dist-packages (from tensorflow>=2.0.0->talos) (3.3.0)\n",
            "Requirement already satisfied: grpcio<2.0,>=1.24.3 in /usr/local/lib/python3.8/dist-packages (from tensorflow>=2.0.0->talos) (1.51.3)\n",
            "Requirement already satisfied: h5py>=2.9.0 in /usr/local/lib/python3.8/dist-packages (from tensorflow>=2.0.0->talos) (3.1.0)\n",
            "Requirement already satisfied: six>=1.12.0 in /usr/local/lib/python3.8/dist-packages (from tensorflow>=2.0.0->talos) (1.15.0)\n",
            "Requirement already satisfied: termcolor>=1.1.0 in /usr/local/lib/python3.8/dist-packages (from tensorflow>=2.0.0->talos) (2.2.0)\n",
            "Requirement already satisfied: typing-extensions>=3.6.6 in /usr/local/lib/python3.8/dist-packages (from tensorflow>=2.0.0->talos) (4.5.0)\n",
            "Requirement already satisfied: absl-py>=1.0.0 in /usr/local/lib/python3.8/dist-packages (from tensorflow>=2.0.0->talos) (1.4.0)\n",
            "Requirement already satisfied: gast<=0.4.0,>=0.2.1 in /usr/local/lib/python3.8/dist-packages (from tensorflow>=2.0.0->talos) (0.4.0)\n",
            "Requirement already satisfied: wrapt>=1.11.0 in /usr/local/lib/python3.8/dist-packages (from tensorflow>=2.0.0->talos) (1.15.0)\n",
            "Requirement already satisfied: tensorflow-io-gcs-filesystem>=0.23.1 in /usr/local/lib/python3.8/dist-packages (from tensorflow>=2.0.0->talos) (0.31.0)\n",
            "Requirement already satisfied: setuptools in /usr/local/lib/python3.8/dist-packages (from tensorflow>=2.0.0->talos) (57.4.0)\n",
            "Requirement already satisfied: astunparse>=1.6.0 in /usr/local/lib/python3.8/dist-packages (from tensorflow>=2.0.0->talos) (1.6.3)\n",
            "Requirement already satisfied: tensorflow-estimator<2.12,>=2.11.0 in /usr/local/lib/python3.8/dist-packages (from tensorflow>=2.0.0->talos) (2.11.0)\n",
            "Requirement already satisfied: libclang>=13.0.0 in /usr/local/lib/python3.8/dist-packages (from tensorflow>=2.0.0->talos) (15.0.6.1)\n",
            "Requirement already satisfied: seaborn in /usr/local/lib/python3.8/dist-packages (from astetik->talos) (0.11.2)\n",
            "Collecting geonamescache\n",
            "  Downloading geonamescache-1.5.0-py3-none-any.whl (26.4 MB)\n",
            "\u001b[2K     \u001b[90m━━━━━━━━━━━━━━━━━━━━━━━━━━━━━━━━━━━━━━━━\u001b[0m \u001b[32m26.4/26.4 MB\u001b[0m \u001b[31m22.4 MB/s\u001b[0m eta \u001b[36m0:00:00\u001b[0m\n",
            "\u001b[?25hRequirement already satisfied: IPython in /usr/local/lib/python3.8/dist-packages (from astetik->talos) (7.9.0)\n",
            "Requirement already satisfied: matplotlib in /usr/local/lib/python3.8/dist-packages (from kerasplotlib->talos) (3.5.3)\n",
            "Requirement already satisfied: certifi>=2017.4.17 in /usr/local/lib/python3.8/dist-packages (from requests->talos) (2022.12.7)\n",
            "Requirement already satisfied: chardet<5,>=3.0.2 in /usr/local/lib/python3.8/dist-packages (from requests->talos) (4.0.0)\n",
            "Requirement already satisfied: urllib3<1.27,>=1.21.1 in /usr/local/lib/python3.8/dist-packages (from requests->talos) (1.26.14)\n",
            "Requirement already satisfied: idna<3,>=2.5 in /usr/local/lib/python3.8/dist-packages (from requests->talos) (2.10)\n",
            "Requirement already satisfied: wheel<1.0,>=0.23.0 in /usr/local/lib/python3.8/dist-packages (from astunparse>=1.6.0->tensorflow>=2.0.0->talos) (0.38.4)\n",
            "Requirement already satisfied: google-auth<3,>=1.6.3 in /usr/local/lib/python3.8/dist-packages (from tensorboard<2.12,>=2.11->tensorflow>=2.0.0->talos) (2.16.1)\n",
            "Requirement already satisfied: tensorboard-data-server<0.7.0,>=0.6.0 in /usr/local/lib/python3.8/dist-packages (from tensorboard<2.12,>=2.11->tensorflow>=2.0.0->talos) (0.6.1)\n",
            "Requirement already satisfied: tensorboard-plugin-wit>=1.6.0 in /usr/local/lib/python3.8/dist-packages (from tensorboard<2.12,>=2.11->tensorflow>=2.0.0->talos) (1.8.1)\n",
            "Requirement already satisfied: markdown>=2.6.8 in /usr/local/lib/python3.8/dist-packages (from tensorboard<2.12,>=2.11->tensorflow>=2.0.0->talos) (3.4.1)\n",
            "Requirement already satisfied: google-auth-oauthlib<0.5,>=0.4.1 in /usr/local/lib/python3.8/dist-packages (from tensorboard<2.12,>=2.11->tensorflow>=2.0.0->talos) (0.4.6)\n",
            "Requirement already satisfied: werkzeug>=1.0.1 in /usr/local/lib/python3.8/dist-packages (from tensorboard<2.12,>=2.11->tensorflow>=2.0.0->talos) (2.2.3)\n",
            "Requirement already satisfied: pickleshare in /usr/local/lib/python3.8/dist-packages (from IPython->astetik->talos) (0.7.5)\n",
            "Requirement already satisfied: decorator in /usr/local/lib/python3.8/dist-packages (from IPython->astetik->talos) (4.4.2)\n",
            "Requirement already satisfied: prompt-toolkit<2.1.0,>=2.0.0 in /usr/local/lib/python3.8/dist-packages (from IPython->astetik->talos) (2.0.10)\n",
            "Requirement already satisfied: pexpect in /usr/local/lib/python3.8/dist-packages (from IPython->astetik->talos) (4.8.0)\n",
            "Requirement already satisfied: traitlets>=4.2 in /usr/local/lib/python3.8/dist-packages (from IPython->astetik->talos) (5.7.1)\n",
            "Requirement already satisfied: pygments in /usr/local/lib/python3.8/dist-packages (from IPython->astetik->talos) (2.6.1)\n",
            "Requirement already satisfied: backcall in /usr/local/lib/python3.8/dist-packages (from IPython->astetik->talos) (0.2.0)\n",
            "Collecting jedi>=0.10\n",
            "  Downloading jedi-0.18.2-py2.py3-none-any.whl (1.6 MB)\n",
            "\u001b[2K     \u001b[90m━━━━━━━━━━━━━━━━━━━━━━━━━━━━━━━━━━━━━━━━\u001b[0m \u001b[32m1.6/1.6 MB\u001b[0m \u001b[31m43.1 MB/s\u001b[0m eta \u001b[36m0:00:00\u001b[0m\n",
            "\u001b[?25hRequirement already satisfied: pillow>=6.2.0 in /usr/local/lib/python3.8/dist-packages (from matplotlib->kerasplotlib->talos) (8.4.0)\n",
            "Requirement already satisfied: fonttools>=4.22.0 in /usr/local/lib/python3.8/dist-packages (from matplotlib->kerasplotlib->talos) (4.38.0)\n",
            "Requirement already satisfied: cycler>=0.10 in /usr/local/lib/python3.8/dist-packages (from matplotlib->kerasplotlib->talos) (0.11.0)\n",
            "Requirement already satisfied: pyparsing>=2.2.1 in /usr/local/lib/python3.8/dist-packages (from matplotlib->kerasplotlib->talos) (3.0.9)\n",
            "Requirement already satisfied: kiwisolver>=1.0.1 in /usr/local/lib/python3.8/dist-packages (from matplotlib->kerasplotlib->talos) (1.4.4)\n",
            "Requirement already satisfied: cachetools<6.0,>=2.0.0 in /usr/local/lib/python3.8/dist-packages (from google-auth<3,>=1.6.3->tensorboard<2.12,>=2.11->tensorflow>=2.0.0->talos) (5.3.0)\n",
            "Requirement already satisfied: pyasn1-modules>=0.2.1 in /usr/local/lib/python3.8/dist-packages (from google-auth<3,>=1.6.3->tensorboard<2.12,>=2.11->tensorflow>=2.0.0->talos) (0.2.8)\n",
            "Requirement already satisfied: rsa<5,>=3.1.4 in /usr/local/lib/python3.8/dist-packages (from google-auth<3,>=1.6.3->tensorboard<2.12,>=2.11->tensorflow>=2.0.0->talos) (4.9)\n",
            "Requirement already satisfied: requests-oauthlib>=0.7.0 in /usr/local/lib/python3.8/dist-packages (from google-auth-oauthlib<0.5,>=0.4.1->tensorboard<2.12,>=2.11->tensorflow>=2.0.0->talos) (1.3.1)\n",
            "Requirement already satisfied: parso<0.9.0,>=0.8.0 in /usr/local/lib/python3.8/dist-packages (from jedi>=0.10->IPython->astetik->talos) (0.8.3)\n",
            "Requirement already satisfied: importlib-metadata>=4.4 in /usr/local/lib/python3.8/dist-packages (from markdown>=2.6.8->tensorboard<2.12,>=2.11->tensorflow>=2.0.0->talos) (6.0.0)\n",
            "Requirement already satisfied: wcwidth in /usr/local/lib/python3.8/dist-packages (from prompt-toolkit<2.1.0,>=2.0.0->IPython->astetik->talos) (0.2.6)\n",
            "Requirement already satisfied: MarkupSafe>=2.1.1 in /usr/local/lib/python3.8/dist-packages (from werkzeug>=1.0.1->tensorboard<2.12,>=2.11->tensorflow>=2.0.0->talos) (2.1.2)\n",
            "Requirement already satisfied: ptyprocess>=0.5 in /usr/local/lib/python3.8/dist-packages (from pexpect->IPython->astetik->talos) (0.7.0)\n",
            "Requirement already satisfied: zipp>=0.5 in /usr/local/lib/python3.8/dist-packages (from importlib-metadata>=4.4->markdown>=2.6.8->tensorboard<2.12,>=2.11->tensorflow>=2.0.0->talos) (3.15.0)\n",
            "Requirement already satisfied: pyasn1<0.5.0,>=0.4.6 in /usr/local/lib/python3.8/dist-packages (from pyasn1-modules>=0.2.1->google-auth<3,>=1.6.3->tensorboard<2.12,>=2.11->tensorflow>=2.0.0->talos) (0.4.8)\n",
            "Requirement already satisfied: oauthlib>=3.0.0 in /usr/local/lib/python3.8/dist-packages (from requests-oauthlib>=0.7.0->google-auth-oauthlib<0.5,>=0.4.1->tensorboard<2.12,>=2.11->tensorflow>=2.0.0->talos) (3.2.2)\n",
            "Building wheels for collected packages: chances, sklearn\n",
            "  Building wheel for chances (setup.py) ... \u001b[?25l\u001b[?25hdone\n",
            "  Created wheel for chances: filename=chances-0.1.9-py3-none-any.whl size=41609 sha256=d1c0259d4254becd4956329330be888510aee3861bb5025b430075659e936f12\n",
            "  Stored in directory: /root/.cache/pip/wheels/bc/47/dc/208d4038848287f804b6ededf43632ba7dbea530fdb3a069e4\n",
            "  Building wheel for sklearn (setup.py) ... \u001b[?25l\u001b[?25hdone\n",
            "  Created wheel for sklearn: filename=sklearn-0.0.post1-py3-none-any.whl size=2344 sha256=69c9a9df5b60437b7fd158408fb7261f40c3181c07c90cfbfdc10a3fa2a81104\n",
            "  Stored in directory: /root/.cache/pip/wheels/14/25/f7/1cc0956978ae479e75140219088deb7a36f60459df242b1a72\n",
            "Successfully built chances sklearn\n",
            "Installing collected packages: sklearn, geonamescache, jedi, chances, kerasplotlib, wrangle, astetik, talos\n",
            "Successfully installed astetik-1.13 chances-0.1.9 geonamescache-1.5.0 jedi-0.18.2 kerasplotlib-1.0 sklearn-0.0.post1 talos-1.3 wrangle-0.7.2\n"
          ]
        }
      ]
    },
    {
      "cell_type": "code",
      "source": [
        "# set the parameter space boundary\n",
        "p = { #'activation':['relu', 'elu'],\n",
        "     'optimizer': ['Nadam', 'Adam'], # ,\"AdamW\" - had an error \n",
        "     'losses': ['categorical_crossentropy'],\n",
        "    #  'lr': (0.1, 0,001, ),\n",
        "    #  'shapes': ['brick'],\n",
        "     'regularizer' : [ regularizers.l2(0.001), 'l1_l2' , None],\n",
        "     'first_neuron': [16, 32, 64, 128],\n",
        "     'second_neuron': [16, 32, 64, 128],\n",
        "     'third_neuron': [16, 32, 64, 128],\n",
        "     'fourth_neuron': [16, 32, 64, 128],\n",
        "     'fifth_neuron': [16, 32, 64, 128],\n",
        "     'sixth_neuron': [16, 32, 64, 128],\n",
        "    #  'hidden_layers':[0, 1, 2, 3],\n",
        "    #  'dropout': [.2, .3, .4],\n",
        "     'batch_size': [16, 32],\n",
        "     'epochs': [10 ]}\n",
        "\n",
        "\n",
        "def build_tuned_model(x_train, y_train, x_val, y_val, params): # which inputs should we have?\n",
        "  model = Sequential()\n",
        "  model.add(layers.Conv2D(params['first_neuron'], (3,3), activation='relu', input_shape = (156,156,3), padding=\"same\",kernel_regularizer=params['regularizer']))\n",
        "  model.add(layers.Conv2D(params['second_neuron'], (3,3), activation='relu', padding=\"same\",kernel_regularizer=params['regularizer']))\n",
        "  model.add(layers.MaxPooling2D(pool_size=(2, 2), padding=\"same\"))\n",
        "  model.add(layers.Conv2D(params['third_neuron'], (3,3), activation='relu', padding=\"same\",kernel_regularizer=params['regularizer']))\n",
        "  model.add(layers.Conv2D(params['fourth_neuron'], (3,3), activation='relu', padding=\"same\",kernel_regularizer=params['regularizer']))\n",
        "  model.add(layers.MaxPooling2D(pool_size=(2, 2), padding=\"same\"))\n",
        "  model.add(layers.Flatten())\n",
        "  model.add(layers.Dense(params['fifth_neuron'], activation=\"relu\",kernel_regularizer=params['regularizer']))\n",
        "  model.add(layers.Dense(params['sixth_neuron'], activation=\"relu\",kernel_regularizer=params['regularizer']))\n",
        "  model.add(layers.Dense(4, activation=\"softmax\"))\n",
        "\n",
        "  model.compile(optimizer= params['optimizer'], #(lr=lr_normalizer(params['lr'], params['optimizer'])), \n",
        "                         loss=params['losses'],\n",
        "                         metrics=['accuracy',talos.utils.metrics.f1score, talos.utils.metrics.precision, talos.utils.metrics.recall ]\n",
        "                         )\n",
        "  out = model.fit(x_train, y_train, callbacks=[talos.callbacks.ExperimentLog('talos_tuner_2', params)],\n",
        "                  batch_size=params['batch_size'],\n",
        "                  epochs=params['epochs'],\n",
        "                  validation_data=[x_val, y_val],\n",
        "                  verbose=0\n",
        "                  # callbacks=[talos.utils.early_stopper(params['epochs'])]\n",
        "                  )\n",
        "  return out, model\n"
      ],
      "metadata": {
        "id": "oFa5OkfGi6EY"
      },
      "execution_count": null,
      "outputs": []
    },
    {
      "cell_type": "code",
      "source": [
        "# start the experiment\n",
        "scan_object = talos.Scan(x=X_train,\n",
        "                         y=y_train,\n",
        "                         x_val=X_val,\n",
        "                         y_val=y_val,\n",
        "                         model=build_tuned_model,\n",
        "                         experiment_name='talos_tuner_2',\n",
        "                         params=p,\n",
        "                         round_limit=30,\n",
        "                         seed = 42)"
      ],
      "metadata": {
        "id": "9q9LEQwbjZZc"
      },
      "execution_count": null,
      "outputs": []
    },
    {
      "cell_type": "code",
      "source": [
        "scan_object.data.to_csv(\"evaluation_data_talos.csv\")"
      ],
      "metadata": {
        "id": "c91jH8M5nqZu"
      },
      "execution_count": null,
      "outputs": []
    },
    {
      "cell_type": "code",
      "source": [
        "scan_object.evaluate_models(\n",
        "                        x_val=X_val,\n",
        "                        y_val=y_val,\n",
        "                        n_models=30,\n",
        "                        metric='val_accuracy',\n",
        "                        shuffle=True,\n",
        "                        asc=False,\n",
        "                        task ='multi_label'\n",
        "                         )"
      ],
      "metadata": {
        "id": "ZtLVvgeNjerK"
      },
      "execution_count": null,
      "outputs": []
    },
    {
      "cell_type": "code",
      "source": [
        "# get the name of the experiment log\n",
        "!ls -lhtr talos_tuner_2"
      ],
      "metadata": {
        "id": "Chej_lXzjkHz",
        "outputId": "78f2eb8f-c85b-430b-8ff0-efadf1872995",
        "colab": {
          "base_uri": "https://localhost:8080/"
        }
      },
      "execution_count": null,
      "outputs": [
        {
          "output_type": "stream",
          "name": "stdout",
          "text": [
            "total 4.0K\n",
            "-rw------- 1 root root 4.0K Mar  3 11:22 030323111151.csv\n",
            "-rw------- 1 root root    0 Mar  3 12:58 030323125804.csv\n"
          ]
        }
      ]
    },
    {
      "cell_type": "code",
      "source": [
        "from talos.utils.recover_best_model import recover_best_model\n",
        "\n",
        "results, models = recover_best_model(x_train=X_train,\n",
        "                                     y_train=y_train,\n",
        "                                     x_val=X_val,\n",
        "                                     y_val=y_val,\n",
        "                                     experiment_log='talos_tuner_2/030323111151.csv',\n",
        "                                     input_model=build_tuned_model,\n",
        "                                     n_models=30,\n",
        "                                     metric = \"val_accuracy\",\n",
        "                                    #  average = 'macro',\n",
        "                                     task = 'multi_label'\n",
        "                                     )"
      ],
      "metadata": {
        "id": "14NSxGCkjsgL",
        "outputId": "4e641884-886e-4eb4-b031-7ce60563e4c7",
        "colab": {
          "base_uri": "https://localhost:8080/"
        }
      },
      "execution_count": null,
      "outputs": [
        {
          "output_type": "stream",
          "name": "stdout",
          "text": [
            "8/8 [==============================] - 1s 15ms/step\n",
            "8/8 [==============================] - 0s 13ms/step\n",
            "8/8 [==============================] - 0s 13ms/step\n",
            "8/8 [==============================] - 0s 14ms/step\n",
            "8/8 [==============================] - 0s 13ms/step\n",
            "8/8 [==============================] - 0s 13ms/step\n",
            "8/8 [==============================] - 0s 14ms/step\n",
            "8/8 [==============================] - 0s 13ms/step\n",
            "8/8 [==============================] - 0s 14ms/step\n",
            "8/8 [==============================] - 0s 14ms/step\n",
            "8/8 [==============================] - 0s 11ms/step\n",
            "8/8 [==============================] - 0s 8ms/step\n",
            "8/8 [==============================] - 0s 8ms/step\n",
            "8/8 [==============================] - 0s 8ms/step\n",
            "8/8 [==============================] - 0s 9ms/step\n",
            "8/8 [==============================] - 0s 8ms/step\n",
            "8/8 [==============================] - 0s 9ms/step\n",
            "8/8 [==============================] - 0s 10ms/step\n",
            "8/8 [==============================] - 0s 10ms/step\n",
            "8/8 [==============================] - 0s 10ms/step\n"
          ]
        }
      ]
    },
    {
      "cell_type": "code",
      "source": [
        "results_tuning = pd.read_csv(\"talos_tuned_results.csv\")"
      ],
      "metadata": {
        "id": "fg-sqkBnmhvV"
      },
      "execution_count": 41,
      "outputs": []
    },
    {
      "cell_type": "code",
      "source": [
        "results_tuning"
      ],
      "metadata": {
        "id": "aw7c1sQ-okAI",
        "outputId": "ebea804a-ba9a-4bf1-fe73-f8e748eee2a4",
        "colab": {
          "base_uri": "https://localhost:8080/",
          "height": 1000
        }
      },
      "execution_count": 42,
      "outputs": [
        {
          "output_type": "execute_result",
          "data": {
            "text/plain": [
              "    Unnamed: 0            start              end   duration  round_epochs  \\\n",
              "0            0  03/03/23-161934  03/03/23-162002  28.650561            10   \n",
              "1            1  03/03/23-162003  03/03/23-162026  23.586361            10   \n",
              "2            2  03/03/23-162026  03/03/23-162056  29.975721            10   \n",
              "3            3  03/03/23-162057  03/03/23-162123  26.061237            10   \n",
              "4            4  03/03/23-162123  03/03/23-162152  29.212086            10   \n",
              "5            5  03/03/23-162152  03/03/23-162225  32.085407            10   \n",
              "6            6  03/03/23-162225  03/03/23-162302  36.728439            10   \n",
              "7            7  03/03/23-162302  03/03/23-162332  30.396732            10   \n",
              "8            8  03/03/23-162333  03/03/23-162359  26.071666            10   \n",
              "9            9  03/03/23-162359  03/03/23-162422  23.253738            10   \n",
              "10          10  03/03/23-162423  03/03/23-162451  28.692315            10   \n",
              "11          11  03/03/23-162452  03/03/23-162517  25.272392            10   \n",
              "12          12  03/03/23-162517  03/03/23-162543  25.572775            10   \n",
              "13          13  03/03/23-162543  03/03/23-162616  33.496026            10   \n",
              "14          14  03/03/23-162617  03/03/23-162652  34.769842            10   \n",
              "15          15  03/03/23-162652  03/03/23-162732  40.255251            10   \n",
              "16          16  03/03/23-162732  03/03/23-162757  24.540613            10   \n",
              "17          17  03/03/23-162757  03/03/23-162837  39.965600            10   \n",
              "18          18  03/03/23-162838  03/03/23-162901  23.742907            10   \n",
              "19          19  03/03/23-162902  03/03/23-162921  19.809364            10   \n",
              "20          20  03/03/23-162922  03/03/23-163009  46.841237            10   \n",
              "21          21  03/03/23-163009  03/03/23-163039  29.768172            10   \n",
              "22          22  03/03/23-163039  03/03/23-163102  23.053301            10   \n",
              "23          23  03/03/23-163102  03/03/23-163131  28.126589            10   \n",
              "24          24  03/03/23-163131  03/03/23-163201  30.133733            10   \n",
              "25          25  03/03/23-163201  03/03/23-163226  24.513580            10   \n",
              "26          26  03/03/23-163226  03/03/23-163304  37.649167            10   \n",
              "27          27  03/03/23-163304  03/03/23-163335  30.872736            10   \n",
              "28          28  03/03/23-163335  03/03/23-163409  34.234712            10   \n",
              "29          29  03/03/23-163410  03/03/23-163439  28.805514            10   \n",
              "\n",
              "        loss  accuracy   f1score  precision    recall  ...  \\\n",
              "0   4.925765  0.441406  0.000000   0.000000  0.000000  ...   \n",
              "1   0.454000  0.894531  0.894346   0.900712  0.888281  ...   \n",
              "2   0.470020  0.877344  0.876254   0.883591  0.869531  ...   \n",
              "3   0.051085  0.983854  0.983854   0.983854  0.983854  ...   \n",
              "4   0.166069  0.933333  0.933523   0.935876  0.931250  ...   \n",
              "5   1.818193  0.441406  0.000000   0.000000  0.000000  ...   \n",
              "6   2.626605  0.441406  0.000000   0.000000  0.000000  ...   \n",
              "7   1.894902  0.441406  0.000000   0.000000  0.000000  ...   \n",
              "8   0.176952  0.935677  0.934696   0.938009  0.931510  ...   \n",
              "9   0.378659  0.850521  0.846410   0.860491  0.833594  ...   \n",
              "10  0.080656  0.973437  0.973437   0.973437  0.973437  ...   \n",
              "11  0.482135  0.864323  0.864197   0.873232  0.855729  ...   \n",
              "12  0.056094  0.980208  0.980301   0.980955  0.979688  ...   \n",
              "13  0.374265  0.895052  0.895050   0.902107  0.888542  ...   \n",
              "14  3.958325  0.441406  0.000000   0.000000  0.000000  ...   \n",
              "15  6.934492  0.441406  0.000000   0.000000  0.000000  ...   \n",
              "16  0.495756  0.824479  0.824739   0.837100  0.813542  ...   \n",
              "17  0.110486  0.961198  0.961373   0.962689  0.960156  ...   \n",
              "18  0.055087  0.981771  0.981636   0.981771  0.981510  ...   \n",
              "19  0.323848  0.866667  0.867179   0.871518  0.863021  ...   \n",
              "20  2.131696  0.441406  0.000000   0.000000  0.000000  ...   \n",
              "21  1.516833  0.441406  0.000000   0.000000  0.000000  ...   \n",
              "22  8.272013  0.441406  0.000000   0.000000  0.000000  ...   \n",
              "23  0.211475  0.911719  0.912036   0.915084  0.909115  ...   \n",
              "24  0.509745  0.815885  0.815302   0.833607  0.798958  ...   \n",
              "25  0.432286  0.894010  0.895019   0.900920  0.889583  ...   \n",
              "26  0.170404  0.931771  0.932959   0.936793  0.929427  ...   \n",
              "27  0.521402  0.838021  0.836908   0.851328  0.823438  ...   \n",
              "28  0.412932  0.918229  0.918523   0.922170  0.915104  ...   \n",
              "29  0.877231  0.648958  0.487689   0.717965  0.375260  ...   \n",
              "\n",
              "                      losses  \\\n",
              "0   categorical_crossentropy   \n",
              "1   categorical_crossentropy   \n",
              "2   categorical_crossentropy   \n",
              "3   categorical_crossentropy   \n",
              "4   categorical_crossentropy   \n",
              "5   categorical_crossentropy   \n",
              "6   categorical_crossentropy   \n",
              "7   categorical_crossentropy   \n",
              "8   categorical_crossentropy   \n",
              "9   categorical_crossentropy   \n",
              "10  categorical_crossentropy   \n",
              "11  categorical_crossentropy   \n",
              "12  categorical_crossentropy   \n",
              "13  categorical_crossentropy   \n",
              "14  categorical_crossentropy   \n",
              "15  categorical_crossentropy   \n",
              "16  categorical_crossentropy   \n",
              "17  categorical_crossentropy   \n",
              "18  categorical_crossentropy   \n",
              "19  categorical_crossentropy   \n",
              "20  categorical_crossentropy   \n",
              "21  categorical_crossentropy   \n",
              "22  categorical_crossentropy   \n",
              "23  categorical_crossentropy   \n",
              "24  categorical_crossentropy   \n",
              "25  categorical_crossentropy   \n",
              "26  categorical_crossentropy   \n",
              "27  categorical_crossentropy   \n",
              "28  categorical_crossentropy   \n",
              "29  categorical_crossentropy   \n",
              "\n",
              "                                         regularizer  first_neuron  \\\n",
              "0                                              l1_l2            64   \n",
              "1   <keras.regularizers.L2 object at 0x7f43b5922130>            16   \n",
              "2   <keras.regularizers.L2 object at 0x7f43b5922130>            16   \n",
              "3                                                NaN            64   \n",
              "4                                                NaN           128   \n",
              "5                                              l1_l2            64   \n",
              "6                                              l1_l2            16   \n",
              "7                                              l1_l2            32   \n",
              "8                                                NaN            32   \n",
              "9                                                NaN            32   \n",
              "10                                               NaN            32   \n",
              "11  <keras.regularizers.L2 object at 0x7f43b5922130>            32   \n",
              "12                                               NaN            16   \n",
              "13  <keras.regularizers.L2 object at 0x7f43b5922130>            64   \n",
              "14                                             l1_l2           128   \n",
              "15                                             l1_l2            16   \n",
              "16  <keras.regularizers.L2 object at 0x7f43b5922130>            64   \n",
              "17                                               NaN            64   \n",
              "18                                               NaN            16   \n",
              "19                                               NaN            16   \n",
              "20                                             l1_l2           128   \n",
              "21                                             l1_l2            64   \n",
              "22                                             l1_l2            32   \n",
              "23                                               NaN           128   \n",
              "24  <keras.regularizers.L2 object at 0x7f43b5922130>           128   \n",
              "25  <keras.regularizers.L2 object at 0x7f43b5922130>            16   \n",
              "26                                               NaN           128   \n",
              "27  <keras.regularizers.L2 object at 0x7f43b5922130>            64   \n",
              "28  <keras.regularizers.L2 object at 0x7f43b5922130>           128   \n",
              "29  <keras.regularizers.L2 object at 0x7f43b5922130>           128   \n",
              "\n",
              "    second_neuron  third_neuron fourth_neuron fifth_neuron sixth_neuron  \\\n",
              "0             128            64            32           64           32   \n",
              "1             128            32            16          128          128   \n",
              "2              64            32            64           64           16   \n",
              "3              16           128            64          128           32   \n",
              "4              16            16           128           32           64   \n",
              "5             128            64            16           16           16   \n",
              "6             128            64            32           32          128   \n",
              "7              32           128            16           32           64   \n",
              "8              64            32           128           16           64   \n",
              "9              32            64            16           32           16   \n",
              "10             64            16            32           32           16   \n",
              "11            128            32            32           64          128   \n",
              "12             16            16            32           32           64   \n",
              "13             64           128            16           16           64   \n",
              "14             32            32            32           64           64   \n",
              "15            128           128           128           32           32   \n",
              "16             16            64            16           16          128   \n",
              "17            128           128            64           64           32   \n",
              "18             32            16            16          128           32   \n",
              "19             64            32            32           16           16   \n",
              "20            128           128            32           16           32   \n",
              "21             16            64            16           16           64   \n",
              "22             64            64            64           64          128   \n",
              "23             16           128            64          128           64   \n",
              "24             32            64            16           16           16   \n",
              "25             16            32            16           32           64   \n",
              "26             32           128            64           32           16   \n",
              "27             64           128           128           32          128   \n",
              "28             32            16            32          128           64   \n",
              "29             32           128            32          128           16   \n",
              "\n",
              "    batch_size  epochs  \n",
              "0           32      10  \n",
              "1           32      10  \n",
              "2           16      10  \n",
              "3           16      10  \n",
              "4           32      10  \n",
              "5           16      10  \n",
              "6           16      10  \n",
              "7           16      10  \n",
              "8           32      10  \n",
              "9           16      10  \n",
              "10          16      10  \n",
              "11          32      10  \n",
              "12          16      10  \n",
              "13          16      10  \n",
              "14          16      10  \n",
              "15          16      10  \n",
              "16          16      10  \n",
              "17          16      10  \n",
              "18          16      10  \n",
              "19          32      10  \n",
              "20          16      10  \n",
              "21          16      10  \n",
              "22          32      10  \n",
              "23          32      10  \n",
              "24          16      10  \n",
              "25          16      10  \n",
              "26          16      10  \n",
              "27          32      10  \n",
              "28          16      10  \n",
              "29          32      10  \n",
              "\n",
              "[30 rows x 26 columns]"
            ],
            "text/html": [
              "\n",
              "  <div id=\"df-2cdf34a0-bb51-40e6-81d5-9b2f7fafe911\">\n",
              "    <div class=\"colab-df-container\">\n",
              "      <div>\n",
              "<style scoped>\n",
              "    .dataframe tbody tr th:only-of-type {\n",
              "        vertical-align: middle;\n",
              "    }\n",
              "\n",
              "    .dataframe tbody tr th {\n",
              "        vertical-align: top;\n",
              "    }\n",
              "\n",
              "    .dataframe thead th {\n",
              "        text-align: right;\n",
              "    }\n",
              "</style>\n",
              "<table border=\"1\" class=\"dataframe\">\n",
              "  <thead>\n",
              "    <tr style=\"text-align: right;\">\n",
              "      <th></th>\n",
              "      <th>Unnamed: 0</th>\n",
              "      <th>start</th>\n",
              "      <th>end</th>\n",
              "      <th>duration</th>\n",
              "      <th>round_epochs</th>\n",
              "      <th>loss</th>\n",
              "      <th>accuracy</th>\n",
              "      <th>f1score</th>\n",
              "      <th>precision</th>\n",
              "      <th>recall</th>\n",
              "      <th>...</th>\n",
              "      <th>losses</th>\n",
              "      <th>regularizer</th>\n",
              "      <th>first_neuron</th>\n",
              "      <th>second_neuron</th>\n",
              "      <th>third_neuron</th>\n",
              "      <th>fourth_neuron</th>\n",
              "      <th>fifth_neuron</th>\n",
              "      <th>sixth_neuron</th>\n",
              "      <th>batch_size</th>\n",
              "      <th>epochs</th>\n",
              "    </tr>\n",
              "  </thead>\n",
              "  <tbody>\n",
              "    <tr>\n",
              "      <th>0</th>\n",
              "      <td>0</td>\n",
              "      <td>03/03/23-161934</td>\n",
              "      <td>03/03/23-162002</td>\n",
              "      <td>28.650561</td>\n",
              "      <td>10</td>\n",
              "      <td>4.925765</td>\n",
              "      <td>0.441406</td>\n",
              "      <td>0.000000</td>\n",
              "      <td>0.000000</td>\n",
              "      <td>0.000000</td>\n",
              "      <td>...</td>\n",
              "      <td>categorical_crossentropy</td>\n",
              "      <td>l1_l2</td>\n",
              "      <td>64</td>\n",
              "      <td>128</td>\n",
              "      <td>64</td>\n",
              "      <td>32</td>\n",
              "      <td>64</td>\n",
              "      <td>32</td>\n",
              "      <td>32</td>\n",
              "      <td>10</td>\n",
              "    </tr>\n",
              "    <tr>\n",
              "      <th>1</th>\n",
              "      <td>1</td>\n",
              "      <td>03/03/23-162003</td>\n",
              "      <td>03/03/23-162026</td>\n",
              "      <td>23.586361</td>\n",
              "      <td>10</td>\n",
              "      <td>0.454000</td>\n",
              "      <td>0.894531</td>\n",
              "      <td>0.894346</td>\n",
              "      <td>0.900712</td>\n",
              "      <td>0.888281</td>\n",
              "      <td>...</td>\n",
              "      <td>categorical_crossentropy</td>\n",
              "      <td>&lt;keras.regularizers.L2 object at 0x7f43b5922130&gt;</td>\n",
              "      <td>16</td>\n",
              "      <td>128</td>\n",
              "      <td>32</td>\n",
              "      <td>16</td>\n",
              "      <td>128</td>\n",
              "      <td>128</td>\n",
              "      <td>32</td>\n",
              "      <td>10</td>\n",
              "    </tr>\n",
              "    <tr>\n",
              "      <th>2</th>\n",
              "      <td>2</td>\n",
              "      <td>03/03/23-162026</td>\n",
              "      <td>03/03/23-162056</td>\n",
              "      <td>29.975721</td>\n",
              "      <td>10</td>\n",
              "      <td>0.470020</td>\n",
              "      <td>0.877344</td>\n",
              "      <td>0.876254</td>\n",
              "      <td>0.883591</td>\n",
              "      <td>0.869531</td>\n",
              "      <td>...</td>\n",
              "      <td>categorical_crossentropy</td>\n",
              "      <td>&lt;keras.regularizers.L2 object at 0x7f43b5922130&gt;</td>\n",
              "      <td>16</td>\n",
              "      <td>64</td>\n",
              "      <td>32</td>\n",
              "      <td>64</td>\n",
              "      <td>64</td>\n",
              "      <td>16</td>\n",
              "      <td>16</td>\n",
              "      <td>10</td>\n",
              "    </tr>\n",
              "    <tr>\n",
              "      <th>3</th>\n",
              "      <td>3</td>\n",
              "      <td>03/03/23-162057</td>\n",
              "      <td>03/03/23-162123</td>\n",
              "      <td>26.061237</td>\n",
              "      <td>10</td>\n",
              "      <td>0.051085</td>\n",
              "      <td>0.983854</td>\n",
              "      <td>0.983854</td>\n",
              "      <td>0.983854</td>\n",
              "      <td>0.983854</td>\n",
              "      <td>...</td>\n",
              "      <td>categorical_crossentropy</td>\n",
              "      <td>NaN</td>\n",
              "      <td>64</td>\n",
              "      <td>16</td>\n",
              "      <td>128</td>\n",
              "      <td>64</td>\n",
              "      <td>128</td>\n",
              "      <td>32</td>\n",
              "      <td>16</td>\n",
              "      <td>10</td>\n",
              "    </tr>\n",
              "    <tr>\n",
              "      <th>4</th>\n",
              "      <td>4</td>\n",
              "      <td>03/03/23-162123</td>\n",
              "      <td>03/03/23-162152</td>\n",
              "      <td>29.212086</td>\n",
              "      <td>10</td>\n",
              "      <td>0.166069</td>\n",
              "      <td>0.933333</td>\n",
              "      <td>0.933523</td>\n",
              "      <td>0.935876</td>\n",
              "      <td>0.931250</td>\n",
              "      <td>...</td>\n",
              "      <td>categorical_crossentropy</td>\n",
              "      <td>NaN</td>\n",
              "      <td>128</td>\n",
              "      <td>16</td>\n",
              "      <td>16</td>\n",
              "      <td>128</td>\n",
              "      <td>32</td>\n",
              "      <td>64</td>\n",
              "      <td>32</td>\n",
              "      <td>10</td>\n",
              "    </tr>\n",
              "    <tr>\n",
              "      <th>5</th>\n",
              "      <td>5</td>\n",
              "      <td>03/03/23-162152</td>\n",
              "      <td>03/03/23-162225</td>\n",
              "      <td>32.085407</td>\n",
              "      <td>10</td>\n",
              "      <td>1.818193</td>\n",
              "      <td>0.441406</td>\n",
              "      <td>0.000000</td>\n",
              "      <td>0.000000</td>\n",
              "      <td>0.000000</td>\n",
              "      <td>...</td>\n",
              "      <td>categorical_crossentropy</td>\n",
              "      <td>l1_l2</td>\n",
              "      <td>64</td>\n",
              "      <td>128</td>\n",
              "      <td>64</td>\n",
              "      <td>16</td>\n",
              "      <td>16</td>\n",
              "      <td>16</td>\n",
              "      <td>16</td>\n",
              "      <td>10</td>\n",
              "    </tr>\n",
              "    <tr>\n",
              "      <th>6</th>\n",
              "      <td>6</td>\n",
              "      <td>03/03/23-162225</td>\n",
              "      <td>03/03/23-162302</td>\n",
              "      <td>36.728439</td>\n",
              "      <td>10</td>\n",
              "      <td>2.626605</td>\n",
              "      <td>0.441406</td>\n",
              "      <td>0.000000</td>\n",
              "      <td>0.000000</td>\n",
              "      <td>0.000000</td>\n",
              "      <td>...</td>\n",
              "      <td>categorical_crossentropy</td>\n",
              "      <td>l1_l2</td>\n",
              "      <td>16</td>\n",
              "      <td>128</td>\n",
              "      <td>64</td>\n",
              "      <td>32</td>\n",
              "      <td>32</td>\n",
              "      <td>128</td>\n",
              "      <td>16</td>\n",
              "      <td>10</td>\n",
              "    </tr>\n",
              "    <tr>\n",
              "      <th>7</th>\n",
              "      <td>7</td>\n",
              "      <td>03/03/23-162302</td>\n",
              "      <td>03/03/23-162332</td>\n",
              "      <td>30.396732</td>\n",
              "      <td>10</td>\n",
              "      <td>1.894902</td>\n",
              "      <td>0.441406</td>\n",
              "      <td>0.000000</td>\n",
              "      <td>0.000000</td>\n",
              "      <td>0.000000</td>\n",
              "      <td>...</td>\n",
              "      <td>categorical_crossentropy</td>\n",
              "      <td>l1_l2</td>\n",
              "      <td>32</td>\n",
              "      <td>32</td>\n",
              "      <td>128</td>\n",
              "      <td>16</td>\n",
              "      <td>32</td>\n",
              "      <td>64</td>\n",
              "      <td>16</td>\n",
              "      <td>10</td>\n",
              "    </tr>\n",
              "    <tr>\n",
              "      <th>8</th>\n",
              "      <td>8</td>\n",
              "      <td>03/03/23-162333</td>\n",
              "      <td>03/03/23-162359</td>\n",
              "      <td>26.071666</td>\n",
              "      <td>10</td>\n",
              "      <td>0.176952</td>\n",
              "      <td>0.935677</td>\n",
              "      <td>0.934696</td>\n",
              "      <td>0.938009</td>\n",
              "      <td>0.931510</td>\n",
              "      <td>...</td>\n",
              "      <td>categorical_crossentropy</td>\n",
              "      <td>NaN</td>\n",
              "      <td>32</td>\n",
              "      <td>64</td>\n",
              "      <td>32</td>\n",
              "      <td>128</td>\n",
              "      <td>16</td>\n",
              "      <td>64</td>\n",
              "      <td>32</td>\n",
              "      <td>10</td>\n",
              "    </tr>\n",
              "    <tr>\n",
              "      <th>9</th>\n",
              "      <td>9</td>\n",
              "      <td>03/03/23-162359</td>\n",
              "      <td>03/03/23-162422</td>\n",
              "      <td>23.253738</td>\n",
              "      <td>10</td>\n",
              "      <td>0.378659</td>\n",
              "      <td>0.850521</td>\n",
              "      <td>0.846410</td>\n",
              "      <td>0.860491</td>\n",
              "      <td>0.833594</td>\n",
              "      <td>...</td>\n",
              "      <td>categorical_crossentropy</td>\n",
              "      <td>NaN</td>\n",
              "      <td>32</td>\n",
              "      <td>32</td>\n",
              "      <td>64</td>\n",
              "      <td>16</td>\n",
              "      <td>32</td>\n",
              "      <td>16</td>\n",
              "      <td>16</td>\n",
              "      <td>10</td>\n",
              "    </tr>\n",
              "    <tr>\n",
              "      <th>10</th>\n",
              "      <td>10</td>\n",
              "      <td>03/03/23-162423</td>\n",
              "      <td>03/03/23-162451</td>\n",
              "      <td>28.692315</td>\n",
              "      <td>10</td>\n",
              "      <td>0.080656</td>\n",
              "      <td>0.973437</td>\n",
              "      <td>0.973437</td>\n",
              "      <td>0.973437</td>\n",
              "      <td>0.973437</td>\n",
              "      <td>...</td>\n",
              "      <td>categorical_crossentropy</td>\n",
              "      <td>NaN</td>\n",
              "      <td>32</td>\n",
              "      <td>64</td>\n",
              "      <td>16</td>\n",
              "      <td>32</td>\n",
              "      <td>32</td>\n",
              "      <td>16</td>\n",
              "      <td>16</td>\n",
              "      <td>10</td>\n",
              "    </tr>\n",
              "    <tr>\n",
              "      <th>11</th>\n",
              "      <td>11</td>\n",
              "      <td>03/03/23-162452</td>\n",
              "      <td>03/03/23-162517</td>\n",
              "      <td>25.272392</td>\n",
              "      <td>10</td>\n",
              "      <td>0.482135</td>\n",
              "      <td>0.864323</td>\n",
              "      <td>0.864197</td>\n",
              "      <td>0.873232</td>\n",
              "      <td>0.855729</td>\n",
              "      <td>...</td>\n",
              "      <td>categorical_crossentropy</td>\n",
              "      <td>&lt;keras.regularizers.L2 object at 0x7f43b5922130&gt;</td>\n",
              "      <td>32</td>\n",
              "      <td>128</td>\n",
              "      <td>32</td>\n",
              "      <td>32</td>\n",
              "      <td>64</td>\n",
              "      <td>128</td>\n",
              "      <td>32</td>\n",
              "      <td>10</td>\n",
              "    </tr>\n",
              "    <tr>\n",
              "      <th>12</th>\n",
              "      <td>12</td>\n",
              "      <td>03/03/23-162517</td>\n",
              "      <td>03/03/23-162543</td>\n",
              "      <td>25.572775</td>\n",
              "      <td>10</td>\n",
              "      <td>0.056094</td>\n",
              "      <td>0.980208</td>\n",
              "      <td>0.980301</td>\n",
              "      <td>0.980955</td>\n",
              "      <td>0.979688</td>\n",
              "      <td>...</td>\n",
              "      <td>categorical_crossentropy</td>\n",
              "      <td>NaN</td>\n",
              "      <td>16</td>\n",
              "      <td>16</td>\n",
              "      <td>16</td>\n",
              "      <td>32</td>\n",
              "      <td>32</td>\n",
              "      <td>64</td>\n",
              "      <td>16</td>\n",
              "      <td>10</td>\n",
              "    </tr>\n",
              "    <tr>\n",
              "      <th>13</th>\n",
              "      <td>13</td>\n",
              "      <td>03/03/23-162543</td>\n",
              "      <td>03/03/23-162616</td>\n",
              "      <td>33.496026</td>\n",
              "      <td>10</td>\n",
              "      <td>0.374265</td>\n",
              "      <td>0.895052</td>\n",
              "      <td>0.895050</td>\n",
              "      <td>0.902107</td>\n",
              "      <td>0.888542</td>\n",
              "      <td>...</td>\n",
              "      <td>categorical_crossentropy</td>\n",
              "      <td>&lt;keras.regularizers.L2 object at 0x7f43b5922130&gt;</td>\n",
              "      <td>64</td>\n",
              "      <td>64</td>\n",
              "      <td>128</td>\n",
              "      <td>16</td>\n",
              "      <td>16</td>\n",
              "      <td>64</td>\n",
              "      <td>16</td>\n",
              "      <td>10</td>\n",
              "    </tr>\n",
              "    <tr>\n",
              "      <th>14</th>\n",
              "      <td>14</td>\n",
              "      <td>03/03/23-162617</td>\n",
              "      <td>03/03/23-162652</td>\n",
              "      <td>34.769842</td>\n",
              "      <td>10</td>\n",
              "      <td>3.958325</td>\n",
              "      <td>0.441406</td>\n",
              "      <td>0.000000</td>\n",
              "      <td>0.000000</td>\n",
              "      <td>0.000000</td>\n",
              "      <td>...</td>\n",
              "      <td>categorical_crossentropy</td>\n",
              "      <td>l1_l2</td>\n",
              "      <td>128</td>\n",
              "      <td>32</td>\n",
              "      <td>32</td>\n",
              "      <td>32</td>\n",
              "      <td>64</td>\n",
              "      <td>64</td>\n",
              "      <td>16</td>\n",
              "      <td>10</td>\n",
              "    </tr>\n",
              "    <tr>\n",
              "      <th>15</th>\n",
              "      <td>15</td>\n",
              "      <td>03/03/23-162652</td>\n",
              "      <td>03/03/23-162732</td>\n",
              "      <td>40.255251</td>\n",
              "      <td>10</td>\n",
              "      <td>6.934492</td>\n",
              "      <td>0.441406</td>\n",
              "      <td>0.000000</td>\n",
              "      <td>0.000000</td>\n",
              "      <td>0.000000</td>\n",
              "      <td>...</td>\n",
              "      <td>categorical_crossentropy</td>\n",
              "      <td>l1_l2</td>\n",
              "      <td>16</td>\n",
              "      <td>128</td>\n",
              "      <td>128</td>\n",
              "      <td>128</td>\n",
              "      <td>32</td>\n",
              "      <td>32</td>\n",
              "      <td>16</td>\n",
              "      <td>10</td>\n",
              "    </tr>\n",
              "    <tr>\n",
              "      <th>16</th>\n",
              "      <td>16</td>\n",
              "      <td>03/03/23-162732</td>\n",
              "      <td>03/03/23-162757</td>\n",
              "      <td>24.540613</td>\n",
              "      <td>10</td>\n",
              "      <td>0.495756</td>\n",
              "      <td>0.824479</td>\n",
              "      <td>0.824739</td>\n",
              "      <td>0.837100</td>\n",
              "      <td>0.813542</td>\n",
              "      <td>...</td>\n",
              "      <td>categorical_crossentropy</td>\n",
              "      <td>&lt;keras.regularizers.L2 object at 0x7f43b5922130&gt;</td>\n",
              "      <td>64</td>\n",
              "      <td>16</td>\n",
              "      <td>64</td>\n",
              "      <td>16</td>\n",
              "      <td>16</td>\n",
              "      <td>128</td>\n",
              "      <td>16</td>\n",
              "      <td>10</td>\n",
              "    </tr>\n",
              "    <tr>\n",
              "      <th>17</th>\n",
              "      <td>17</td>\n",
              "      <td>03/03/23-162757</td>\n",
              "      <td>03/03/23-162837</td>\n",
              "      <td>39.965600</td>\n",
              "      <td>10</td>\n",
              "      <td>0.110486</td>\n",
              "      <td>0.961198</td>\n",
              "      <td>0.961373</td>\n",
              "      <td>0.962689</td>\n",
              "      <td>0.960156</td>\n",
              "      <td>...</td>\n",
              "      <td>categorical_crossentropy</td>\n",
              "      <td>NaN</td>\n",
              "      <td>64</td>\n",
              "      <td>128</td>\n",
              "      <td>128</td>\n",
              "      <td>64</td>\n",
              "      <td>64</td>\n",
              "      <td>32</td>\n",
              "      <td>16</td>\n",
              "      <td>10</td>\n",
              "    </tr>\n",
              "    <tr>\n",
              "      <th>18</th>\n",
              "      <td>18</td>\n",
              "      <td>03/03/23-162838</td>\n",
              "      <td>03/03/23-162901</td>\n",
              "      <td>23.742907</td>\n",
              "      <td>10</td>\n",
              "      <td>0.055087</td>\n",
              "      <td>0.981771</td>\n",
              "      <td>0.981636</td>\n",
              "      <td>0.981771</td>\n",
              "      <td>0.981510</td>\n",
              "      <td>...</td>\n",
              "      <td>categorical_crossentropy</td>\n",
              "      <td>NaN</td>\n",
              "      <td>16</td>\n",
              "      <td>32</td>\n",
              "      <td>16</td>\n",
              "      <td>16</td>\n",
              "      <td>128</td>\n",
              "      <td>32</td>\n",
              "      <td>16</td>\n",
              "      <td>10</td>\n",
              "    </tr>\n",
              "    <tr>\n",
              "      <th>19</th>\n",
              "      <td>19</td>\n",
              "      <td>03/03/23-162902</td>\n",
              "      <td>03/03/23-162921</td>\n",
              "      <td>19.809364</td>\n",
              "      <td>10</td>\n",
              "      <td>0.323848</td>\n",
              "      <td>0.866667</td>\n",
              "      <td>0.867179</td>\n",
              "      <td>0.871518</td>\n",
              "      <td>0.863021</td>\n",
              "      <td>...</td>\n",
              "      <td>categorical_crossentropy</td>\n",
              "      <td>NaN</td>\n",
              "      <td>16</td>\n",
              "      <td>64</td>\n",
              "      <td>32</td>\n",
              "      <td>32</td>\n",
              "      <td>16</td>\n",
              "      <td>16</td>\n",
              "      <td>32</td>\n",
              "      <td>10</td>\n",
              "    </tr>\n",
              "    <tr>\n",
              "      <th>20</th>\n",
              "      <td>20</td>\n",
              "      <td>03/03/23-162922</td>\n",
              "      <td>03/03/23-163009</td>\n",
              "      <td>46.841237</td>\n",
              "      <td>10</td>\n",
              "      <td>2.131696</td>\n",
              "      <td>0.441406</td>\n",
              "      <td>0.000000</td>\n",
              "      <td>0.000000</td>\n",
              "      <td>0.000000</td>\n",
              "      <td>...</td>\n",
              "      <td>categorical_crossentropy</td>\n",
              "      <td>l1_l2</td>\n",
              "      <td>128</td>\n",
              "      <td>128</td>\n",
              "      <td>128</td>\n",
              "      <td>32</td>\n",
              "      <td>16</td>\n",
              "      <td>32</td>\n",
              "      <td>16</td>\n",
              "      <td>10</td>\n",
              "    </tr>\n",
              "    <tr>\n",
              "      <th>21</th>\n",
              "      <td>21</td>\n",
              "      <td>03/03/23-163009</td>\n",
              "      <td>03/03/23-163039</td>\n",
              "      <td>29.768172</td>\n",
              "      <td>10</td>\n",
              "      <td>1.516833</td>\n",
              "      <td>0.441406</td>\n",
              "      <td>0.000000</td>\n",
              "      <td>0.000000</td>\n",
              "      <td>0.000000</td>\n",
              "      <td>...</td>\n",
              "      <td>categorical_crossentropy</td>\n",
              "      <td>l1_l2</td>\n",
              "      <td>64</td>\n",
              "      <td>16</td>\n",
              "      <td>64</td>\n",
              "      <td>16</td>\n",
              "      <td>16</td>\n",
              "      <td>64</td>\n",
              "      <td>16</td>\n",
              "      <td>10</td>\n",
              "    </tr>\n",
              "    <tr>\n",
              "      <th>22</th>\n",
              "      <td>22</td>\n",
              "      <td>03/03/23-163039</td>\n",
              "      <td>03/03/23-163102</td>\n",
              "      <td>23.053301</td>\n",
              "      <td>10</td>\n",
              "      <td>8.272013</td>\n",
              "      <td>0.441406</td>\n",
              "      <td>0.000000</td>\n",
              "      <td>0.000000</td>\n",
              "      <td>0.000000</td>\n",
              "      <td>...</td>\n",
              "      <td>categorical_crossentropy</td>\n",
              "      <td>l1_l2</td>\n",
              "      <td>32</td>\n",
              "      <td>64</td>\n",
              "      <td>64</td>\n",
              "      <td>64</td>\n",
              "      <td>64</td>\n",
              "      <td>128</td>\n",
              "      <td>32</td>\n",
              "      <td>10</td>\n",
              "    </tr>\n",
              "    <tr>\n",
              "      <th>23</th>\n",
              "      <td>23</td>\n",
              "      <td>03/03/23-163102</td>\n",
              "      <td>03/03/23-163131</td>\n",
              "      <td>28.126589</td>\n",
              "      <td>10</td>\n",
              "      <td>0.211475</td>\n",
              "      <td>0.911719</td>\n",
              "      <td>0.912036</td>\n",
              "      <td>0.915084</td>\n",
              "      <td>0.909115</td>\n",
              "      <td>...</td>\n",
              "      <td>categorical_crossentropy</td>\n",
              "      <td>NaN</td>\n",
              "      <td>128</td>\n",
              "      <td>16</td>\n",
              "      <td>128</td>\n",
              "      <td>64</td>\n",
              "      <td>128</td>\n",
              "      <td>64</td>\n",
              "      <td>32</td>\n",
              "      <td>10</td>\n",
              "    </tr>\n",
              "    <tr>\n",
              "      <th>24</th>\n",
              "      <td>24</td>\n",
              "      <td>03/03/23-163131</td>\n",
              "      <td>03/03/23-163201</td>\n",
              "      <td>30.133733</td>\n",
              "      <td>10</td>\n",
              "      <td>0.509745</td>\n",
              "      <td>0.815885</td>\n",
              "      <td>0.815302</td>\n",
              "      <td>0.833607</td>\n",
              "      <td>0.798958</td>\n",
              "      <td>...</td>\n",
              "      <td>categorical_crossentropy</td>\n",
              "      <td>&lt;keras.regularizers.L2 object at 0x7f43b5922130&gt;</td>\n",
              "      <td>128</td>\n",
              "      <td>32</td>\n",
              "      <td>64</td>\n",
              "      <td>16</td>\n",
              "      <td>16</td>\n",
              "      <td>16</td>\n",
              "      <td>16</td>\n",
              "      <td>10</td>\n",
              "    </tr>\n",
              "    <tr>\n",
              "      <th>25</th>\n",
              "      <td>25</td>\n",
              "      <td>03/03/23-163201</td>\n",
              "      <td>03/03/23-163226</td>\n",
              "      <td>24.513580</td>\n",
              "      <td>10</td>\n",
              "      <td>0.432286</td>\n",
              "      <td>0.894010</td>\n",
              "      <td>0.895019</td>\n",
              "      <td>0.900920</td>\n",
              "      <td>0.889583</td>\n",
              "      <td>...</td>\n",
              "      <td>categorical_crossentropy</td>\n",
              "      <td>&lt;keras.regularizers.L2 object at 0x7f43b5922130&gt;</td>\n",
              "      <td>16</td>\n",
              "      <td>16</td>\n",
              "      <td>32</td>\n",
              "      <td>16</td>\n",
              "      <td>32</td>\n",
              "      <td>64</td>\n",
              "      <td>16</td>\n",
              "      <td>10</td>\n",
              "    </tr>\n",
              "    <tr>\n",
              "      <th>26</th>\n",
              "      <td>26</td>\n",
              "      <td>03/03/23-163226</td>\n",
              "      <td>03/03/23-163304</td>\n",
              "      <td>37.649167</td>\n",
              "      <td>10</td>\n",
              "      <td>0.170404</td>\n",
              "      <td>0.931771</td>\n",
              "      <td>0.932959</td>\n",
              "      <td>0.936793</td>\n",
              "      <td>0.929427</td>\n",
              "      <td>...</td>\n",
              "      <td>categorical_crossentropy</td>\n",
              "      <td>NaN</td>\n",
              "      <td>128</td>\n",
              "      <td>32</td>\n",
              "      <td>128</td>\n",
              "      <td>64</td>\n",
              "      <td>32</td>\n",
              "      <td>16</td>\n",
              "      <td>16</td>\n",
              "      <td>10</td>\n",
              "    </tr>\n",
              "    <tr>\n",
              "      <th>27</th>\n",
              "      <td>27</td>\n",
              "      <td>03/03/23-163304</td>\n",
              "      <td>03/03/23-163335</td>\n",
              "      <td>30.872736</td>\n",
              "      <td>10</td>\n",
              "      <td>0.521402</td>\n",
              "      <td>0.838021</td>\n",
              "      <td>0.836908</td>\n",
              "      <td>0.851328</td>\n",
              "      <td>0.823438</td>\n",
              "      <td>...</td>\n",
              "      <td>categorical_crossentropy</td>\n",
              "      <td>&lt;keras.regularizers.L2 object at 0x7f43b5922130&gt;</td>\n",
              "      <td>64</td>\n",
              "      <td>64</td>\n",
              "      <td>128</td>\n",
              "      <td>128</td>\n",
              "      <td>32</td>\n",
              "      <td>128</td>\n",
              "      <td>32</td>\n",
              "      <td>10</td>\n",
              "    </tr>\n",
              "    <tr>\n",
              "      <th>28</th>\n",
              "      <td>28</td>\n",
              "      <td>03/03/23-163335</td>\n",
              "      <td>03/03/23-163409</td>\n",
              "      <td>34.234712</td>\n",
              "      <td>10</td>\n",
              "      <td>0.412932</td>\n",
              "      <td>0.918229</td>\n",
              "      <td>0.918523</td>\n",
              "      <td>0.922170</td>\n",
              "      <td>0.915104</td>\n",
              "      <td>...</td>\n",
              "      <td>categorical_crossentropy</td>\n",
              "      <td>&lt;keras.regularizers.L2 object at 0x7f43b5922130&gt;</td>\n",
              "      <td>128</td>\n",
              "      <td>32</td>\n",
              "      <td>16</td>\n",
              "      <td>32</td>\n",
              "      <td>128</td>\n",
              "      <td>64</td>\n",
              "      <td>16</td>\n",
              "      <td>10</td>\n",
              "    </tr>\n",
              "    <tr>\n",
              "      <th>29</th>\n",
              "      <td>29</td>\n",
              "      <td>03/03/23-163410</td>\n",
              "      <td>03/03/23-163439</td>\n",
              "      <td>28.805514</td>\n",
              "      <td>10</td>\n",
              "      <td>0.877231</td>\n",
              "      <td>0.648958</td>\n",
              "      <td>0.487689</td>\n",
              "      <td>0.717965</td>\n",
              "      <td>0.375260</td>\n",
              "      <td>...</td>\n",
              "      <td>categorical_crossentropy</td>\n",
              "      <td>&lt;keras.regularizers.L2 object at 0x7f43b5922130&gt;</td>\n",
              "      <td>128</td>\n",
              "      <td>32</td>\n",
              "      <td>128</td>\n",
              "      <td>32</td>\n",
              "      <td>128</td>\n",
              "      <td>16</td>\n",
              "      <td>32</td>\n",
              "      <td>10</td>\n",
              "    </tr>\n",
              "  </tbody>\n",
              "</table>\n",
              "<p>30 rows × 26 columns</p>\n",
              "</div>\n",
              "      <button class=\"colab-df-convert\" onclick=\"convertToInteractive('df-2cdf34a0-bb51-40e6-81d5-9b2f7fafe911')\"\n",
              "              title=\"Convert this dataframe to an interactive table.\"\n",
              "              style=\"display:none;\">\n",
              "        \n",
              "  <svg xmlns=\"http://www.w3.org/2000/svg\" height=\"24px\"viewBox=\"0 0 24 24\"\n",
              "       width=\"24px\">\n",
              "    <path d=\"M0 0h24v24H0V0z\" fill=\"none\"/>\n",
              "    <path d=\"M18.56 5.44l.94 2.06.94-2.06 2.06-.94-2.06-.94-.94-2.06-.94 2.06-2.06.94zm-11 1L8.5 8.5l.94-2.06 2.06-.94-2.06-.94L8.5 2.5l-.94 2.06-2.06.94zm10 10l.94 2.06.94-2.06 2.06-.94-2.06-.94-.94-2.06-.94 2.06-2.06.94z\"/><path d=\"M17.41 7.96l-1.37-1.37c-.4-.4-.92-.59-1.43-.59-.52 0-1.04.2-1.43.59L10.3 9.45l-7.72 7.72c-.78.78-.78 2.05 0 2.83L4 21.41c.39.39.9.59 1.41.59.51 0 1.02-.2 1.41-.59l7.78-7.78 2.81-2.81c.8-.78.8-2.07 0-2.86zM5.41 20L4 18.59l7.72-7.72 1.47 1.35L5.41 20z\"/>\n",
              "  </svg>\n",
              "      </button>\n",
              "      \n",
              "  <style>\n",
              "    .colab-df-container {\n",
              "      display:flex;\n",
              "      flex-wrap:wrap;\n",
              "      gap: 12px;\n",
              "    }\n",
              "\n",
              "    .colab-df-convert {\n",
              "      background-color: #E8F0FE;\n",
              "      border: none;\n",
              "      border-radius: 50%;\n",
              "      cursor: pointer;\n",
              "      display: none;\n",
              "      fill: #1967D2;\n",
              "      height: 32px;\n",
              "      padding: 0 0 0 0;\n",
              "      width: 32px;\n",
              "    }\n",
              "\n",
              "    .colab-df-convert:hover {\n",
              "      background-color: #E2EBFA;\n",
              "      box-shadow: 0px 1px 2px rgba(60, 64, 67, 0.3), 0px 1px 3px 1px rgba(60, 64, 67, 0.15);\n",
              "      fill: #174EA6;\n",
              "    }\n",
              "\n",
              "    [theme=dark] .colab-df-convert {\n",
              "      background-color: #3B4455;\n",
              "      fill: #D2E3FC;\n",
              "    }\n",
              "\n",
              "    [theme=dark] .colab-df-convert:hover {\n",
              "      background-color: #434B5C;\n",
              "      box-shadow: 0px 1px 3px 1px rgba(0, 0, 0, 0.15);\n",
              "      filter: drop-shadow(0px 1px 2px rgba(0, 0, 0, 0.3));\n",
              "      fill: #FFFFFF;\n",
              "    }\n",
              "  </style>\n",
              "\n",
              "      <script>\n",
              "        const buttonEl =\n",
              "          document.querySelector('#df-2cdf34a0-bb51-40e6-81d5-9b2f7fafe911 button.colab-df-convert');\n",
              "        buttonEl.style.display =\n",
              "          google.colab.kernel.accessAllowed ? 'block' : 'none';\n",
              "\n",
              "        async function convertToInteractive(key) {\n",
              "          const element = document.querySelector('#df-2cdf34a0-bb51-40e6-81d5-9b2f7fafe911');\n",
              "          const dataTable =\n",
              "            await google.colab.kernel.invokeFunction('convertToInteractive',\n",
              "                                                     [key], {});\n",
              "          if (!dataTable) return;\n",
              "\n",
              "          const docLinkHtml = 'Like what you see? Visit the ' +\n",
              "            '<a target=\"_blank\" href=https://colab.research.google.com/notebooks/data_table.ipynb>data table notebook</a>'\n",
              "            + ' to learn more about interactive tables.';\n",
              "          element.innerHTML = '';\n",
              "          dataTable['output_type'] = 'display_data';\n",
              "          await google.colab.output.renderOutput(dataTable, element);\n",
              "          const docLink = document.createElement('div');\n",
              "          docLink.innerHTML = docLinkHtml;\n",
              "          element.appendChild(docLink);\n",
              "        }\n",
              "      </script>\n",
              "    </div>\n",
              "  </div>\n",
              "  "
            ]
          },
          "metadata": {},
          "execution_count": 42
        }
      ]
    },
    {
      "cell_type": "code",
      "source": [],
      "metadata": {
        "id": "YW-eBb0aE6kP"
      },
      "execution_count": null,
      "outputs": []
    },
    {
      "cell_type": "code",
      "source": [
        "from tensorflow.keras import models\n",
        "from tensorflow.keras import layers\n",
        "from tensorflow.keras.optimizers import Adam\n",
        "from tensorflow.keras import regularizers\n",
        "\n",
        "def build_tuned_model(optimizer, units1, units2 , units3,units4,units5,units6): # which inputs should we have?\n",
        "  model = models.Sequential()\n",
        "  model.add(layers.Conv2D(units1, (3,3), activation='relu', input_shape = (156,156,3), padding=\"same\",kernel_regularizer=regularizers.l2(0.001)))\n",
        "  model.add(layers.Conv2D(units2, (3,3), activation='relu', padding=\"same\", kernel_regularizer=regularizers.l2(0.001)))\n",
        "  model.add(layers.MaxPooling2D(pool_size=(2, 2), padding=\"same\"))\n",
        "  \n",
        "  model.add(layers.Conv2D(units3, (3,3), activation='relu', padding=\"same\", kernel_regularizer=regularizers.l2(0.001)))\n",
        "  model.add(layers.Conv2D(units4, (3,3), activation='relu', padding=\"same\", kernel_regularizer=regularizers.l2(0.001)))\n",
        "  model.add(layers.MaxPooling2D(pool_size=(2, 2), padding=\"same\"))\n",
        "\n",
        "  model.add(layers.Flatten())\n",
        "\n",
        "  model.add(layers.Dense(units5, activation=\"relu\", kernel_regularizer=regularizers.l2(0.001)))\n",
        "  model.add(layers.Dense(units6, activation=\"relu\", kernel_regularizer=regularizers.l2(0.001)))\n",
        "\n",
        "  model.add(layers.Dense(4, activation=\"softmax\"))\n",
        "\n",
        "  model.compile(optimizer= optimizer, \n",
        "                         loss=\"categorical_crossentropy\",\n",
        "                         metrics=['accuracy']\n",
        "                         )\n",
        "  return model"
      ],
      "metadata": {
        "id": "J_L8S4F3plBa"
      },
      "execution_count": 52,
      "outputs": []
    },
    {
      "cell_type": "code",
      "source": [
        "tuned_model = build_tuned_model(optimizer = \"nadam\",units1 = 64, units2 = 64 , units3 = 128, units4= 128, units5 =32, units6 = 128)"
      ],
      "metadata": {
        "id": "mXdx1CFaq7F6"
      },
      "execution_count": 53,
      "outputs": []
    },
    {
      "cell_type": "code",
      "source": [
        "from tensorflow.keras.utils import set_random_seed\n",
        "set_random_seed(42)\n",
        "tuned_hist = tuned_model.fit(\n",
        "    X_train,\n",
        "    y_train,\n",
        "    batch_size=32,\n",
        "    epochs=10,\n",
        "    validation_data=(X_val, y_val), \n",
        "    verbose=1\n",
        ")\n",
        "history_dict_tuned = tuned_hist.history\n",
        "history_dict_tuned.keys()"
      ],
      "metadata": {
        "id": "a2nld3FirZdH",
        "outputId": "72a83389-7d8e-4989-8fef-ad30bd931436",
        "colab": {
          "base_uri": "https://localhost:8080/"
        }
      },
      "execution_count": 54,
      "outputs": [
        {
          "output_type": "stream",
          "name": "stdout",
          "text": [
            "Epoch 1/10\n",
            "120/120 [==============================] - 25s 127ms/step - loss: 1.1998 - accuracy: 0.5648 - val_loss: 0.8353 - val_accuracy: 0.6859\n",
            "Epoch 2/10\n",
            "120/120 [==============================] - 14s 118ms/step - loss: 0.7825 - accuracy: 0.7331 - val_loss: 0.7723 - val_accuracy: 0.7156\n",
            "Epoch 3/10\n",
            "120/120 [==============================] - 14s 117ms/step - loss: 0.7062 - accuracy: 0.7586 - val_loss: 0.7078 - val_accuracy: 0.7836\n",
            "Epoch 4/10\n",
            "120/120 [==============================] - 14s 117ms/step - loss: 0.6763 - accuracy: 0.7734 - val_loss: 0.6688 - val_accuracy: 0.7797\n",
            "Epoch 5/10\n",
            "120/120 [==============================] - 14s 117ms/step - loss: 0.6163 - accuracy: 0.7940 - val_loss: 0.6680 - val_accuracy: 0.7812\n",
            "Epoch 6/10\n",
            "120/120 [==============================] - 14s 118ms/step - loss: 0.5906 - accuracy: 0.8034 - val_loss: 0.6602 - val_accuracy: 0.7758\n",
            "Epoch 7/10\n",
            "120/120 [==============================] - 15s 128ms/step - loss: 0.5565 - accuracy: 0.8216 - val_loss: 0.6668 - val_accuracy: 0.7820\n",
            "Epoch 8/10\n",
            "120/120 [==============================] - 15s 128ms/step - loss: 0.5264 - accuracy: 0.8404 - val_loss: 0.6827 - val_accuracy: 0.7906\n",
            "Epoch 9/10\n",
            "120/120 [==============================] - 14s 116ms/step - loss: 0.4979 - accuracy: 0.8518 - val_loss: 0.7237 - val_accuracy: 0.7742\n",
            "Epoch 10/10\n",
            "120/120 [==============================] - 14s 117ms/step - loss: 0.4545 - accuracy: 0.8737 - val_loss: 0.7706 - val_accuracy: 0.7812\n"
          ]
        },
        {
          "output_type": "execute_result",
          "data": {
            "text/plain": [
              "dict_keys(['loss', 'accuracy', 'val_loss', 'val_accuracy'])"
            ]
          },
          "metadata": {},
          "execution_count": 54
        }
      ]
    },
    {
      "cell_type": "code",
      "source": [
        "tuned_model.save(\"./talos_models/final_tuned_model\")\n",
        "np.save(\"./talos_models/final_tuned_model.npy\", history_dict_tuned) #saving"
      ],
      "metadata": {
        "id": "2zDsKNATrsRv",
        "outputId": "8e83e931-10b2-40bf-a857-9dfb0bd4f922",
        "colab": {
          "base_uri": "https://localhost:8080/"
        }
      },
      "execution_count": 55,
      "outputs": [
        {
          "output_type": "stream",
          "name": "stderr",
          "text": [
            "WARNING:absl:Found untraced functions such as _jit_compiled_convolution_op, _jit_compiled_convolution_op, _jit_compiled_convolution_op, _jit_compiled_convolution_op while saving (showing 4 of 4). These functions will not be directly callable after loading.\n"
          ]
        }
      ]
    },
    {
      "cell_type": "code",
      "source": [
        "from keras.models import load_model\n",
        "# baseline_model = load_model(\"./talos_models/baseline_model\") #load the model\n",
        "history_baseline_model=np.load('./talos_models/baseline_model.npy',allow_pickle='TRUE').item() #load teh hist dict\n",
        "\n",
        "# t_model_1 = load_model(\"./talos_models/t_model_1\") #load the model\n",
        "history_tuned_model =np.load('./talos_models/final_tuned_model.npy',allow_pickle='TRUE').item() #load teh hist dict\n",
        "\n",
        "# # t_model_2 = load_model(\"./talos_models/t_model_2\") #load the model\n",
        "# history_t_model_2 =np.load('./talos_models/t_model_2.npy',allow_pickle='TRUE').item() #load teh hist dict\n",
        "\n",
        "# # t_model_3 = load_model(\"./talos_models/t_model_3\") #load the model\n",
        "# history_t_model_3 =np.load('./talos_models/t_model_3.npy',allow_pickle='TRUE').item() #load teh hist dict"
      ],
      "metadata": {
        "id": "ImBtbWBNsy_8"
      },
      "execution_count": 56,
      "outputs": []
    },
    {
      "cell_type": "code",
      "source": [
        "import matplotlib.pyplot as plt\n",
        "\n",
        "def plot_history(data_list, label_list, title, ylabel):\n",
        "    ''' Plots a list of vectors.\n",
        "    Parameters:\n",
        "        data_list  : list of vectors containing the values to plot\n",
        "        label_list : list of labels describing the data, one per vector\n",
        "        title      : title of the plot\n",
        "        ylabel     : label for the y axis\n",
        "    '''\n",
        "    epochs = range(1, len(data_list[0]) + 1)\n",
        "    for data, label in zip(data_list, label_list):\n",
        "        plt.plot(epochs, data, label=label)\n",
        "    plt.title(title)\n",
        "    plt.xlabel('Epochs')\n",
        "    plt.ylabel(ylabel)\n",
        "    plt.legend()\n",
        "    plt.show()"
      ],
      "metadata": {
        "id": "I8-EqEpzyDju"
      },
      "execution_count": 57,
      "outputs": []
    },
    {
      "cell_type": "code",
      "source": [
        "baseline_val_loss = history_baseline_model['val_loss']\n",
        "tuned_model_val_loss = history_tuned_model['val_loss']\n",
        "# tuned_1_model_val_loss = history_t_model_2['val_loss']\n",
        "# tuned_2_model_val_loss = history_t_model_3['val_loss']\n",
        "\n",
        "\n",
        "plot_history(data_list=[baseline_val_loss, tuned_model_val_loss],\n",
        "             label_list=['Baseline Validation loss', 'Tuned_Model'],\n",
        "             title='Comparison',\n",
        "             ylabel='Validation loss')\n",
        "\n",
        "baseline_loss = history_baseline_model['loss']\n",
        "tuned_model_loss = history_tuned_model['loss']\n",
        "# tuned_1_model_loss = history_t_model_2['loss']\n",
        "# tuned_2_model_loss = history_t_model_3['loss']\n",
        "\n",
        "\n",
        "plot_history(data_list=[baseline_loss, tuned_model_loss],\n",
        "             label_list=['Baseline Training loss',  'Tuned_Model'],\n",
        "             title='Comparison',\n",
        "             ylabel='Training loss')"
      ],
      "metadata": {
        "id": "aVIqjlLBvedR",
        "outputId": "637b75e7-3c5e-47d4-a8b6-bea7377ff271",
        "colab": {
          "base_uri": "https://localhost:8080/",
          "height": 573
        }
      },
      "execution_count": 58,
      "outputs": [
        {
          "output_type": "display_data",
          "data": {
            "text/plain": [
              "<Figure size 432x288 with 1 Axes>"
            ],
            "image/png": "[encoded data removed]"
          },
          "metadata": {
            "needs_background": "light"
          }
        },
        {
          "output_type": "display_data",
          "data": {
            "text/plain": [
              "<Figure size 432x288 with 1 Axes>"
            ],
            "image/png": "[encoded data removed]"
          },
          "metadata": {
            "needs_background": "light"
          }
        }
      ]
    },
    {
      "cell_type": "code",
      "source": [
        "baseline_val_accuracy = history_baseline_model['val_accuracy']\n",
        "tuned_model_val_accuracy = history_tuned_model['val_accuracy']\n",
        "\n",
        "\n",
        "plot_history(data_list=[baseline_val_accuracy, tuned_model_val_accuracy],\n",
        "             label_list=['Baseline Validation accuracy','Tuned_Model'],\n",
        "             title='Comparison',\n",
        "             ylabel='Validation accuracy')"
      ],
      "metadata": {
        "id": "lhqR0-7XyfLk",
        "outputId": "f67eacf8-669a-4435-9477-9c52a47adb17",
        "colab": {
          "base_uri": "https://localhost:8080/",
          "height": 295
        }
      },
      "execution_count": 59,
      "outputs": [
        {
          "output_type": "display_data",
          "data": {
            "text/plain": [
              "<Figure size 432x288 with 1 Axes>"
            ],
            "image/png": "[encoded data removed]"
          },
          "metadata": {
            "needs_background": "light"
          }
        }
      ]
    },
    {
      "cell_type": "code",
      "source": [
        "%matplotlib inline\n",
        "\n",
        "acc = history_tuned_model['accuracy']\n",
        "val_acc = history_tuned_model['val_accuracy']\n",
        "loss = history_tuned_model['loss']\n",
        "val_loss = history_tuned_model['val_loss']\n",
        "\n",
        "plot_history(data_list=[loss, val_loss],\n",
        "             label_list=['Training loss', 'Validation loss'],\n",
        "             title='Training and validation loss',\n",
        "             ylabel='Loss')\n",
        "plot_history(data_list=[acc, val_acc],\n",
        "             label_list=['Training acc.', 'Validation acc.'],\n",
        "             title='Training and validation accuracy',\n",
        "             ylabel='Accuracy')"
      ],
      "metadata": {
        "colab": {
          "base_uri": "https://localhost:8080/",
          "height": 573
        },
        "id": "kimeHQzsnIBp",
        "outputId": "a95efd55-ac40-4910-b5b2-a61fa54358d3"
      },
      "execution_count": 60,
      "outputs": [
        {
          "output_type": "display_data",
          "data": {
            "text/plain": [
              "<Figure size 432x288 with 1 Axes>"
            ],
            "image/png": "[encoded data removed]"
          },
          "metadata": {
            "needs_background": "light"
          }
        },
        {
          "output_type": "display_data",
          "data": {
            "text/plain": [
              "<Figure size 432x288 with 1 Axes>"
            ],
            "image/png": "[encoded data removed]"
          },
          "metadata": {
            "needs_background": "light"
          }
        }
      ]
    },
    {
      "cell_type": "markdown",
      "metadata": {
        "id": "CBGr0x8ZcFn9"
      },
      "source": [
        "# Transfer Learning"
      ]
    },
    {
      "cell_type": "code",
      "source": [],
      "metadata": {
        "id": "BNBboygVg8l7"
      },
      "execution_count": null,
      "outputs": []
    },
    {
      "cell_type": "code",
      "execution_count": null,
      "metadata": {
        "id": "fn_WnCfDcFyD"
      },
      "outputs": [],
      "source": []
    }
  ],
  "metadata": {
    "accelerator": "GPU",
    "colab": {
      "provenance": [],
      "include_colab_link": true
    },
    "gpuClass": "standard",
    "kernelspec": {
      "display_name": "Python 3",
      "name": "python3"
    },
    "language_info": {
      "name": "python"
    }
  },
  "nbformat": 4,
  "nbformat_minor": 0
}
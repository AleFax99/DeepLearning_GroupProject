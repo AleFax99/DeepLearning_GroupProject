{
  "cells": [
    {
      "cell_type": "markdown",
      "metadata": {
        "id": "view-in-github",
        "colab_type": "text"
      },
      "source": [
        "<a href=\"https://colab.research.google.com/github/AleFax99/DeepLearning_GroupProject/blob/main/DL_Assignment_baseline_2__IN_USECOPY.ipynb\" target=\"_parent\"><img src=\"https://colab.research.google.com/assets/colab-badge.svg\" alt=\"Open In Colab\"/></a>"
      ]
    },
    {
      "cell_type": "markdown",
      "source": [
        "# Code Snippets\n"
      ],
      "metadata": {
        "id": "UYzxhWiUUmYN"
      }
    },
    {
      "cell_type": "code",
      "source": [
        "from keras.models import load_model\n",
        "baseline_model = load_model(\"./Results and Models/baseline_model\")"
      ],
      "metadata": {
        "id": "vtzOC3wSUrS7"
      },
      "execution_count": null,
      "outputs": []
    },
    {
      "cell_type": "code",
      "source": [],
      "metadata": {
        "id": "V4hOZSBKUrMA"
      },
      "execution_count": null,
      "outputs": []
    },
    {
      "cell_type": "code",
      "source": [],
      "metadata": {
        "id": "Pefy20f3UrDv"
      },
      "execution_count": null,
      "outputs": []
    },
    {
      "cell_type": "markdown",
      "metadata": {
        "id": "xveQIshNWYdc"
      },
      "source": [
        "# Loading Dataset\n",
        "\n",
        "You can download the dataset from {https://darwin.v7labs.com/v7-labs/covid-19-chest-x-ray-dataset?sort=priority\\%3Adesc}.\n",
        "The data entitled as '`darwin dataset pull v7-labs/covid-19-chest-x-ray-dataset:all-images`' will be used in this assignment. All dataset consist of 6504 images from 702 classes. We will extract the images of 4 classes (Bacterial Pneumonia, Viral Pneumonia, No Pneumonia (healthy), Covid-19) and save them as .npy file with the following code:"
      ]
    },
    {
      "cell_type": "code",
      "source": [
        "from google.colab import drive\n",
        "drive.mount('/content/drive')"
      ],
      "metadata": {
        "colab": {
          "base_uri": "https://localhost:8080/"
        },
        "id": "DlgH4Tr-h0ra",
        "outputId": "c930097b-24a7-4702-e514-1c0b468b6aa5"
      },
      "execution_count": 1,
      "outputs": [
        {
          "output_type": "stream",
          "name": "stdout",
          "text": [
            "Mounted at /content/drive\n"
          ]
        }
      ]
    },
    {
      "cell_type": "code",
      "source": [
        "%cd /content/drive/MyDrive/Deep Learning - Group Project \n",
        "#### Andreea Gdrive path"
      ],
      "metadata": {
        "colab": {
          "base_uri": "https://localhost:8080/"
        },
        "id": "xj-QTC3Vx0YP",
        "outputId": "b10dffb1-e85a-4a23-dd14-0c03638170f5"
      },
      "execution_count": 2,
      "outputs": [
        {
          "output_type": "stream",
          "name": "stdout",
          "text": [
            "/content/drive/.shortcut-targets-by-id/1qsBT4V5PUBeJK1UavH8V46pQAoKjtkPa/Deep Learning - Group Project\n"
          ]
        }
      ]
    },
    {
      "cell_type": "code",
      "source": [
        "# %cd /content/drive/MyDrive/Deep Learning/Deep Learning - Group Project\n",
        "# !pwd"
      ],
      "metadata": {
        "id": "5BzFl_xzjC3f"
      },
      "execution_count": null,
      "outputs": []
    },
    {
      "cell_type": "code",
      "source": [
        "import numpy as np\n",
        "\n",
        "y_train = np.load('./y_train.npy')\n",
        "y_test = np.load('./y_test.npy')\n",
        "y_val = np.load('./y_val.npy')\n",
        "X_train = np.load('./X_train.npy')\n",
        "X_test = np.load('./X_test.npy')\n",
        "X_val = np.load('./X_val.npy')"
      ],
      "metadata": {
        "id": "eG19eSeRY3yM"
      },
      "execution_count": 3,
      "outputs": []
    },
    {
      "cell_type": "code",
      "source": [
        "# import json\n",
        "# import numpy as np\n",
        "# import glob\n",
        "# import pandas as pd\n",
        "\n",
        "# # importing modules\n",
        "# import urllib.request\n",
        "# from PIL import Image\n",
        "# from keras import layers, models\n"
      ],
      "metadata": {
        "id": "_dF2YNr03Czt"
      },
      "execution_count": null,
      "outputs": []
    },
    {
      "cell_type": "code",
      "source": [
        "# import json\n",
        "# import numpy as np\n",
        "# import glob\n",
        "# import pandas as pd\n",
        "\n",
        "# # importing modules\n",
        "# import urllib.request\n",
        "# from PIL import Image\n",
        "# from keras import layers, models\n",
        "# import tensorflow as tf\n",
        "\n",
        "# # all-images file should be uploaded to the same file\n",
        "# imageNames = glob.glob(\"./all-images/*\")\n",
        "# print(type(imageNames))\n",
        "# print(len(imageNames))\n",
        "# print(imageNames)"
      ],
      "metadata": {
        "id": "BF_rmtOElt08"
      },
      "execution_count": null,
      "outputs": []
    },
    {
      "cell_type": "code",
      "execution_count": null,
      "metadata": {
        "id": "I6bqTVRSs-sw"
      },
      "outputs": [],
      "source": [
        "\n",
        "# import json\n",
        "# import numpy as np\n",
        "# import glob\n",
        "# import pandas as pd\n",
        "\n",
        "# # importing modules\n",
        "# import urllib.request\n",
        "# from PIL import Image\n",
        "# from keras import layers, models\n",
        "# import tensorflow as tf\n",
        "\n",
        "# # all-images file should be uploaded to the same file\n",
        "# imageNames = glob.glob(\"./all-images/*\")\n",
        "\n",
        "# dataset = []\n",
        "# labels = []\n",
        "\n",
        "# for i, imName in enumerate(imageNames):\n",
        "\n",
        "#     # Opening JSON file\n",
        "#     f = open(imName)\n",
        "#     data = json.load(f)\n",
        "#     for j in range(len(data['annotations'])):\n",
        "\n",
        "#         if 'COVID-19' in (data['annotations'][j]['name']):\n",
        "#           #load images from url    \n",
        "#             urllib.request.urlretrieve(data['image']['url'],\"img.png\")    \n",
        "#             img = Image.open(\"img.png\")\n",
        "#             #convert images to grayscale\n",
        "#             imgGray = img.convert('L')\n",
        "#             #resize the image (156x156)\n",
        "#             im = imgGray.resize((156,156), Image.LANCZOS)           \n",
        "#             label = data['annotations'][j]['name']\n",
        "#             dataset.append(np.array(im))\n",
        "#             labels.append(label)\n",
        "#             print(label)\n",
        "#             break\n",
        "\n",
        "#         if 'Viral Pneumonia' in (data['annotations'][j]['name']) \\\n",
        "#             or 'Bacterial Pneumonia' in (data['annotations'][j]['name']) \\\n",
        "#             or 'No Pneumonia (healthy)' in (data['annotations'][j]['name']):\n",
        "#             #load images from url    \n",
        "#             urllib.request.urlretrieve(data['image']['url'],\"img.png\")    \n",
        "#             img = Image.open(\"img.png\")\n",
        "#             #convert images to grayscale\n",
        "#             imgGray = img.convert('L')\n",
        "#             #resize the image (156x156)\n",
        "#             im = imgGray.resize((156,156), Image.LANCZOS)           \n",
        "#             label = data['annotations'][j]['name']\n",
        "#             dataset.append(np.array(im))\n",
        "#             labels.append(label)\n",
        "#             break\n",
        "\n",
        "# #Convert data shape of (n_of_samples, width, height, 1)\n",
        "# dataset = np.dstack(dataset)    \n",
        "# dataset = np.rollaxis(dataset,-1)\n",
        "# labels = np.array(labels)\n",
        "\n",
        "# #convert images gray scale to rgb\n",
        "# data = np.array(layers.Lambda(tf.image.grayscale_to_rgb)(tf.expand_dims(dataset, -1)))\n",
        "\n",
        "# # save data and labels into a folder\n",
        "# np.save(\"./data.npy\", data)\n",
        "# np.save(\"./labels.npy\", labels)"
      ]
    },
    {
      "cell_type": "markdown",
      "metadata": {
        "id": "Dn3sH7yJWboe"
      },
      "source": [
        "Once you save your data, you can load it from your directory."
      ]
    },
    {
      "cell_type": "code",
      "execution_count": null,
      "metadata": {
        "id": "b6ZPDhVLWbyq"
      },
      "outputs": [],
      "source": [
        "import numpy as np\n",
        "\n",
        "data = np.load('./data.npy')\n",
        "labels = np.load('./labels.npy')"
      ]
    },
    {
      "cell_type": "markdown",
      "metadata": {
        "id": "B1b7dP-VbJpC"
      },
      "source": [
        "# Preprocessing Steps\n",
        "\n"
      ]
    },
    {
      "cell_type": "markdown",
      "metadata": {
        "id": "xC_YmdQMbn1K"
      },
      "source": [
        "## Splitting Data"
      ]
    },
    {
      "cell_type": "code",
      "execution_count": null,
      "metadata": {
        "id": "xStbdJAHblFv",
        "outputId": "1c3cce01-9120-4f7d-d010-8918fb83d25e",
        "colab": {
          "base_uri": "https://localhost:8080/"
        }
      },
      "outputs": [
        {
          "output_type": "stream",
          "name": "stdout",
          "text": [
            "(3840, 156, 156, 3) (1280, 156, 156, 3) (1281, 156, 156, 3)\n"
          ]
        }
      ],
      "source": [
        "from sklearn.model_selection import train_test_split\n",
        "X_train_val, X_test, y_train_val, y_test = train_test_split(data, labels, test_size= 0.2, stratify= labels, random_state=42)\n",
        "\n",
        "X_train, X_val, y_train, y_val = train_test_split(X_train_val, y_train_val, test_size= 0.25, stratify= y_train_val , random_state=42)\n",
        "\n",
        "print(X_train.shape, X_val.shape, X_test.shape)\n"
      ]
    },
    {
      "cell_type": "markdown",
      "metadata": {
        "id": "R-r4ta3MbKLJ"
      },
      "source": [
        "## Normalize Data"
      ]
    },
    {
      "cell_type": "code",
      "execution_count": null,
      "metadata": {
        "id": "LeplL77mbKS4"
      },
      "outputs": [],
      "source": [
        "# normalize to range 0-1\n",
        "# Note: minimum = 0, maximum = 255.0\n",
        "# Formula: (value - minimum) / (maximum - minimum)\n",
        "X_train = X_train / 255.0\n",
        "X_val = X_val / 255.0\n",
        "X_test = X_test / 255.0"
      ]
    },
    {
      "cell_type": "code",
      "source": [
        "print(X_train.shape)\n",
        "print(X_val.shape)\n",
        "print(X_test.shape)"
      ],
      "metadata": {
        "id": "XiANGqHfAqLD",
        "outputId": "5289d829-bc35-443a-fc1f-c21af93c2c68",
        "colab": {
          "base_uri": "https://localhost:8080/"
        }
      },
      "execution_count": null,
      "outputs": [
        {
          "output_type": "stream",
          "name": "stdout",
          "text": [
            "(3840, 156, 156, 3)\n",
            "(1280, 156, 156, 3)\n",
            "(1281, 156, 156, 3)\n"
          ]
        }
      ]
    },
    {
      "cell_type": "code",
      "source": [
        "np.unique(y_train, return_counts=True) # we are dealing with an imbalanced dataset (miro-avg)\n"
      ],
      "metadata": {
        "id": "rAvVVzuLEJP-",
        "outputId": "08003b59-4886-4475-a5c4-a707e4268413",
        "colab": {
          "base_uri": "https://localhost:8080/"
        }
      },
      "execution_count": null,
      "outputs": [
        {
          "output_type": "execute_result",
          "data": {
            "text/plain": [
              "(array(['Bacterial Pneumonia', 'COVID-19', 'No Pneumonia (healthy)',\n",
              "        'Viral Pneumonia'], dtype='<U22'), array([1695,   76,  964, 1105]))"
            ]
          },
          "metadata": {},
          "execution_count": 13
        }
      ]
    },
    {
      "cell_type": "code",
      "source": [
        "np.unique(labels, return_counts=True)"
      ],
      "metadata": {
        "colab": {
          "base_uri": "https://localhost:8080/"
        },
        "id": "zIHdPTqu9yNN",
        "outputId": "02f94cff-668d-4b39-ff69-2db158ce12e2"
      },
      "execution_count": null,
      "outputs": [
        {
          "output_type": "execute_result",
          "data": {
            "text/plain": [
              "(array(['Bacterial Pneumonia', 'COVID-19', 'No Pneumonia (healthy)',\n",
              "        'Viral Pneumonia'], dtype='<U22'), array([2825,  127, 1606, 1843]))"
            ]
          },
          "metadata": {},
          "execution_count": 14
        }
      ]
    },
    {
      "cell_type": "code",
      "source": [
        "from sklearn import preprocessing\n",
        "le = preprocessing.LabelEncoder()\n",
        "y_train = le.fit_transform(y_train)\n",
        "y_val = le.transform(y_val)\n",
        "y_test = le.transform(y_test)\n"
      ],
      "metadata": {
        "id": "-dhwVeTFC7my"
      },
      "execution_count": null,
      "outputs": []
    },
    {
      "cell_type": "code",
      "source": [
        "le.classes_"
      ],
      "metadata": {
        "id": "WAj3IuYpJzeR",
        "outputId": "7d81961c-061d-4c7d-cc5d-4a2c20c19f8a",
        "colab": {
          "base_uri": "https://localhost:8080/"
        }
      },
      "execution_count": null,
      "outputs": [
        {
          "output_type": "execute_result",
          "data": {
            "text/plain": [
              "array(['Bacterial Pneumonia', 'COVID-19', 'No Pneumonia (healthy)',\n",
              "       'Viral Pneumonia'], dtype='<U22')"
            ]
          },
          "metadata": {},
          "execution_count": 16
        }
      ]
    },
    {
      "cell_type": "code",
      "source": [
        "from tensorflow.keras.utils import to_categorical\n",
        "y_train = to_categorical(y_train)\n",
        "y_val = to_categorical(y_val)\n",
        "y_test = to_categorical(y_test)"
      ],
      "metadata": {
        "id": "d5OJ21JsJmwQ"
      },
      "execution_count": null,
      "outputs": []
    },
    {
      "cell_type": "code",
      "source": [
        "np.save(\"./y_train.npy\", y_train)\n",
        "np.save(\"./y_test.npy\", y_test)\n",
        "np.save(\"./y_val.npy\", y_val)\n",
        "np.save(\"./X_train.npy\", X_train)\n",
        "np.save(\"./X_test.npy\", X_test)\n",
        "np.save(\"./X_val.npy\", X_val)"
      ],
      "metadata": {
        "id": "28xlnAeDYOiF"
      },
      "execution_count": null,
      "outputs": []
    },
    {
      "cell_type": "markdown",
      "metadata": {
        "id": "YONVgtOAbKca"
      },
      "source": [
        "# Create Baseline Model"
      ]
    },
    {
      "cell_type": "code",
      "execution_count": 15,
      "metadata": {
        "id": "LhUlV9UNbKiH"
      },
      "outputs": [],
      "source": [
        "from tensorflow.keras import models\n",
        "from tensorflow.keras import layers\n",
        "\n",
        "\n",
        "\n",
        "def build_model(optimizer='adam'): # which inputs should we have?\n",
        "  model = models.Sequential()\n",
        "  model.add(layers.Conv2D(64, (3,3), activation='relu', input_shape = (156,156,3), padding=\"same\"))\n",
        "  model.add(layers.Conv2D(32, (3,3), activation='relu', padding=\"same\"))\n",
        "  model.add(layers.MaxPooling2D(pool_size=(2, 2), padding=\"same\"))\n",
        "  model.add(layers.Conv2D(64, (3,3), activation='relu', padding=\"same\"))\n",
        "  model.add(layers.Conv2D(32, (3,3), activation='relu', padding=\"same\"))\n",
        "  model.add(layers.MaxPooling2D(pool_size=(2, 2), padding=\"same\"))\n",
        "  model.add(layers.Flatten())\n",
        "  model.add(layers.Dense(32, activation=\"relu\"))\n",
        "  model.add(layers.Dense(32, activation=\"relu\"))\n",
        "  model.add(layers.Dense(4, activation=\"softmax\"))\n",
        "\n",
        "  model.compile(optimizer= optimizer, \n",
        "                         loss=\"categorical_crossentropy\",\n",
        "                         metrics=['accuracy']\n",
        "                         )\n",
        "  return model\n"
      ]
    },
    {
      "cell_type": "code",
      "source": [
        "# model.build()\n",
        "model = build_model()\n",
        "model.summary()"
      ],
      "metadata": {
        "id": "ZPJQjyPO1bQR",
        "outputId": "7dbd6093-8a32-4541-c2eb-dd6c703b07cb",
        "colab": {
          "base_uri": "https://localhost:8080/"
        }
      },
      "execution_count": 16,
      "outputs": [
        {
          "output_type": "stream",
          "name": "stdout",
          "text": [
            "Model: \"sequential_1\"\n",
            "_________________________________________________________________\n",
            " Layer (type)                Output Shape              Param #   \n",
            "=================================================================\n",
            " conv2d_4 (Conv2D)           (None, 156, 156, 64)      1792      \n",
            "                                                                 \n",
            " conv2d_5 (Conv2D)           (None, 156, 156, 32)      18464     \n",
            "                                                                 \n",
            " max_pooling2d_2 (MaxPooling  (None, 78, 78, 32)       0         \n",
            " 2D)                                                             \n",
            "                                                                 \n",
            " conv2d_6 (Conv2D)           (None, 78, 78, 64)        18496     \n",
            "                                                                 \n",
            " conv2d_7 (Conv2D)           (None, 78, 78, 32)        18464     \n",
            "                                                                 \n",
            " max_pooling2d_3 (MaxPooling  (None, 39, 39, 32)       0         \n",
            " 2D)                                                             \n",
            "                                                                 \n",
            " flatten_1 (Flatten)         (None, 48672)             0         \n",
            "                                                                 \n",
            " dense_3 (Dense)             (None, 32)                1557536   \n",
            "                                                                 \n",
            " dense_4 (Dense)             (None, 32)                1056      \n",
            "                                                                 \n",
            " dense_5 (Dense)             (None, 4)                 132       \n",
            "                                                                 \n",
            "=================================================================\n",
            "Total params: 1,615,940\n",
            "Trainable params: 1,615,940\n",
            "Non-trainable params: 0\n",
            "_________________________________________________________________\n"
          ]
        }
      ]
    },
    {
      "cell_type": "code",
      "source": [
        "# model.compile(\n",
        "#     optimizer='adam',\n",
        "#     loss=tf.keras.losses.CategoricalCrossentropy(),\n",
        "#     metrics=['accuracy']\n",
        "# )\n",
        "from tensorflow.keras.utils import set_random_seed\n",
        "set_random_seed(42)\n",
        "original_hist = model.fit(\n",
        "    X_train,\n",
        "    y_train,\n",
        "    batch_size=32,\n",
        "    epochs=10,\n",
        "    validation_data=(X_val, y_val), \n",
        "    verbose=0\n",
        ")\n",
        "history_dict = original_hist.history\n",
        "history_dict.keys()"
      ],
      "metadata": {
        "id": "V61CywCy1fXv",
        "outputId": "baaff88c-26ea-483b-a7a3-166907ffec12",
        "colab": {
          "base_uri": "https://localhost:8080/"
        }
      },
      "execution_count": null,
      "outputs": [
        {
          "output_type": "execute_result",
          "data": {
            "text/plain": [
              "dict_keys(['loss', 'accuracy', 'val_loss', 'val_accuracy'])"
            ]
          },
          "metadata": {},
          "execution_count": 10
        }
      ]
    },
    {
      "cell_type": "code",
      "source": [
        "model.save(\"./Results and Models/baseline_model\")\n",
        "\n",
        "# https://www.tensorflow.org/guide/keras/save_and_serialize"
      ],
      "metadata": {
        "colab": {
          "base_uri": "https://localhost:8080/"
        },
        "id": "_uq_7KZORFkW",
        "outputId": "d4de79fe-d121-49c6-f02c-a96de0952d01"
      },
      "execution_count": null,
      "outputs": [
        {
          "output_type": "stream",
          "name": "stderr",
          "text": [
            "WARNING:absl:Found untraced functions such as _jit_compiled_convolution_op, _jit_compiled_convolution_op, _jit_compiled_convolution_op, _jit_compiled_convolution_op while saving (showing 4 of 4). These functions will not be directly callable after loading.\n"
          ]
        }
      ]
    },
    {
      "cell_type": "code",
      "source": [
        "from keras.models import load_model\n",
        "baseline_model = load_model(\"./Results and Models/baseline_model\")"
      ],
      "metadata": {
        "id": "Tux0damDT13K"
      },
      "execution_count": null,
      "outputs": []
    },
    {
      "cell_type": "code",
      "source": [],
      "metadata": {
        "id": "IvlbBl59UWDE"
      },
      "execution_count": null,
      "outputs": []
    },
    {
      "cell_type": "code",
      "source": [
        "np.save(\"./Results and Models/baseline_hist.npy\", history_dict) #saving\n",
        "history_baseline=np.load('./Results and Models/baseline_hist.npy',allow_pickle='TRUE').item() #loading"
      ],
      "metadata": {
        "id": "1DBvKBRFRyT9"
      },
      "execution_count": null,
      "outputs": []
    },
    {
      "cell_type": "code",
      "source": [
        "history_baseline.keys()"
      ],
      "metadata": {
        "colab": {
          "base_uri": "https://localhost:8080/"
        },
        "id": "J9GESttASqBz",
        "outputId": "1d0ee2e0-78cb-45d8-e5e3-17c39024e6ee"
      },
      "execution_count": null,
      "outputs": [
        {
          "output_type": "execute_result",
          "data": {
            "text/plain": [
              "dict_keys(['loss', 'accuracy', 'val_loss', 'val_accuracy'])"
            ]
          },
          "metadata": {},
          "execution_count": 29
        }
      ]
    },
    {
      "cell_type": "markdown",
      "metadata": {
        "id": "zOFuKRShbvTU"
      },
      "source": [
        "# Analyze the performance of the baseline model"
      ]
    },
    {
      "cell_type": "code",
      "execution_count": null,
      "metadata": {
        "id": "58gf79ODcFPD",
        "outputId": "fc89502b-33e2-4039-9e68-edf15a38edff",
        "colab": {
          "base_uri": "https://localhost:8080/"
        }
      },
      "outputs": [
        {
          "output_type": "stream",
          "name": "stdout",
          "text": [
            "41/41 [==============================] - 1s 22ms/step - loss: 1.2613 - accuracy: 0.7237\n"
          ]
        }
      ],
      "source": [
        "test_loss, test_acc = model.evaluate(X_test, y_test) # 0.7377"
      ]
    },
    {
      "cell_type": "markdown",
      "source": [
        "# Plots"
      ],
      "metadata": {
        "id": "Y0WF9lVqPnRW"
      }
    },
    {
      "cell_type": "markdown",
      "source": [
        "## Training and validation losses and accuracies on the training and validation set"
      ],
      "metadata": {
        "id": "KPPmma50QMfH"
      }
    },
    {
      "cell_type": "code",
      "source": [
        "#plot\n",
        "import matplotlib.pyplot as plt\n",
        "\n",
        "def plot_history(data_list, label_list, title, ylabel):\n",
        "    ''' Plots a list of vectors.\n",
        "    Parameters:\n",
        "        data_list  : list of vectors containing the values to plot\n",
        "        label_list : list of labels describing the data, one per vector\n",
        "        title      : title of the plot\n",
        "        ylabel     : label for the y axis\n",
        "    '''\n",
        "    epochs = range(1, len(data_list[0]) + 1)\n",
        "    for data, label in zip(data_list, label_list):\n",
        "        plt.plot(epochs, data, label=label)\n",
        "    plt.title(title)\n",
        "    plt.xlabel('Epochs')\n",
        "    plt.ylabel(ylabel)\n",
        "    plt.legend()\n",
        "    plt.show()"
      ],
      "metadata": {
        "id": "F3z0OVaKP5TD"
      },
      "execution_count": null,
      "outputs": []
    },
    {
      "cell_type": "code",
      "source": [
        "%matplotlib inline\n",
        "\n",
        "acc = history_dict['accuracy']\n",
        "val_acc = history_dict['val_accuracy']\n",
        "loss = history_dict['loss']\n",
        "val_loss = history_dict['val_loss']\n",
        "\n",
        "plot_history(data_list=[loss, val_loss],\n",
        "             label_list=['Training loss', 'Validation loss'],\n",
        "             title='Training and validation loss',\n",
        "             ylabel='Loss')\n",
        "plot_history(data_list=[acc, val_acc],\n",
        "             label_list=['Training acc.', 'Validation acc.'],\n",
        "             title='Training and validation accuracy',\n",
        "             ylabel='Accuracy')"
      ],
      "metadata": {
        "colab": {
          "base_uri": "https://localhost:8080/",
          "height": 573
        },
        "id": "OX67Jn8-SchT",
        "outputId": "4673f027-4ad7-46f8-d9a4-2619b4ee585b"
      },
      "execution_count": null,
      "outputs": [
        {
          "output_type": "display_data",
          "data": {
            "text/plain": [
              "<Figure size 432x288 with 1 Axes>"
            ],
            "image/png": "[encoded data removed]"
          },
          "metadata": {
            "needs_background": "light"
          }
        },
        {
          "output_type": "display_data",
          "data": {
            "text/plain": [
              "<Figure size 432x288 with 1 Axes>"
            ],
            "image/png": "[encoded data removed]"
          },
          "metadata": {
            "needs_background": "light"
          }
        }
      ]
    },
    {
      "cell_type": "markdown",
      "source": [
        "## Receiver Operator Characteristic (ROC) curve with the Area under the Curve (AUC) score"
      ],
      "metadata": {
        "id": "XG10vX5BQkf1"
      }
    },
    {
      "cell_type": "markdown",
      "source": [
        "Preprocessing:"
      ],
      "metadata": {
        "id": "8FXgi6UtEs78"
      }
    },
    {
      "cell_type": "code",
      "source": [
        "class_of_interest = \"COVID-19\"\n",
        "class_id = np.flatnonzero(le.classes_ == class_of_interest)[0]\n",
        "class_id"
      ],
      "metadata": {
        "id": "jWkiVvlqSrRa",
        "colab": {
          "base_uri": "https://localhost:8080/"
        },
        "outputId": "c52ea06b-647b-48db-bdb0-cfa6b55508a3"
      },
      "execution_count": null,
      "outputs": [
        {
          "output_type": "execute_result",
          "data": {
            "text/plain": [
              "1"
            ]
          },
          "metadata": {},
          "execution_count": 26
        }
      ]
    },
    {
      "cell_type": "code",
      "source": [
        "y_pred = model.predict(X_test)"
      ],
      "metadata": {
        "id": "Fnbs17AuUoqT",
        "colab": {
          "base_uri": "https://localhost:8080/"
        },
        "outputId": "db37d57d-d994-442a-b07b-506f9f414d5d"
      },
      "execution_count": null,
      "outputs": [
        {
          "output_type": "stream",
          "name": "stdout",
          "text": [
            "41/41 [==============================] - 1s 15ms/step\n"
          ]
        }
      ]
    },
    {
      "cell_type": "code",
      "source": [
        "from sklearn.metrics import roc_curve, auc\n",
        "\n",
        "# store the fpr, tpr, and roc_auc for all averaging strategies\n",
        "fpr, tpr, roc_auc = dict(), dict(), dict()\n",
        "# Compute micro-average ROC curve and ROC area\n",
        "fpr[\"micro\"], tpr[\"micro\"], _ = roc_curve(y_test.ravel(), y_pred.ravel())\n",
        "roc_auc[\"micro\"] = auc(fpr[\"micro\"], tpr[\"micro\"])\n",
        "\n",
        "print(f\"Micro-averaged One-vs-Rest ROC AUC score:\\n{roc_auc['micro']:.2f}\")"
      ],
      "metadata": {
        "id": "_TEfaqLWahIk",
        "colab": {
          "base_uri": "https://localhost:8080/"
        },
        "outputId": "cac0b969-22bf-4ba7-c71d-db0f70e18fce"
      },
      "execution_count": null,
      "outputs": [
        {
          "output_type": "stream",
          "name": "stdout",
          "text": [
            "Micro-averaged One-vs-Rest ROC AUC score:\n",
            "0.91\n"
          ]
        }
      ]
    },
    {
      "cell_type": "code",
      "source": [
        "for i in range(len(le.classes_)):\n",
        "    fpr[i], tpr[i], _ = roc_curve(y_test[:, i], y_pred[:, i])\n",
        "    roc_auc[i] = auc(fpr[i], tpr[i])\n",
        "\n",
        "fpr_grid = np.linspace(0.0, 1.0, 1000)\n",
        "\n",
        "# Interpolate all ROC curves at these points\n",
        "mean_tpr = np.zeros_like(fpr_grid)\n",
        "\n",
        "for i in range(len(le.classes_)):\n",
        "    mean_tpr += np.interp(fpr_grid, fpr[i], tpr[i])  # linear interpolation\n",
        "\n",
        "# Average it and compute AUC\n",
        "mean_tpr /= len(le.classes_)\n",
        "\n",
        "fpr[\"macro\"] = fpr_grid\n",
        "tpr[\"macro\"] = mean_tpr\n",
        "roc_auc[\"macro\"] = auc(fpr[\"macro\"], tpr[\"macro\"])\n",
        "\n",
        "print(f\"Macro-averaged One-vs-Rest ROC AUC score:\\n{roc_auc['macro']:.2f}\")"
      ],
      "metadata": {
        "id": "zHORRIlQboty",
        "colab": {
          "base_uri": "https://localhost:8080/"
        },
        "outputId": "893c9d61-b20a-4bf0-94ca-cdde27bc2642"
      },
      "execution_count": null,
      "outputs": [
        {
          "output_type": "stream",
          "name": "stdout",
          "text": [
            "Macro-averaged One-vs-Rest ROC AUC score:\n",
            "0.86\n"
          ]
        }
      ]
    },
    {
      "cell_type": "code",
      "source": [
        "from itertools import cycle\n",
        "from sklearn.metrics import RocCurveDisplay\n",
        "\n",
        "fig, ax = plt.subplots(figsize=(6, 6))\n",
        "\n",
        "plt.plot(\n",
        "    fpr[\"micro\"],\n",
        "    tpr[\"micro\"],\n",
        "    label=f\"micro-average ROC curve (AUC = {roc_auc['micro']:.2f})\",\n",
        "    color=\"deeppink\",\n",
        "    linestyle=\":\",\n",
        "    linewidth=4,\n",
        ")\n",
        "\n",
        "plt.plot(\n",
        "    fpr[\"macro\"],\n",
        "    tpr[\"macro\"],\n",
        "    label=f\"macro-average ROC curve (AUC = {roc_auc['macro']:.2f})\",\n",
        "    color=\"navy\",\n",
        "    linestyle=\":\",\n",
        "    linewidth=4,\n",
        ")\n",
        "\n",
        "colors = cycle([\"aqua\", \"darkorange\", \"cornflowerblue\"])\n",
        "for class_id, color in zip(range(len(le.classes_)), colors):\n",
        "    RocCurveDisplay.from_predictions(\n",
        "        y_test[:, class_id],\n",
        "        y_pred[:, class_id],\n",
        "        name=f\"ROC curve for {le.classes_[class_id]}\",\n",
        "        color=color,\n",
        "        ax=ax,\n",
        "    )\n",
        "\n",
        "plt.plot([0, 1], [0, 1], \"k--\", label=\"ROC curve for chance level (AUC = 0.5)\")\n",
        "plt.axis(\"square\")\n",
        "plt.xlabel(\"False Positive Rate\")\n",
        "plt.ylabel(\"True Positive Rate\")\n",
        "plt.title(\"Extension of Receiver Operating Characteristic\\nto One-vs-Rest multiclass\")\n",
        "plt.legend()\n",
        "plt.show()"
      ],
      "metadata": {
        "id": "C7GO9jYIdSYx",
        "colab": {
          "base_uri": "https://localhost:8080/",
          "height": 419
        },
        "outputId": "73607126-f028-438d-e0d2-3880e63c8078"
      },
      "execution_count": null,
      "outputs": [
        {
          "output_type": "display_data",
          "data": {
            "text/plain": [
              "<Figure size 432x432 with 1 Axes>"
            ],
            "image/png": "[encoded data removed]"
          },
          "metadata": {
            "needs_background": "light"
          }
        }
      ]
    },
    {
      "cell_type": "markdown",
      "source": [
        "## Confusion matrix for the validation and test set"
      ],
      "metadata": {
        "id": "83Y4kcU9Q8Tr"
      }
    },
    {
      "cell_type": "code",
      "source": [
        "y_val_pred = model.predict(X_val)"
      ],
      "metadata": {
        "colab": {
          "base_uri": "https://localhost:8080/"
        },
        "id": "4nW4rZwn_2Vn",
        "outputId": "6caa5d56-f897-4bc6-856d-36435cfc34f4"
      },
      "execution_count": null,
      "outputs": [
        {
          "output_type": "stream",
          "name": "stdout",
          "text": [
            "40/40 [==============================] - 1s 15ms/step\n"
          ]
        }
      ]
    },
    {
      "cell_type": "code",
      "source": [
        "y_val_train = model.predict(X_train)"
      ],
      "metadata": {
        "colab": {
          "base_uri": "https://localhost:8080/"
        },
        "id": "lsnQc15bBFAg",
        "outputId": "c020fb7a-283a-4774-d0ea-9ac04ea70409"
      },
      "execution_count": null,
      "outputs": [
        {
          "output_type": "stream",
          "name": "stdout",
          "text": [
            "120/120 [==============================] - 2s 15ms/step\n"
          ]
        }
      ]
    },
    {
      "cell_type": "code",
      "source": [
        "from sklearn.metrics import confusion_matrix, accuracy_score\n",
        "from sklearn.metrics import ConfusionMatrixDisplay\n",
        "\n",
        "labels = le.classes_ \n",
        "cm = confusion_matrix(y_train.argmax(axis=1), y_val_train.argmax(axis=1))\n",
        "disp = ConfusionMatrixDisplay(confusion_matrix=cm, display_labels=labels)\n",
        "disp.plot(cmap=plt.cm.Reds)\n",
        "plt.show()"
      ],
      "metadata": {
        "colab": {
          "base_uri": "https://localhost:8080/",
          "height": 279
        },
        "id": "Q8430c3r_U-c",
        "outputId": "7f4101c9-19de-4e52-88a2-d32429b747c8"
      },
      "execution_count": null,
      "outputs": [
        {
          "output_type": "display_data",
          "data": {
            "text/plain": [
              "<Figure size 432x288 with 2 Axes>"
            ],
            "image/png": "[encoded data removed]"
          },
          "metadata": {
            "needs_background": "light"
          }
        }
      ]
    },
    {
      "cell_type": "code",
      "source": [
        "from sklearn.metrics import confusion_matrix, accuracy_score\n",
        "from sklearn.metrics import ConfusionMatrixDisplay\n",
        "\n",
        "labels = le.classes_ \n",
        "cm = confusion_matrix(y_test.argmax(axis=1), y_pred.argmax(axis=1))\n",
        "disp = ConfusionMatrixDisplay(confusion_matrix=cm, display_labels=labels)\n",
        "disp.plot(cmap=plt.cm.Reds)\n",
        "plt.show()\n",
        "\n",
        "# cm = confusion_matrix(y_test.argmax(axis=1), y_pred.argmax(axis=1))\n",
        "# print(cm)\n",
        "# acc = accuracy_score(y_test.argmax(axis=1), y_pred.argmax(axis=1))\n",
        "# print('test_accuracy: %.3f' % (acc))"
      ],
      "metadata": {
        "id": "T3bUbheNQ_qw",
        "colab": {
          "base_uri": "https://localhost:8080/",
          "height": 279
        },
        "outputId": "751f6e30-52a0-4791-9a90-1b5c387b11aa"
      },
      "execution_count": null,
      "outputs": [
        {
          "output_type": "display_data",
          "data": {
            "text/plain": [
              "<Figure size 432x288 with 2 Axes>"
            ],
            "image/png": "[encoded data removed]"
          },
          "metadata": {
            "needs_background": "light"
          }
        }
      ]
    },
    {
      "cell_type": "markdown",
      "metadata": {
        "id": "gnxtO6BIb3_P"
      },
      "source": [
        "# Adapting/fine-tuning the network"
      ]
    },
    {
      "cell_type": "code",
      "source": [
        "from tensorflow.keras import models\n",
        "from tensorflow.keras import layers\n",
        "\n",
        "\n",
        "\n",
        "def build_tuned_model(optimizer='adam'): # which inputs should we have?\n",
        "  model = models.Sequential()\n",
        "  model.add(layers.Conv2D(64, (3,3), activation='relu', input_shape = (156,156,3), padding=\"same\"))\n",
        "  model.add(layers.Conv2D(32, (3,3), activation='relu', padding=\"same\"))\n",
        "  model.add(layers.MaxPooling2D(pool_size=(2, 2), padding=\"same\"))\n",
        "  model.add(layers.Conv2D(64, (3,3), activation='relu', padding=\"same\"))\n",
        "  model.add(layers.Conv2D(32, (3,3), activation='relu', padding=\"same\"))\n",
        "  model.add(layers.MaxPooling2D(pool_size=(2, 2), padding=\"same\"))\n",
        "  model.add(layers.Flatten())\n",
        "  model.add(layers.Dense(32, activation=\"relu\"))\n",
        "  model.add(layers.Dense(32, activation=\"relu\"))\n",
        "  model.add(layers.Dense(4, activation=\"softmax\"))\n",
        "\n",
        "  model.compile(optimizer= optimizer, \n",
        "                         loss=\"categorical_crossentropy\",\n",
        "                         metrics=['accuracy']\n",
        "                         )\n",
        "  return model"
      ],
      "metadata": {
        "id": "oweM4p5VMytM"
      },
      "execution_count": 4,
      "outputs": []
    },
    {
      "cell_type": "code",
      "execution_count": 5,
      "metadata": {
        "id": "oiDja0Mub4YW"
      },
      "outputs": [],
      "source": [
        "from tensorflow.keras.optimizers import Adam\n",
        "tuned_model = build_tuned_model(optimizer = Adam(learning_rate=0.001)  )\n"
      ]
    },
    {
      "cell_type": "code",
      "source": [
        "from tensorflow.keras.utils import set_random_seed\n",
        "set_random_seed(42)\n",
        "tuned_hist = tuned_model.fit(\n",
        "    X_train,\n",
        "    y_train,\n",
        "    batch_size=32,\n",
        "    epochs=10,\n",
        "    validation_data=(X_val, y_val), \n",
        "    verbose=0\n",
        ")\n",
        "history_dict_tuned = tuned_hist.history\n",
        "history_dict_tuned.keys()\n",
        "model.save(\"./Results and Models/tuned_model\")\n",
        "np.save(\"./Results and Models/history_dict_tuned.npy\", history_dict) #saving hist\n"
      ],
      "metadata": {
        "colab": {
          "base_uri": "https://localhost:8080/",
          "height": 237
        },
        "id": "miT5QrP7GkPu",
        "outputId": "bfdf912c-6e92-4778-8b7c-fe2875845979"
      },
      "execution_count": 17,
      "outputs": [
        {
          "output_type": "stream",
          "name": "stderr",
          "text": [
            "WARNING:absl:Found untraced functions such as _jit_compiled_convolution_op, _jit_compiled_convolution_op, _jit_compiled_convolution_op, _jit_compiled_convolution_op, _update_step_xla while saving (showing 5 of 5). These functions will not be directly callable after loading.\n"
          ]
        },
        {
          "output_type": "error",
          "ename": "NameError",
          "evalue": "ignored",
          "traceback": [
            "\u001b[0;31m---------------------------------------------------------------------------\u001b[0m",
            "\u001b[0;31mNameError\u001b[0m                                 Traceback (most recent call last)",
            "\u001b[0;32m<ipython-input-17-5cfa8c751ea5>\u001b[0m in \u001b[0;36m<module>\u001b[0;34m\u001b[0m\n\u001b[1;32m     12\u001b[0m \u001b[0mhistory_dict_tuned\u001b[0m\u001b[0;34m.\u001b[0m\u001b[0mkeys\u001b[0m\u001b[0;34m(\u001b[0m\u001b[0;34m)\u001b[0m\u001b[0;34m\u001b[0m\u001b[0;34m\u001b[0m\u001b[0m\n\u001b[1;32m     13\u001b[0m \u001b[0mmodel\u001b[0m\u001b[0;34m.\u001b[0m\u001b[0msave\u001b[0m\u001b[0;34m(\u001b[0m\u001b[0;34m\"./Results and Models/tuned_model\"\u001b[0m\u001b[0;34m)\u001b[0m\u001b[0;34m\u001b[0m\u001b[0;34m\u001b[0m\u001b[0m\n\u001b[0;32m---> 14\u001b[0;31m \u001b[0mnp\u001b[0m\u001b[0;34m.\u001b[0m\u001b[0msave\u001b[0m\u001b[0;34m(\u001b[0m\u001b[0;34m\"./Results and Models/history_dict_tuned.npy\"\u001b[0m\u001b[0;34m,\u001b[0m \u001b[0mhistory_dict\u001b[0m\u001b[0;34m)\u001b[0m \u001b[0;31m#saving hist\u001b[0m\u001b[0;34m\u001b[0m\u001b[0;34m\u001b[0m\u001b[0m\n\u001b[0m",
            "\u001b[0;31mNameError\u001b[0m: name 'history_dict' is not defined"
          ]
        }
      ]
    },
    {
      "cell_type": "code",
      "source": [
        "test_loss, test_acc = tuned_model.evaluate(X_test, y_test) # 0.7377"
      ],
      "metadata": {
        "colab": {
          "base_uri": "https://localhost:8080/"
        },
        "id": "PS5CrLlHW14q",
        "outputId": "1a3dcdc8-f87a-4c0b-deec-53a005e5e8d1"
      },
      "execution_count": 7,
      "outputs": [
        {
          "output_type": "stream",
          "name": "stdout",
          "text": [
            "41/41 [==============================] - 1s 24ms/step - loss: 1.2486 - accuracy: 0.7440\n"
          ]
        }
      ]
    },
    {
      "cell_type": "code",
      "source": [
        "from keras.models import load_model\n",
        "\n",
        "baseline_model = load_model(\"./Results and Models/tuned_model\") #load the model\n",
        "history_baseline=np.load('./Results and Models/history_dict_tuned.npy',allow_pickle='TRUE').item() #load teh hist dict"
      ],
      "metadata": {
        "id": "7nbhKow4WHnJ"
      },
      "execution_count": 8,
      "outputs": []
    },
    {
      "cell_type": "code",
      "source": [
        "%matplotlib inline\n",
        "\n",
        "acc = history_dict_tuned['accuracy']\n",
        "val_acc = history_dict_tuned['val_accuracy']\n",
        "loss = history_dict_tuned['loss']\n",
        "val_loss = history_dict_tuned['val_loss']\n",
        "\n",
        "plot_history(data_list=[loss, val_loss],\n",
        "             label_list=['Training loss', 'Validation loss'],\n",
        "             title='Training and validation loss',\n",
        "             ylabel='Loss')\n",
        "plot_history(data_list=[acc, val_acc],\n",
        "             label_list=['Training acc.', 'Validation acc.'],\n",
        "             title='Training and validation accuracy',\n",
        "             ylabel='Accuracy')"
      ],
      "metadata": {
        "colab": {
          "base_uri": "https://localhost:8080/",
          "height": 573
        },
        "id": "5fgPNZRHXF0g",
        "outputId": "c582496a-e3f8-4a86-a48c-d589d8dbd123"
      },
      "execution_count": null,
      "outputs": [
        {
          "output_type": "display_data",
          "data": {
            "text/plain": [
              "<Figure size 432x288 with 1 Axes>"
            ],
            "image/png": "[encoded data removed]"
          },
          "metadata": {
            "needs_background": "light"
          }
        },
        {
          "output_type": "display_data",
          "data": {
            "text/plain": [
              "<Figure size 432x288 with 1 Axes>"
            ],
            "image/png": "[encoded data removed]"
          },
          "metadata": {
            "needs_background": "light"
          }
        }
      ]
    },
    {
      "cell_type": "code",
      "source": [
        "pip install keras --upgrade"
      ],
      "metadata": {
        "colab": {
          "base_uri": "https://localhost:8080/"
        },
        "collapsed": true,
        "id": "Bo-kUg2MYA1N",
        "outputId": "27f73ecd-fd89-42a0-95b8-422117fd05c2"
      },
      "execution_count": null,
      "outputs": [
        {
          "output_type": "stream",
          "name": "stdout",
          "text": [
            "Looking in indexes: https://pypi.org/simple, https://us-python.pkg.dev/colab-wheels/public/simple/\n",
            "Requirement already satisfied: keras in /usr/local/lib/python3.8/dist-packages (2.11.0)\n"
          ]
        }
      ]
    },
    {
      "cell_type": "code",
      "source": [
        "import keras_tuner\n",
        "from tensorflow import keras"
      ],
      "metadata": {
        "id": "xZkI5Kx-YG14",
        "outputId": "56d576f6-9421-43c3-a84d-10a5f660c906",
        "colab": {
          "base_uri": "https://localhost:8080/",
          "height": 321
        }
      },
      "execution_count": 9,
      "outputs": [
        {
          "output_type": "error",
          "ename": "ModuleNotFoundError",
          "evalue": "ignored",
          "traceback": [
            "\u001b[0;31m---------------------------------------------------------------------------\u001b[0m",
            "\u001b[0;31mModuleNotFoundError\u001b[0m                       Traceback (most recent call last)",
            "\u001b[0;32m<ipython-input-9-516ce3fd1da9>\u001b[0m in \u001b[0;36m<module>\u001b[0;34m\u001b[0m\n\u001b[0;32m----> 1\u001b[0;31m \u001b[0;32mimport\u001b[0m \u001b[0mkeras_tuner\u001b[0m\u001b[0;34m\u001b[0m\u001b[0;34m\u001b[0m\u001b[0m\n\u001b[0m\u001b[1;32m      2\u001b[0m \u001b[0;32mfrom\u001b[0m \u001b[0mtensorflow\u001b[0m \u001b[0;32mimport\u001b[0m \u001b[0mkeras\u001b[0m\u001b[0;34m\u001b[0m\u001b[0;34m\u001b[0m\u001b[0m\n",
            "\u001b[0;31mModuleNotFoundError\u001b[0m: No module named 'keras_tuner'",
            "",
            "\u001b[0;31m---------------------------------------------------------------------------\u001b[0;32m\nNOTE: If your import is failing due to a missing package, you can\nmanually install dependencies using either !pip or !apt.\n\nTo view examples of installing some common dependencies, click the\n\"Open Examples\" button below.\n\u001b[0;31m---------------------------------------------------------------------------\u001b[0m\n"
          ],
          "errorDetails": {
            "actions": [
              {
                "action": "open_url",
                "actionText": "Open Examples",
                "url": "/notebooks/snippets/importing_libraries.ipynb"
              }
            ]
          }
        }
      ]
    },
    {
      "cell_type": "code",
      "source": [
        "from tensorflow.keras import models\n",
        "from tensorflow.keras import layers\n",
        "\n",
        "from tensorflow.keras.optimizers import Adam\n",
        "## activation,\n",
        "def tobe_tuned_model(  dropout, lr, dropout_rate): # which inputs should we have?\n",
        "  model = models.Sequential()\n",
        "  model.add(layers.Conv2D(64, kernel_size= (3,3), activation='relu', input_shape = (156,156,3), padding=\"same\"))\n",
        "  if dropout:\n",
        "      model.add(layers.Dropout(rate=dropout_rate))\n",
        "  model.add(layers.Conv2D(32, kernel_size= (3,3), activation='relu', padding=\"same\"))\n",
        "  if dropout:\n",
        "      model.add(layers.Dropout(rate=dropout_rate))\n",
        "  model.add(layers.MaxPooling2D(pool_size=(2, 2), padding=\"same\"))\n",
        "  if dropout:\n",
        "      model.add(layers.Dropout(rate=dropout_rate))\n",
        "  model.add(layers.Conv2D(64,  kernel_size=(3,3), activation='relu', padding=\"same\"))\n",
        "  if dropout:\n",
        "      model.add(layers.Dropout(rate=dropout_rate))\n",
        "  model.add(layers.Conv2D(32,  kernel_size = (3,3), activation='relu', padding=\"same\"))\n",
        "  if dropout:\n",
        "      model.add(layers.Dropout(rate=dropout_rate))\n",
        "  model.add(layers.MaxPooling2D(pool_size=(2, 2), padding=\"same\"))\n",
        "  model.add(layers.Flatten())\n",
        "  model.add(layers.Dense(32, activation=\"relu\"))\n",
        "  if dropout:\n",
        "      model.add(layers.Dropout(rate=dropout_rate))\n",
        "  model.add(layers.Dense(32, activation=\"relu\"))\n",
        "  if dropout:\n",
        "      model.add(layers.Dropout(rate=dropout_rate))\n",
        "  model.add(layers.Dense(4, activation=\"softmax\"))\n",
        "\n",
        "  model.compile(optimizer=Adam(learning_rate = lr), \n",
        "                         loss=\"categorical_crossentropy\",\n",
        "                         metrics=['accuracy']\n",
        "                         )\n",
        "  return model\n",
        "\n",
        "\n",
        "\n",
        "def build_tuned_model(hp):\n",
        "  dropout_rate = hp.Float(\"lr\", min_value=0.01, max_value=0.99, step = 0.05)\n",
        "  # activation = hp.Choice(\"activation\", [\"relu\", \"tanh\"])\n",
        "  dropout = hp.Boolean(\"dropout\")\n",
        "  lr = hp.Choice(\"learning_rate\", values = [0.01,0.0001,0.1])\n",
        "  # call existing model-building code with the hyperparameter values.\n",
        "  model = tobe_tuned_model(\n",
        "       dropout=dropout, lr=lr , dropout_rate = dropout_rate\n",
        "  )\n",
        "  return model\n",
        "\n"
      ],
      "metadata": {
        "id": "ju6KU02WYlbp"
      },
      "execution_count": 13,
      "outputs": []
    },
    {
      "cell_type": "code",
      "source": [
        "1e-2"
      ],
      "metadata": {
        "colab": {
          "base_uri": "https://localhost:8080/"
        },
        "id": "PS4ChbUfumuz",
        "outputId": "cf74ad83-e8bd-4dea-c27e-6b0a37859567"
      },
      "execution_count": null,
      "outputs": [
        {
          "output_type": "execute_result",
          "data": {
            "text/plain": [
              "0.01"
            ]
          },
          "metadata": {},
          "execution_count": 8
        }
      ]
    },
    {
      "cell_type": "code",
      "source": [
        "\n",
        "build_tuned_model(keras_tuner.HyperParameters())"
      ],
      "metadata": {
        "colab": {
          "base_uri": "https://localhost:8080/",
          "height": 165
        },
        "id": "pHzFHXHzb-PB",
        "outputId": "ed19d91a-76ba-43de-aefa-f53537459431"
      },
      "execution_count": 11,
      "outputs": [
        {
          "output_type": "error",
          "ename": "NameError",
          "evalue": "ignored",
          "traceback": [
            "\u001b[0;31m---------------------------------------------------------------------------\u001b[0m",
            "\u001b[0;31mNameError\u001b[0m                                 Traceback (most recent call last)",
            "\u001b[0;32m<ipython-input-11-f53acd6dcf3f>\u001b[0m in \u001b[0;36m<module>\u001b[0;34m\u001b[0m\n\u001b[0;32m----> 1\u001b[0;31m \u001b[0mbuild_tuned_model\u001b[0m\u001b[0;34m(\u001b[0m\u001b[0mkeras_tuner\u001b[0m\u001b[0;34m.\u001b[0m\u001b[0mHyperParameters\u001b[0m\u001b[0;34m(\u001b[0m\u001b[0;34m)\u001b[0m\u001b[0;34m)\u001b[0m\u001b[0;34m\u001b[0m\u001b[0;34m\u001b[0m\u001b[0m\n\u001b[0m",
            "\u001b[0;31mNameError\u001b[0m: name 'keras_tuner' is not defined"
          ]
        }
      ]
    },
    {
      "cell_type": "code",
      "source": [
        "from tensorflow.keras.utils import set_random_seed\n",
        "set_random_seed(42)\n",
        "\n",
        "tuner = keras_tuner.RandomSearch(\n",
        "    hypermodel=build_tuned_model,\n",
        "    objective=\"val_accuracy\",\n",
        "    max_trials=10,\n",
        "    executions_per_trial=2,\n",
        "    overwrite=True,\n",
        "    directory=\"./Results and Models\",\n",
        "    project_name=\"KerasTunning\",\n",
        ")"
      ],
      "metadata": {
        "id": "p_SBTgbFePRT",
        "outputId": "2b07f8e3-025f-4ecd-c56b-00ef75d41b5d",
        "colab": {
          "base_uri": "https://localhost:8080/",
          "height": 235
        }
      },
      "execution_count": 12,
      "outputs": [
        {
          "output_type": "error",
          "ename": "NameError",
          "evalue": "ignored",
          "traceback": [
            "\u001b[0;31m---------------------------------------------------------------------------\u001b[0m",
            "\u001b[0;31mNameError\u001b[0m                                 Traceback (most recent call last)",
            "\u001b[0;32m<ipython-input-12-e415cd9e6476>\u001b[0m in \u001b[0;36m<module>\u001b[0;34m\u001b[0m\n\u001b[1;32m      2\u001b[0m \u001b[0mset_random_seed\u001b[0m\u001b[0;34m(\u001b[0m\u001b[0;36m42\u001b[0m\u001b[0;34m)\u001b[0m\u001b[0;34m\u001b[0m\u001b[0;34m\u001b[0m\u001b[0m\n\u001b[1;32m      3\u001b[0m \u001b[0;34m\u001b[0m\u001b[0m\n\u001b[0;32m----> 4\u001b[0;31m tuner = keras_tuner.RandomSearch(\n\u001b[0m\u001b[1;32m      5\u001b[0m     \u001b[0mhypermodel\u001b[0m\u001b[0;34m=\u001b[0m\u001b[0mbuild_tuned_model\u001b[0m\u001b[0;34m,\u001b[0m\u001b[0;34m\u001b[0m\u001b[0;34m\u001b[0m\u001b[0m\n\u001b[1;32m      6\u001b[0m     \u001b[0mobjective\u001b[0m\u001b[0;34m=\u001b[0m\u001b[0;34m\"val_accuracy\"\u001b[0m\u001b[0;34m,\u001b[0m\u001b[0;34m\u001b[0m\u001b[0;34m\u001b[0m\u001b[0m\n",
            "\u001b[0;31mNameError\u001b[0m: name 'keras_tuner' is not defined"
          ]
        }
      ]
    },
    {
      "cell_type": "code",
      "source": [
        "tuner.search(X_train, y_train, epochs=3, validation_data=(X_val, y_val))"
      ],
      "metadata": {
        "colab": {
          "base_uri": "https://localhost:8080/"
        },
        "id": "vejhwhSRel4y",
        "outputId": "baddeb7b-ea41-4dd3-ec01-7e19ac5f9278"
      },
      "execution_count": null,
      "outputs": [
        {
          "output_type": "stream",
          "name": "stdout",
          "text": [
            "Trial 5 Complete [00h 01m 14s]\n",
            "val_accuracy: 0.44140625\n",
            "\n",
            "Best val_accuracy So Far: 0.44140625\n",
            "Total elapsed time: 00h 07m 27s\n",
            "\n",
            "Search: Running Trial #6\n",
            "\n",
            "Value             |Best Value So Far |Hyperparameter\n",
            "0.76              |0.86              |lr\n",
            "False             |True              |dropout\n",
            "\n",
            "Epoch 1/3\n",
            "  6/120 [>.............................] - ETA: 8s - loss: 402923585536.0000 - accuracy: 0.3438"
          ]
        },
        {
          "output_type": "stream",
          "name": "stderr",
          "text": [
            "WARNING:tensorflow:Callback method `on_train_batch_end` is slow compared to the batch time (batch time: 0.0117s vs `on_train_batch_end` time: 0.0507s). Check your callbacks.\n"
          ]
        },
        {
          "output_type": "stream",
          "name": "stdout",
          "text": [
            "120/120 [==============================] - 11s 73ms/step - loss: 20146180096.0000 - accuracy: 0.3693 - val_loss: 1.2635 - val_accuracy: 0.4414\n",
            "Epoch 2/3\n",
            "120/120 [==============================] - 7s 61ms/step - loss: 1.2048 - accuracy: 0.3911 - val_loss: 1.1726 - val_accuracy: 0.4414\n",
            "Epoch 3/3\n",
            "120/120 [==============================] - 8s 63ms/step - loss: 1.1744 - accuracy: 0.4107 - val_loss: 1.2080 - val_accuracy: 0.2883\n",
            "Epoch 1/3\n",
            "  6/120 [>.............................] - ETA: 8s - loss: 448990412800.0000 - accuracy: 0.3490"
          ]
        },
        {
          "output_type": "stream",
          "name": "stderr",
          "text": [
            "WARNING:tensorflow:Callback method `on_train_batch_end` is slow compared to the batch time (batch time: 0.0129s vs `on_train_batch_end` time: 0.0478s). Check your callbacks.\n"
          ]
        },
        {
          "output_type": "stream",
          "name": "stdout",
          "text": [
            "120/120 [==============================] - 12s 69ms/step - loss: 22449520640.0000 - accuracy: 0.3982 - val_loss: 1.2762 - val_accuracy: 0.4414\n",
            "Epoch 2/3\n",
            "120/120 [==============================] - 7s 62ms/step - loss: 1.1743 - accuracy: 0.4143 - val_loss: 1.1742 - val_accuracy: 0.4414\n",
            "Epoch 3/3\n",
            "120/120 [==============================] - 7s 62ms/step - loss: 1.1752 - accuracy: 0.4089 - val_loss: 1.2008 - val_accuracy: 0.2883\n"
          ]
        }
      ]
    },
    {
      "cell_type": "code",
      "source": [
        "models = tuner.get_best_models(num_models=2)\n",
        "best_model = models[0]"
      ],
      "metadata": {
        "colab": {
          "base_uri": "https://localhost:8080/",
          "height": 345
        },
        "id": "XQ3henQ4g8Pt",
        "outputId": "5dc1bacf-0884-4fb7-88ff-62fe04193dfc"
      },
      "execution_count": null,
      "outputs": [
        {
          "output_type": "error",
          "ename": "AttributeError",
          "evalue": "ignored",
          "traceback": [
            "\u001b[0;31m---------------------------------------------------------------------------\u001b[0m",
            "\u001b[0;31mAttributeError\u001b[0m                            Traceback (most recent call last)",
            "\u001b[0;32m<ipython-input-24-7fff7493a374>\u001b[0m in \u001b[0;36m<module>\u001b[0;34m\u001b[0m\n\u001b[0;32m----> 1\u001b[0;31m \u001b[0mmodels\u001b[0m \u001b[0;34m=\u001b[0m \u001b[0mtuner\u001b[0m\u001b[0;34m.\u001b[0m\u001b[0mget_best_models\u001b[0m\u001b[0;34m(\u001b[0m\u001b[0mnum_models\u001b[0m\u001b[0;34m=\u001b[0m\u001b[0;36m2\u001b[0m\u001b[0;34m)\u001b[0m\u001b[0;34m\u001b[0m\u001b[0;34m\u001b[0m\u001b[0m\n\u001b[0m\u001b[1;32m      2\u001b[0m \u001b[0mbest_model\u001b[0m \u001b[0;34m=\u001b[0m \u001b[0mmodels\u001b[0m\u001b[0;34m[\u001b[0m\u001b[0;36m0\u001b[0m\u001b[0;34m]\u001b[0m\u001b[0;34m\u001b[0m\u001b[0;34m\u001b[0m\u001b[0m\n",
            "\u001b[0;32m/usr/local/lib/python3.8/dist-packages/keras_tuner/engine/tuner.py\u001b[0m in \u001b[0;36mget_best_models\u001b[0;34m(self, num_models)\u001b[0m\n\u001b[1;32m    364\u001b[0m         \"\"\"\n\u001b[1;32m    365\u001b[0m         \u001b[0;31m# Method only exists in this class for the docstring override.\u001b[0m\u001b[0;34m\u001b[0m\u001b[0;34m\u001b[0m\u001b[0;34m\u001b[0m\u001b[0m\n\u001b[0;32m--> 366\u001b[0;31m         \u001b[0;32mreturn\u001b[0m \u001b[0msuper\u001b[0m\u001b[0;34m(\u001b[0m\u001b[0;34m)\u001b[0m\u001b[0;34m.\u001b[0m\u001b[0mget_best_models\u001b[0m\u001b[0;34m(\u001b[0m\u001b[0mnum_models\u001b[0m\u001b[0;34m)\u001b[0m\u001b[0;34m\u001b[0m\u001b[0;34m\u001b[0m\u001b[0m\n\u001b[0m\u001b[1;32m    367\u001b[0m \u001b[0;34m\u001b[0m\u001b[0m\n\u001b[1;32m    368\u001b[0m     \u001b[0;32mdef\u001b[0m \u001b[0m_deepcopy_callbacks\u001b[0m\u001b[0;34m(\u001b[0m\u001b[0mself\u001b[0m\u001b[0;34m,\u001b[0m \u001b[0mcallbacks\u001b[0m\u001b[0;34m)\u001b[0m\u001b[0;34m:\u001b[0m\u001b[0;34m\u001b[0m\u001b[0;34m\u001b[0m\u001b[0m\n",
            "\u001b[0;32m/usr/local/lib/python3.8/dist-packages/keras_tuner/engine/base_tuner.py\u001b[0m in \u001b[0;36mget_best_models\u001b[0;34m(self, num_models)\u001b[0m\n\u001b[1;32m    358\u001b[0m         \"\"\"\n\u001b[1;32m    359\u001b[0m         \u001b[0mbest_trials\u001b[0m \u001b[0;34m=\u001b[0m \u001b[0mself\u001b[0m\u001b[0;34m.\u001b[0m\u001b[0moracle\u001b[0m\u001b[0;34m.\u001b[0m\u001b[0mget_best_trials\u001b[0m\u001b[0;34m(\u001b[0m\u001b[0mnum_models\u001b[0m\u001b[0;34m)\u001b[0m\u001b[0;34m\u001b[0m\u001b[0;34m\u001b[0m\u001b[0m\n\u001b[0;32m--> 360\u001b[0;31m         \u001b[0mmodels\u001b[0m \u001b[0;34m=\u001b[0m \u001b[0;34m[\u001b[0m\u001b[0mself\u001b[0m\u001b[0;34m.\u001b[0m\u001b[0mload_model\u001b[0m\u001b[0;34m(\u001b[0m\u001b[0mtrial\u001b[0m\u001b[0;34m)\u001b[0m \u001b[0;32mfor\u001b[0m \u001b[0mtrial\u001b[0m \u001b[0;32min\u001b[0m \u001b[0mbest_trials\u001b[0m\u001b[0;34m]\u001b[0m\u001b[0;34m\u001b[0m\u001b[0;34m\u001b[0m\u001b[0m\n\u001b[0m\u001b[1;32m    361\u001b[0m         \u001b[0;32mreturn\u001b[0m \u001b[0mmodels\u001b[0m\u001b[0;34m\u001b[0m\u001b[0;34m\u001b[0m\u001b[0m\n\u001b[1;32m    362\u001b[0m \u001b[0;34m\u001b[0m\u001b[0m\n",
            "\u001b[0;32m/usr/local/lib/python3.8/dist-packages/keras_tuner/engine/base_tuner.py\u001b[0m in \u001b[0;36m<listcomp>\u001b[0;34m(.0)\u001b[0m\n\u001b[1;32m    358\u001b[0m         \"\"\"\n\u001b[1;32m    359\u001b[0m         \u001b[0mbest_trials\u001b[0m \u001b[0;34m=\u001b[0m \u001b[0mself\u001b[0m\u001b[0;34m.\u001b[0m\u001b[0moracle\u001b[0m\u001b[0;34m.\u001b[0m\u001b[0mget_best_trials\u001b[0m\u001b[0;34m(\u001b[0m\u001b[0mnum_models\u001b[0m\u001b[0;34m)\u001b[0m\u001b[0;34m\u001b[0m\u001b[0;34m\u001b[0m\u001b[0m\n\u001b[0;32m--> 360\u001b[0;31m         \u001b[0mmodels\u001b[0m \u001b[0;34m=\u001b[0m \u001b[0;34m[\u001b[0m\u001b[0mself\u001b[0m\u001b[0;34m.\u001b[0m\u001b[0mload_model\u001b[0m\u001b[0;34m(\u001b[0m\u001b[0mtrial\u001b[0m\u001b[0;34m)\u001b[0m \u001b[0;32mfor\u001b[0m \u001b[0mtrial\u001b[0m \u001b[0;32min\u001b[0m \u001b[0mbest_trials\u001b[0m\u001b[0;34m]\u001b[0m\u001b[0;34m\u001b[0m\u001b[0;34m\u001b[0m\u001b[0m\n\u001b[0m\u001b[1;32m    361\u001b[0m         \u001b[0;32mreturn\u001b[0m \u001b[0mmodels\u001b[0m\u001b[0;34m\u001b[0m\u001b[0;34m\u001b[0m\u001b[0m\n\u001b[1;32m    362\u001b[0m \u001b[0;34m\u001b[0m\u001b[0m\n",
            "\u001b[0;32m/usr/local/lib/python3.8/dist-packages/keras_tuner/engine/tuner.py\u001b[0m in \u001b[0;36mload_model\u001b[0;34m(self, trial)\u001b[0m\n\u001b[1;32m    291\u001b[0m \u001b[0;34m\u001b[0m\u001b[0m\n\u001b[1;32m    292\u001b[0m     \u001b[0;32mdef\u001b[0m \u001b[0mload_model\u001b[0m\u001b[0;34m(\u001b[0m\u001b[0mself\u001b[0m\u001b[0;34m,\u001b[0m \u001b[0mtrial\u001b[0m\u001b[0;34m)\u001b[0m\u001b[0;34m:\u001b[0m\u001b[0;34m\u001b[0m\u001b[0;34m\u001b[0m\u001b[0m\n\u001b[0;32m--> 293\u001b[0;31m         \u001b[0mmodel\u001b[0m \u001b[0;34m=\u001b[0m \u001b[0mself\u001b[0m\u001b[0;34m.\u001b[0m\u001b[0m_try_build\u001b[0m\u001b[0;34m(\u001b[0m\u001b[0mtrial\u001b[0m\u001b[0;34m.\u001b[0m\u001b[0mhyperparameters\u001b[0m\u001b[0;34m)\u001b[0m\u001b[0;34m\u001b[0m\u001b[0;34m\u001b[0m\u001b[0m\n\u001b[0m\u001b[1;32m    294\u001b[0m         \u001b[0;31m# Reload best checkpoint.\u001b[0m\u001b[0;34m\u001b[0m\u001b[0;34m\u001b[0m\u001b[0;34m\u001b[0m\u001b[0m\n\u001b[1;32m    295\u001b[0m         \u001b[0;31m# Only load weights to avoid loading `custom_objects`.\u001b[0m\u001b[0;34m\u001b[0m\u001b[0;34m\u001b[0m\u001b[0;34m\u001b[0m\u001b[0m\n",
            "\u001b[0;32m/usr/local/lib/python3.8/dist-packages/keras_tuner/engine/tuner.py\u001b[0m in \u001b[0;36m_try_build\u001b[0;34m(self, hp)\u001b[0m\n\u001b[1;32m    153\u001b[0m         \u001b[0mgc\u001b[0m\u001b[0;34m.\u001b[0m\u001b[0mcollect\u001b[0m\u001b[0;34m(\u001b[0m\u001b[0;34m)\u001b[0m\u001b[0;34m\u001b[0m\u001b[0;34m\u001b[0m\u001b[0m\n\u001b[1;32m    154\u001b[0m \u001b[0;34m\u001b[0m\u001b[0m\n\u001b[0;32m--> 155\u001b[0;31m         \u001b[0mmodel\u001b[0m \u001b[0;34m=\u001b[0m \u001b[0mself\u001b[0m\u001b[0;34m.\u001b[0m\u001b[0m_build_hypermodel\u001b[0m\u001b[0;34m(\u001b[0m\u001b[0mhp\u001b[0m\u001b[0;34m)\u001b[0m\u001b[0;34m\u001b[0m\u001b[0;34m\u001b[0m\u001b[0m\n\u001b[0m\u001b[1;32m    156\u001b[0m         \u001b[0;31m# Stop if `build()` does not return a valid model.\u001b[0m\u001b[0;34m\u001b[0m\u001b[0;34m\u001b[0m\u001b[0;34m\u001b[0m\u001b[0m\n\u001b[1;32m    157\u001b[0m         \u001b[0;32mif\u001b[0m \u001b[0;32mnot\u001b[0m \u001b[0misinstance\u001b[0m\u001b[0;34m(\u001b[0m\u001b[0mmodel\u001b[0m\u001b[0;34m,\u001b[0m \u001b[0mkeras\u001b[0m\u001b[0;34m.\u001b[0m\u001b[0mmodels\u001b[0m\u001b[0;34m.\u001b[0m\u001b[0mModel\u001b[0m\u001b[0;34m)\u001b[0m\u001b[0;34m:\u001b[0m\u001b[0;34m\u001b[0m\u001b[0;34m\u001b[0m\u001b[0m\n",
            "\u001b[0;32m/usr/local/lib/python3.8/dist-packages/keras_tuner/engine/tuner.py\u001b[0m in \u001b[0;36m_build_hypermodel\u001b[0;34m(self, hp)\u001b[0m\n\u001b[1;32m    144\u001b[0m     \u001b[0;32mdef\u001b[0m \u001b[0m_build_hypermodel\u001b[0m\u001b[0;34m(\u001b[0m\u001b[0mself\u001b[0m\u001b[0;34m,\u001b[0m \u001b[0mhp\u001b[0m\u001b[0;34m)\u001b[0m\u001b[0;34m:\u001b[0m\u001b[0;34m\u001b[0m\u001b[0;34m\u001b[0m\u001b[0m\n\u001b[1;32m    145\u001b[0m         \u001b[0;32mwith\u001b[0m \u001b[0mmaybe_distribute\u001b[0m\u001b[0;34m(\u001b[0m\u001b[0mself\u001b[0m\u001b[0;34m.\u001b[0m\u001b[0mdistribution_strategy\u001b[0m\u001b[0;34m)\u001b[0m\u001b[0;34m:\u001b[0m\u001b[0;34m\u001b[0m\u001b[0;34m\u001b[0m\u001b[0m\n\u001b[0;32m--> 146\u001b[0;31m             \u001b[0mmodel\u001b[0m \u001b[0;34m=\u001b[0m \u001b[0mself\u001b[0m\u001b[0;34m.\u001b[0m\u001b[0mhypermodel\u001b[0m\u001b[0;34m.\u001b[0m\u001b[0mbuild\u001b[0m\u001b[0;34m(\u001b[0m\u001b[0mhp\u001b[0m\u001b[0;34m)\u001b[0m\u001b[0;34m\u001b[0m\u001b[0;34m\u001b[0m\u001b[0m\n\u001b[0m\u001b[1;32m    147\u001b[0m             \u001b[0mself\u001b[0m\u001b[0;34m.\u001b[0m\u001b[0m_override_compile_args\u001b[0m\u001b[0;34m(\u001b[0m\u001b[0mmodel\u001b[0m\u001b[0;34m)\u001b[0m\u001b[0;34m\u001b[0m\u001b[0;34m\u001b[0m\u001b[0m\n\u001b[1;32m    148\u001b[0m             \u001b[0;32mreturn\u001b[0m \u001b[0mmodel\u001b[0m\u001b[0;34m\u001b[0m\u001b[0;34m\u001b[0m\u001b[0m\n",
            "\u001b[0;32m<ipython-input-18-392c6d4e5436>\u001b[0m in \u001b[0;36mbuild_tuned_model\u001b[0;34m(hp)\u001b[0m\n\u001b[1;32m     45\u001b[0m   \u001b[0mlr\u001b[0m \u001b[0;34m=\u001b[0m \u001b[0mhp\u001b[0m\u001b[0;34m.\u001b[0m\u001b[0mFloat\u001b[0m\u001b[0;34m(\u001b[0m\u001b[0;34m\"lr\"\u001b[0m\u001b[0;34m,\u001b[0m \u001b[0mmin_value\u001b[0m\u001b[0;34m=\u001b[0m\u001b[0;36m1e-4\u001b[0m\u001b[0;34m,\u001b[0m \u001b[0mmax_value\u001b[0m\u001b[0;34m=\u001b[0m\u001b[0;36m1e-2\u001b[0m\u001b[0;34m,\u001b[0m \u001b[0msampling\u001b[0m\u001b[0;34m=\u001b[0m\u001b[0;34m\"log\"\u001b[0m\u001b[0;34m)\u001b[0m\u001b[0;34m\u001b[0m\u001b[0;34m\u001b[0m\u001b[0m\n\u001b[1;32m     46\u001b[0m   \u001b[0;31m# call existing model-building code with the hyperparameter values.\u001b[0m\u001b[0;34m\u001b[0m\u001b[0;34m\u001b[0m\u001b[0;34m\u001b[0m\u001b[0m\n\u001b[0;32m---> 47\u001b[0;31m   model = tobe_tuned_model(\n\u001b[0m\u001b[1;32m     48\u001b[0m        \u001b[0mdropout\u001b[0m\u001b[0;34m=\u001b[0m\u001b[0mdropout\u001b[0m\u001b[0;34m,\u001b[0m \u001b[0mlr\u001b[0m\u001b[0;34m=\u001b[0m\u001b[0mlr\u001b[0m \u001b[0;34m,\u001b[0m \u001b[0mdropout_rate\u001b[0m \u001b[0;34m=\u001b[0m \u001b[0mdropout_rates\u001b[0m\u001b[0;34m\u001b[0m\u001b[0;34m\u001b[0m\u001b[0m\n\u001b[1;32m     49\u001b[0m   )\n",
            "\u001b[0;32m<ipython-input-18-392c6d4e5436>\u001b[0m in \u001b[0;36mtobe_tuned_model\u001b[0;34m(dropout, lr, dropout_rate)\u001b[0m\n\u001b[1;32m      5\u001b[0m \u001b[0;31m## activation,\u001b[0m\u001b[0;34m\u001b[0m\u001b[0;34m\u001b[0m\u001b[0;34m\u001b[0m\u001b[0m\n\u001b[1;32m      6\u001b[0m \u001b[0;32mdef\u001b[0m \u001b[0mtobe_tuned_model\u001b[0m\u001b[0;34m(\u001b[0m  \u001b[0mdropout\u001b[0m\u001b[0;34m,\u001b[0m \u001b[0mlr\u001b[0m\u001b[0;34m,\u001b[0m \u001b[0mdropout_rate\u001b[0m\u001b[0;34m)\u001b[0m\u001b[0;34m:\u001b[0m \u001b[0;31m# which inputs should we have?\u001b[0m\u001b[0;34m\u001b[0m\u001b[0;34m\u001b[0m\u001b[0m\n\u001b[0;32m----> 7\u001b[0;31m   \u001b[0mmodel\u001b[0m \u001b[0;34m=\u001b[0m \u001b[0mmodels\u001b[0m\u001b[0;34m.\u001b[0m\u001b[0mSequential\u001b[0m\u001b[0;34m(\u001b[0m\u001b[0;34m)\u001b[0m\u001b[0;34m\u001b[0m\u001b[0;34m\u001b[0m\u001b[0m\n\u001b[0m\u001b[1;32m      8\u001b[0m   \u001b[0mmodel\u001b[0m\u001b[0;34m.\u001b[0m\u001b[0madd\u001b[0m\u001b[0;34m(\u001b[0m\u001b[0mlayers\u001b[0m\u001b[0;34m.\u001b[0m\u001b[0mConv2D\u001b[0m\u001b[0;34m(\u001b[0m\u001b[0;36m64\u001b[0m\u001b[0;34m,\u001b[0m \u001b[0mkernel_size\u001b[0m\u001b[0;34m=\u001b[0m \u001b[0;34m(\u001b[0m\u001b[0;36m3\u001b[0m\u001b[0;34m,\u001b[0m\u001b[0;36m3\u001b[0m\u001b[0;34m)\u001b[0m\u001b[0;34m,\u001b[0m \u001b[0mactivation\u001b[0m\u001b[0;34m=\u001b[0m\u001b[0;34m'relu'\u001b[0m\u001b[0;34m,\u001b[0m \u001b[0minput_shape\u001b[0m \u001b[0;34m=\u001b[0m \u001b[0;34m(\u001b[0m\u001b[0;36m156\u001b[0m\u001b[0;34m,\u001b[0m\u001b[0;36m156\u001b[0m\u001b[0;34m,\u001b[0m\u001b[0;36m3\u001b[0m\u001b[0;34m)\u001b[0m\u001b[0;34m,\u001b[0m \u001b[0mpadding\u001b[0m\u001b[0;34m=\u001b[0m\u001b[0;34m\"same\"\u001b[0m\u001b[0;34m)\u001b[0m\u001b[0;34m)\u001b[0m\u001b[0;34m\u001b[0m\u001b[0;34m\u001b[0m\u001b[0m\n\u001b[1;32m      9\u001b[0m   \u001b[0;32mif\u001b[0m \u001b[0mdropout\u001b[0m\u001b[0;34m:\u001b[0m\u001b[0;34m\u001b[0m\u001b[0;34m\u001b[0m\u001b[0m\n",
            "\u001b[0;31mAttributeError\u001b[0m: 'list' object has no attribute 'Sequential'"
          ]
        }
      ]
    },
    {
      "cell_type": "code",
      "source": [
        "models[0].su\n"
      ],
      "metadata": {
        "colab": {
          "base_uri": "https://localhost:8080/"
        },
        "id": "zYkdCdhMkrhP",
        "outputId": "90e66e81-f3b3-431f-cff2-94a8fc91e4cb"
      },
      "execution_count": null,
      "outputs": [
        {
          "output_type": "execute_result",
          "data": {
            "text/plain": [
              "<keras.engine.sequential.Sequential at 0x7f390452d100>"
            ]
          },
          "metadata": {},
          "execution_count": 26
        }
      ]
    },
    {
      "cell_type": "code",
      "source": [
        "best_model.summary()"
      ],
      "metadata": {
        "colab": {
          "base_uri": "https://localhost:8080/"
        },
        "id": "4-sX0_EJidlm",
        "outputId": "e9c1712d-d5ba-4400-d4e6-580742f01475"
      },
      "execution_count": null,
      "outputs": [
        {
          "output_type": "stream",
          "name": "stdout",
          "text": [
            "Model: \"sequential\"\n",
            "_________________________________________________________________\n",
            " Layer (type)                Output Shape              Param #   \n",
            "=================================================================\n",
            " conv2d (Conv2D)             (None, 156, 156, 256)     7168      \n",
            "                                                                 \n",
            " conv2d_1 (Conv2D)           (None, 156, 156, 256)     590080    \n",
            "                                                                 \n",
            " max_pooling2d (MaxPooling2D  (None, 78, 78, 256)      0         \n",
            " )                                                               \n",
            "                                                                 \n",
            " conv2d_2 (Conv2D)           (None, 78, 78, 256)       590080    \n",
            "                                                                 \n",
            " conv2d_3 (Conv2D)           (None, 78, 78, 256)       590080    \n",
            "                                                                 \n",
            " max_pooling2d_1 (MaxPooling  (None, 39, 39, 256)      0         \n",
            " 2D)                                                             \n",
            "                                                                 \n",
            " flatten (Flatten)           (None, 389376)            0         \n",
            "                                                                 \n",
            " dense (Dense)               (None, 256)               99680512  \n",
            "                                                                 \n",
            " dense_1 (Dense)             (None, 256)               65792     \n",
            "                                                                 \n",
            " dense_2 (Dense)             (None, 4)                 1028      \n",
            "                                                                 \n",
            "=================================================================\n",
            "Total params: 101,524,740\n",
            "Trainable params: 101,524,740\n",
            "Non-trainable params: 0\n",
            "_________________________________________________________________\n"
          ]
        }
      ]
    },
    {
      "cell_type": "code",
      "source": [
        "tuner.results_summary()"
      ],
      "metadata": {
        "colab": {
          "base_uri": "https://localhost:8080/"
        },
        "id": "2J5h0LusjLKN",
        "outputId": "5e46d2ce-37cc-4f37-f9f8-431bdcd379a2"
      },
      "execution_count": null,
      "outputs": [
        {
          "output_type": "stream",
          "name": "stdout",
          "text": [
            "Results summary\n",
            "Results in ./Results and Models/KerasTunning\n",
            "Showing 10 best trials\n",
            "<keras_tuner.engine.objective.Objective object at 0x7f39813960d0>\n",
            "Trial summary\n",
            "Hyperparameters:\n",
            "lr: 0.25088980607698896\n",
            "dropout: True\n",
            "Score: 0.44140625\n",
            "Trial summary\n",
            "Hyperparameters:\n",
            "lr: 0.45526324057934864\n",
            "dropout: False\n",
            "Score: 0.44140625\n",
            "Trial summary\n",
            "Hyperparameters:\n",
            "lr: 0.8564498147065648\n",
            "dropout: True\n",
            "Score: 0.44140625\n"
          ]
        }
      ]
    },
    {
      "cell_type": "markdown",
      "metadata": {
        "id": "CBGr0x8ZcFn9"
      },
      "source": [
        "# Transfer Learning"
      ]
    },
    {
      "cell_type": "code",
      "source": [],
      "metadata": {
        "id": "BNBboygVg8l7"
      },
      "execution_count": null,
      "outputs": []
    },
    {
      "cell_type": "code",
      "execution_count": null,
      "metadata": {
        "id": "fn_WnCfDcFyD"
      },
      "outputs": [],
      "source": []
    }
  ],
  "metadata": {
    "accelerator": "GPU",
    "colab": {
      "provenance": [],
      "include_colab_link": true
    },
    "gpuClass": "standard",
    "kernelspec": {
      "display_name": "Python 3",
      "name": "python3"
    },
    "language_info": {
      "name": "python"
    }
  },
  "nbformat": 4,
  "nbformat_minor": 0
}